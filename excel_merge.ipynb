{
 "cells": [
  {
   "cell_type": "code",
   "execution_count": 1,
   "metadata": {},
   "outputs": [],
   "source": [
    "import pandas as pd"
   ]
  },
  {
   "cell_type": "code",
   "execution_count": 2,
   "metadata": {},
   "outputs": [],
   "source": [
    "sht1 = pd.read_excel(r\"source.xlsx\", sheet_name=\"Sheet1\")\n",
    "sht2 = pd.read_excel(r\"source.xlsx\", sheet_name=\"Sheet2\")"
   ]
  },
  {
   "cell_type": "code",
   "execution_count": 3,
   "metadata": {},
   "outputs": [
    {
     "data": {
      "text/html": [
       "<div>\n",
       "<style scoped>\n",
       "    .dataframe tbody tr th:only-of-type {\n",
       "        vertical-align: middle;\n",
       "    }\n",
       "\n",
       "    .dataframe tbody tr th {\n",
       "        vertical-align: top;\n",
       "    }\n",
       "\n",
       "    .dataframe thead th {\n",
       "        text-align: right;\n",
       "    }\n",
       "</style>\n",
       "<table border=\"1\" class=\"dataframe\">\n",
       "  <thead>\n",
       "    <tr style=\"text-align: right;\">\n",
       "      <th></th>\n",
       "      <th>文书字轨</th>\n",
       "      <th>实缴罚款合计</th>\n",
       "      <th>Unnamed: 2</th>\n",
       "      <th>文书字轨.1</th>\n",
       "      <th>实缴罚款合计.1</th>\n",
       "      <th>Unnamed: 5</th>\n",
       "      <th>文书字轨.2</th>\n",
       "      <th>实缴罚款合计.2</th>\n",
       "    </tr>\n",
       "  </thead>\n",
       "  <tbody>\n",
       "    <tr>\n",
       "      <th>0</th>\n",
       "      <td>同云冈税新平旺 罚 〔2019〕 1 号</td>\n",
       "      <td>200.0</td>\n",
       "      <td>NaN</td>\n",
       "      <td>同云冈税 简罚 〔2018〕 1762 号</td>\n",
       "      <td>200.0</td>\n",
       "      <td>NaN</td>\n",
       "      <td>同云冈税一局 简罚 〔2020〕 329 号</td>\n",
       "      <td>200.0</td>\n",
       "    </tr>\n",
       "    <tr>\n",
       "      <th>1</th>\n",
       "      <td>同云冈税新平旺 罚 〔2019〕 2 号</td>\n",
       "      <td>200.0</td>\n",
       "      <td>NaN</td>\n",
       "      <td>同云冈税 简罚 〔2018〕 1756 号</td>\n",
       "      <td>100.0</td>\n",
       "      <td>NaN</td>\n",
       "      <td>同云冈税一局 简罚 〔2020〕 331 号</td>\n",
       "      <td>50.0</td>\n",
       "    </tr>\n",
       "    <tr>\n",
       "      <th>2</th>\n",
       "      <td>同云冈税新平旺 罚 〔2019〕 3 号</td>\n",
       "      <td>200.0</td>\n",
       "      <td>NaN</td>\n",
       "      <td>同云冈税 简罚 〔2018〕 1750 号</td>\n",
       "      <td>500.0</td>\n",
       "      <td>NaN</td>\n",
       "      <td>同云冈税一局 简罚 〔2020〕 332 号</td>\n",
       "      <td>200.0</td>\n",
       "    </tr>\n",
       "    <tr>\n",
       "      <th>3</th>\n",
       "      <td>同云冈税新平旺 罚 〔2018〕 1 号</td>\n",
       "      <td>400.0</td>\n",
       "      <td>NaN</td>\n",
       "      <td>同云冈税 简罚 〔2018〕 1760 号</td>\n",
       "      <td>200.0</td>\n",
       "      <td>NaN</td>\n",
       "      <td>同云冈税一局 简罚 〔2020〕 333 号</td>\n",
       "      <td>50.0</td>\n",
       "    </tr>\n",
       "    <tr>\n",
       "      <th>4</th>\n",
       "      <td>同云冈税同家梁 罚 〔2019〕 1000001 号</td>\n",
       "      <td>500.0</td>\n",
       "      <td>NaN</td>\n",
       "      <td>同云冈税 简罚 〔2018〕 1749 号</td>\n",
       "      <td>300.0</td>\n",
       "      <td>NaN</td>\n",
       "      <td>同云冈税一局 简罚 〔2020〕 334 号</td>\n",
       "      <td>50.0</td>\n",
       "    </tr>\n",
       "  </tbody>\n",
       "</table>\n",
       "</div>"
      ],
      "text/plain": [
       "                         文书字轨  实缴罚款合计  Unnamed: 2                 文书字轨.1  \\\n",
       "0        同云冈税新平旺 罚 〔2019〕 1 号   200.0         NaN  同云冈税 简罚 〔2018〕 1762 号   \n",
       "1        同云冈税新平旺 罚 〔2019〕 2 号   200.0         NaN  同云冈税 简罚 〔2018〕 1756 号   \n",
       "2        同云冈税新平旺 罚 〔2019〕 3 号   200.0         NaN  同云冈税 简罚 〔2018〕 1750 号   \n",
       "3        同云冈税新平旺 罚 〔2018〕 1 号   400.0         NaN  同云冈税 简罚 〔2018〕 1760 号   \n",
       "4  同云冈税同家梁 罚 〔2019〕 1000001 号   500.0         NaN  同云冈税 简罚 〔2018〕 1749 号   \n",
       "\n",
       "   实缴罚款合计.1  Unnamed: 5                  文书字轨.2  实缴罚款合计.2  \n",
       "0     200.0         NaN  同云冈税一局 简罚 〔2020〕 329 号     200.0  \n",
       "1     100.0         NaN  同云冈税一局 简罚 〔2020〕 331 号      50.0  \n",
       "2     500.0         NaN  同云冈税一局 简罚 〔2020〕 332 号     200.0  \n",
       "3     200.0         NaN  同云冈税一局 简罚 〔2020〕 333 号      50.0  \n",
       "4     300.0         NaN  同云冈税一局 简罚 〔2020〕 334 号      50.0  "
      ]
     },
     "execution_count": 3,
     "metadata": {},
     "output_type": "execute_result"
    }
   ],
   "source": [
    "sht1.head()"
   ]
  },
  {
   "cell_type": "code",
   "execution_count": 4,
   "metadata": {},
   "outputs": [
    {
     "data": {
      "text/html": [
       "<div>\n",
       "<style scoped>\n",
       "    .dataframe tbody tr th:only-of-type {\n",
       "        vertical-align: middle;\n",
       "    }\n",
       "\n",
       "    .dataframe tbody tr th {\n",
       "        vertical-align: top;\n",
       "    }\n",
       "\n",
       "    .dataframe thead th {\n",
       "        text-align: right;\n",
       "    }\n",
       "</style>\n",
       "<table border=\"1\" class=\"dataframe\">\n",
       "  <thead>\n",
       "    <tr style=\"text-align: right;\">\n",
       "      <th></th>\n",
       "      <th>number</th>\n",
       "      <th>fine</th>\n",
       "    </tr>\n",
       "  </thead>\n",
       "  <tbody>\n",
       "    <tr>\n",
       "      <th>0</th>\n",
       "      <td>同云冈税平旺简罚﹝2019﹞1000101号</td>\n",
       "      <td></td>\n",
       "    </tr>\n",
       "    <tr>\n",
       "      <th>1</th>\n",
       "      <td>同云冈税一局简罚﹝2019﹞1000199号</td>\n",
       "      <td></td>\n",
       "    </tr>\n",
       "    <tr>\n",
       "      <th>2</th>\n",
       "      <td>同云冈税一局简罚﹝2019﹞1000278号</td>\n",
       "      <td></td>\n",
       "    </tr>\n",
       "    <tr>\n",
       "      <th>3</th>\n",
       "      <td>同云冈税一局简罚﹝2019﹞1000272号</td>\n",
       "      <td></td>\n",
       "    </tr>\n",
       "    <tr>\n",
       "      <th>4</th>\n",
       "      <td>同云冈税西韩岭简罚﹝2019﹞1000162号</td>\n",
       "      <td></td>\n",
       "    </tr>\n",
       "  </tbody>\n",
       "</table>\n",
       "</div>"
      ],
      "text/plain": [
       "                    number fine\n",
       "0   同云冈税平旺简罚﹝2019﹞1000101号     \n",
       "1   同云冈税一局简罚﹝2019﹞1000199号     \n",
       "2   同云冈税一局简罚﹝2019﹞1000278号     \n",
       "3   同云冈税一局简罚﹝2019﹞1000272号     \n",
       "4  同云冈税西韩岭简罚﹝2019﹞1000162号     "
      ]
     },
     "execution_count": 4,
     "metadata": {},
     "output_type": "execute_result"
    }
   ],
   "source": [
    "sht2.head()"
   ]
  },
  {
   "cell_type": "code",
   "execution_count": 5,
   "metadata": {},
   "outputs": [
    {
     "data": {
      "text/plain": [
       "(5000, 8)"
      ]
     },
     "execution_count": 5,
     "metadata": {},
     "output_type": "execute_result"
    }
   ],
   "source": [
    "sht1.shape"
   ]
  },
  {
   "cell_type": "code",
   "execution_count": 6,
   "metadata": {},
   "outputs": [
    {
     "data": {
      "text/plain": [
       "(4266, 2)"
      ]
     },
     "execution_count": 6,
     "metadata": {},
     "output_type": "execute_result"
    }
   ],
   "source": [
    "sht2.shape"
   ]
  },
  {
   "cell_type": "code",
   "execution_count": 7,
   "metadata": {},
   "outputs": [],
   "source": [
    "# 读取第n列\n",
    "def read_col(df, n):   \n",
    "    data = df.iloc[:, n-1].values\n",
    "    return data\n",
    "#     print(data)\n",
    "#     print(len(data))\n"
   ]
  },
  {
   "cell_type": "code",
   "execution_count": 8,
   "metadata": {},
   "outputs": [],
   "source": [
    "import re\n",
    "# 生成dataFrame\n",
    "def write_excel():\n",
    "    key = []\n",
    "    value = []\n",
    "    col0 = [1, 4, 7]\n",
    "    col1 = [2, 5, 8]\n",
    "    for k in col0:\n",
    "        for kk in read_col(sht1, k):\n",
    "            # replace multiple spaces to one\n",
    "#             print(type(kk))\n",
    "#             kk = re.sub(r'\\s+',' ',kk)\n",
    "            key.append(kk)\n",
    "\n",
    "    for v in col1:\n",
    "        for vv in read_col(sht1,v):\n",
    "            value.append(vv)\n",
    "    d = {}\n",
    "    for i in range(0, len(key)):\n",
    "        d[key[i]] = value[i]\n",
    "\n",
    "    data = pd.DataFrame({'文书字轨': list(d.keys()), '实缴罚款合计': list(d.values())})\n",
    "    \n",
    "    return data"
   ]
  },
  {
   "cell_type": "code",
   "execution_count": 9,
   "metadata": {},
   "outputs": [],
   "source": [
    "def write_excel2():\n",
    "    v = []\n",
    "    df1 = write_excel()\n",
    "    for kk in read_col(sht2,1):\n",
    "        kk = kk.replace('〔', '〔')\n",
    "        kk = kk.replace('〕', '〕')\n",
    "        for k in df1.iloc[:, 0]:\n",
    "            if type(k)==str and type(kk)==str:\n",
    "                tmp = k\n",
    "                if k.replace(' ','') == kk.replace(' ', ''):\n",
    "                    v.append(tmp)\n",
    "                    break\n",
    "        else:\n",
    "            v.append(kk)\n",
    "    data = pd.DataFrame({'number': v, 'fine': 0})\n",
    "    return data"
   ]
  },
  {
   "cell_type": "code",
   "execution_count": 10,
   "metadata": {},
   "outputs": [],
   "source": [
    "output1 = write_excel()"
   ]
  },
  {
   "cell_type": "code",
   "execution_count": 11,
   "metadata": {},
   "outputs": [],
   "source": [
    "output2 = write_excel2()"
   ]
  },
  {
   "cell_type": "code",
   "execution_count": 12,
   "metadata": {},
   "outputs": [
    {
     "name": "stderr",
     "output_type": "stream",
     "text": [
      "E:\\Software\\Anaconda3\\lib\\site-packages\\xlsxwriter\\workbook.py:329: UserWarning: Calling close() on already closed file.\n",
      "  warn(\"Calling close() on already closed file.\")\n"
     ]
    }
   ],
   "source": [
    "writer = pd.ExcelWriter('merged.xlsx', engine = 'xlsxwriter')\n",
    "output1.to_excel(writer, sheet_name = 'Sheet1')\n",
    "output2.to_excel(writer, sheet_name = 'Sheet2')\n",
    "writer.save()\n",
    "writer.close()"
   ]
  },
  {
   "cell_type": "code",
   "execution_count": null,
   "metadata": {},
   "outputs": [],
   "source": []
  }
 ],
 "metadata": {
  "kernelspec": {
   "display_name": "Python 3",
   "language": "python",
   "name": "python3"
  },
  "language_info": {
   "codemirror_mode": {
    "name": "ipython",
    "version": 3
   },
   "file_extension": ".py",
   "mimetype": "text/x-python",
   "name": "python",
   "nbconvert_exporter": "python",
   "pygments_lexer": "ipython3",
   "version": "3.8.5"
  },
  "toc": {
   "base_numbering": 1,
   "nav_menu": {},
   "number_sections": true,
   "sideBar": true,
   "skip_h1_title": false,
   "title_cell": "Table of Contents",
   "title_sidebar": "Contents",
   "toc_cell": false,
   "toc_position": {},
   "toc_section_display": true,
   "toc_window_display": false
  }
 },
 "nbformat": 4,
 "nbformat_minor": 4
}
