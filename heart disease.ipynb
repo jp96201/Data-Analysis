{
 "cells": [
  {
   "cell_type": "markdown",
   "metadata": {},
   "source": [
    "# Heart Disease Prediction Using Spark"
   ]
  },
  {
   "cell_type": "markdown",
   "metadata": {},
   "source": [
    "## Import Data"
   ]
  },
  {
   "cell_type": "code",
   "execution_count": 171,
   "metadata": {},
   "outputs": [],
   "source": [
    "# Must be included at the beginning of each new notebook.\n",
    "import findspark\n",
    "findspark.init('/home/ubuntu/spark-2.1.1-bin-hadoop2.7')\n",
    "import pyspark\n",
    "from pyspark.sql import SparkSession\n",
    "spark = SparkSession.builder.appName('heart').getOrCreate()"
   ]
  },
  {
   "cell_type": "code",
   "execution_count": 172,
   "metadata": {},
   "outputs": [
    {
     "name": "stdout",
     "output_type": "stream",
     "text": [
      "root\n",
      " |-- age: integer (nullable = true)\n",
      " |-- sex: integer (nullable = true)\n",
      " |-- cp: integer (nullable = true)\n",
      " |-- trestbps: integer (nullable = true)\n",
      " |-- chol: integer (nullable = true)\n",
      " |-- fbs: integer (nullable = true)\n",
      " |-- restecg: integer (nullable = true)\n",
      " |-- thalach: integer (nullable = true)\n",
      " |-- exang: integer (nullable = true)\n",
      " |-- oldpeak: double (nullable = true)\n",
      " |-- slope: integer (nullable = true)\n",
      " |-- ca: integer (nullable = true)\n",
      " |-- thal: integer (nullable = true)\n",
      " |-- target: integer (nullable = true)\n",
      "\n"
     ]
    }
   ],
   "source": [
    "# Let's read in the data. Note that it's in the format of CSV.\n",
    "df = spark.read.csv('Datasets/heart.csv',inferSchema=True, header=True)\n",
    "df.printSchema()"
   ]
  },
  {
   "cell_type": "code",
   "execution_count": 173,
   "metadata": {},
   "outputs": [
    {
     "name": "stdout",
     "output_type": "stream",
     "text": [
      "+---+---+---+--------+----+---+-------+-------+-----+-------+-----+---+----+------+\n",
      "|age|sex| cp|trestbps|chol|fbs|restecg|thalach|exang|oldpeak|slope| ca|thal|target|\n",
      "+---+---+---+--------+----+---+-------+-------+-----+-------+-----+---+----+------+\n",
      "| 63|  1|  3|     145| 233|  1|      0|    150|    0|    2.3|    0|  0|   1|     1|\n",
      "| 37|  1|  2|     130| 250|  0|      1|    187|    0|    3.5|    0|  0|   2|     1|\n",
      "| 41|  0|  1|     130| 204|  0|      0|    172|    0|    1.4|    2|  0|   2|     1|\n",
      "| 56|  1|  1|     120| 236|  0|      1|    178|    0|    0.8|    2|  0|   2|     1|\n",
      "| 57|  0|  0|     120| 354|  0|      1|    163|    1|    0.6|    2|  0|   2|     1|\n",
      "| 57|  1|  0|     140| 192|  0|      1|    148|    0|    0.4|    1|  0|   1|     1|\n",
      "| 56|  0|  1|     140| 294|  0|      0|    153|    0|    1.3|    1|  0|   2|     1|\n",
      "| 44|  1|  1|     120| 263|  0|      1|    173|    0|    0.0|    2|  0|   3|     1|\n",
      "| 52|  1|  2|     172| 199|  1|      1|    162|    0|    0.5|    2|  0|   3|     1|\n",
      "| 57|  1|  2|     150| 168|  0|      1|    174|    0|    1.6|    2|  0|   2|     1|\n",
      "| 54|  1|  0|     140| 239|  0|      1|    160|    0|    1.2|    2|  0|   2|     1|\n",
      "| 48|  0|  2|     130| 275|  0|      1|    139|    0|    0.2|    2|  0|   2|     1|\n",
      "| 49|  1|  1|     130| 266|  0|      1|    171|    0|    0.6|    2|  0|   2|     1|\n",
      "| 64|  1|  3|     110| 211|  0|      0|    144|    1|    1.8|    1|  0|   2|     1|\n",
      "| 58|  0|  3|     150| 283|  1|      0|    162|    0|    1.0|    2|  0|   2|     1|\n",
      "| 50|  0|  2|     120| 219|  0|      1|    158|    0|    1.6|    1|  0|   2|     1|\n",
      "| 58|  0|  2|     120| 340|  0|      1|    172|    0|    0.0|    2|  0|   2|     1|\n",
      "| 66|  0|  3|     150| 226|  0|      1|    114|    0|    2.6|    0|  0|   2|     1|\n",
      "| 43|  1|  0|     150| 247|  0|      1|    171|    0|    1.5|    2|  0|   2|     1|\n",
      "| 69|  0|  3|     140| 239|  0|      1|    151|    0|    1.8|    2|  2|   2|     1|\n",
      "+---+---+---+--------+----+---+-------+-------+-----+-------+-----+---+----+------+\n",
      "only showing top 20 rows\n",
      "\n"
     ]
    }
   ],
   "source": [
    "# Let's get a better look at the data.\n",
    "# We know that we can show a DataFrame, but that's resulted in a mess! \n",
    "df.show()"
   ]
  },
  {
   "cell_type": "code",
   "execution_count": 174,
   "metadata": {},
   "outputs": [
    {
     "data": {
      "text/plain": [
       "[Row(age=63, sex=1, cp=3, trestbps=145, chol=233, fbs=1, restecg=0, thalach=150, exang=0, oldpeak=2.3, slope=0, ca=0, thal=1, target=1)]"
      ]
     },
     "execution_count": 174,
     "metadata": {},
     "output_type": "execute_result"
    }
   ],
   "source": [
    "# Instead, let's just grab the first row. Much neater! \n",
    "df.head(1)"
   ]
  },
  {
   "cell_type": "code",
   "execution_count": 175,
   "metadata": {},
   "outputs": [
    {
     "name": "stdout",
     "output_type": "stream",
     "text": [
      "(303, 14)\n"
     ]
    }
   ],
   "source": [
    "print((df.count(), len(df.columns)))"
   ]
  },
  {
   "cell_type": "markdown",
   "metadata": {},
   "source": [
    "## Data Exploration"
   ]
  },
  {
   "cell_type": "markdown",
   "metadata": {},
   "source": [
    "### Distribution of Patient Age"
   ]
  },
  {
   "cell_type": "code",
   "execution_count": 176,
   "metadata": {
    "scrolled": true
   },
   "outputs": [
    {
     "name": "stdout",
     "output_type": "stream",
     "text": [
      "+------------------+\n",
      "|          avg(age)|\n",
      "+------------------+\n",
      "|54.366336633663366|\n",
      "+------------------+\n",
      "\n"
     ]
    }
   ],
   "source": [
    "df.agg({\"age\":\"mean\"}).show()"
   ]
  },
  {
   "cell_type": "code",
   "execution_count": 177,
   "metadata": {},
   "outputs": [
    {
     "data": {
      "image/png": "[encoded data removed]",
      "text/plain": [
       "<Figure size 432x288 with 1 Axes>"
      ]
     },
     "metadata": {},
     "output_type": "display_data"
    },
    {
     "data": {
      "image/png": "[encoded data removed]",
      "text/plain": [
       "<Figure size 432x288 with 1 Axes>"
      ]
     },
     "metadata": {},
     "output_type": "display_data"
    }
   ],
   "source": [
    "# Import the relevant Python libraries.\n",
    "import numpy as np\n",
    "import matplotlib.pyplot as plt\n",
    "%matplotlib inline\n",
    "\n",
    "# Convert age to an array using Numpy and plot it using pyplot. \n",
    "ageArr = np.array(df.select('age').collect())\n",
    "plt.hist(ageArr)\n",
    "plt.show()\n",
    "\n",
    "# Because you can interact with Spark using SQL, you can also filter the data you see. \n",
    "# For example, age has some null values. We can remove all null values before visualising the data.\n",
    "ageArr = np.array(df.filter('Age > 0').select('Age').collect())\n",
    "plt.hist(ageArr)\n",
    "plt.show()"
   ]
  },
  {
   "cell_type": "code",
   "execution_count": 178,
   "metadata": {},
   "outputs": [
    {
     "data": {
      "image/png": "[encoded data removed]",
      "text/plain": [
       "<Figure size 432x288 with 1 Axes>"
      ]
     },
     "metadata": {},
     "output_type": "display_data"
    }
   ],
   "source": [
    "plt.boxplot(ageArr)\n",
    "plt.show()"
   ]
  },
  {
   "cell_type": "code",
   "execution_count": 179,
   "metadata": {},
   "outputs": [
    {
     "data": {
      "image/png": "[encoded data removed]",
      "text/plain": [
       "<Figure size 432x288 with 1 Axes>"
      ]
     },
     "metadata": {},
     "output_type": "display_data"
    }
   ],
   "source": [
    "df.createOrReplaceTempView('heart')\n",
    "\n",
    "age0 = spark.sql(\"SELECT age FROM heart WHERE target = 0\")\n",
    "age0Arr = np.array(age0.collect())\n",
    "age1 = spark.sql(\"SELECT age FROM heart WHERE target = 1\")\n",
    "age1Arr = np.array(age1.collect())\n",
    "\n",
    "## combine these different collections into a list\n",
    "data_to_plot = [age0Arr, age1Arr]\n",
    "\n",
    "# Create a figure instance\n",
    "fig = plt.figure()\n",
    "\n",
    "# Create an axes instance\n",
    "ax = fig.add_axes([0,0,1,1])\n",
    "\n",
    "# Create the boxplot\n",
    "bp = ax.violinplot(data_to_plot)\n",
    "plt.show()"
   ]
  },
  {
   "cell_type": "code",
   "execution_count": 180,
   "metadata": {},
   "outputs": [],
   "source": [
    "import pandas as pd"
   ]
  },
  {
   "cell_type": "code",
   "execution_count": 181,
   "metadata": {},
   "outputs": [],
   "source": [
    "from tabulate import tabulate as tabulate\n",
    "def violin_stats(x,y,sparkdf):\n",
    "    df0 = sparkdf.toPandas()\n",
    "    df1 = df0.loc[df0[x] == 0] #the blue violin\n",
    "    df2 = df0.loc[df0[x] == 1] #the orange violin\n",
    "\n",
    "    interval = 0.95\n",
    "    start = (1-interval)/2*100\n",
    "    end = 100-start\n",
    "    \n",
    "    value1 = round(np.percentile(df1[y], start),2)\n",
    "    value2 = round(np.percentile(df1[y], end),2)\n",
    "    std1 = round(np.std(df1[y]),4)\n",
    "    skew1 = round(df1[y].skew(),2)\n",
    "    mean1 = round(np.mean(df1[y]),2)\n",
    "    min1 = round(np.min(df1[y]),2)\n",
    "    max1 = round(np.max(df1[y]),2)\n",
    "    median1 = round(np.median(df1[y]),2)\n",
    "    value_1 = round(np.percentile(df2[y], start),2)\n",
    "    value_2 = round(np.percentile(df2[y], end),2)\n",
    "    std2 = round(np.std(df2[y]),2)\n",
    "    skew2 = round(df2[y].skew(),2)\n",
    "    mean2 = round(np.mean(df2[y]),2)\n",
    "    min2 = round(np.min(df2[y]),2)\n",
    "    max2 = round(np.max(df2[y]),2)\n",
    "    median2 = round(np.median(df2[y]),2)\n",
    "    print(tabulate([['0',(value1,value2),std1,skew1,mean1,min1,max1,median1], ['1',(value_1,value_2),std2,skew2,mean2,min2,max2,median2]], headers=['target', '95% interval','Standard deviation','Skewness','Mean','Min','Max','Median']))"
   ]
  },
  {
   "cell_type": "code",
   "execution_count": 182,
   "metadata": {},
   "outputs": [
    {
     "name": "stdout",
     "output_type": "stream",
     "text": [
      "  target  95% interval      Standard deviation    Skewness    Mean    Min    Max    Median\n",
      "--------  --------------  --------------------  ----------  ------  -----  -----  --------\n",
      "       0  (39.43, 69.57)                7.9332       -0.55    56.6     35     77        58\n",
      "       1  (35.2, 70.9)                  9.52          0.12    52.5     29     76        52\n"
     ]
    }
   ],
   "source": [
    "violin_stats('target','age',df)"
   ]
  },
  {
   "cell_type": "markdown",
   "metadata": {},
   "source": [
    "### Distribution of Resting Blood Pressure"
   ]
  },
  {
   "cell_type": "code",
   "execution_count": 183,
   "metadata": {},
   "outputs": [
    {
     "name": "stdout",
     "output_type": "stream",
     "text": [
      "+------------------+\n",
      "|     avg(trestbps)|\n",
      "+------------------+\n",
      "|131.62376237623764|\n",
      "+------------------+\n",
      "\n"
     ]
    }
   ],
   "source": [
    "df.agg({\"trestbps\":\"mean\"}).show()"
   ]
  },
  {
   "cell_type": "code",
   "execution_count": 184,
   "metadata": {},
   "outputs": [
    {
     "data": {
      "image/png": "[encoded data removed]",
      "text/plain": [
       "<Figure size 432x288 with 1 Axes>"
      ]
     },
     "metadata": {},
     "output_type": "display_data"
    }
   ],
   "source": [
    "tbpsArr = np.array(df.filter('trestbps > 0').select('trestbps').collect())\n",
    "plt.hist(tbpsArr)\n",
    "plt.show()"
   ]
  },
  {
   "cell_type": "code",
   "execution_count": 185,
   "metadata": {},
   "outputs": [],
   "source": [
    "import seaborn as sns"
   ]
  },
  {
   "cell_type": "code",
   "execution_count": 186,
   "metadata": {},
   "outputs": [],
   "source": [
    "pddf = df.toPandas()"
   ]
  },
  {
   "cell_type": "code",
   "execution_count": 187,
   "metadata": {},
   "outputs": [
    {
     "data": {
      "image/png": "[encoded data removed]",
      "text/plain": [
       "<Figure size 432x288 with 1 Axes>"
      ]
     },
     "metadata": {},
     "output_type": "display_data"
    }
   ],
   "source": [
    "sns.violinplot(x=\"target\",y=\"trestbps\", hue=\"target\", data=pddf);\n",
    "plt.show()"
   ]
  },
  {
   "cell_type": "code",
   "execution_count": 188,
   "metadata": {},
   "outputs": [
    {
     "name": "stdout",
     "output_type": "stream",
     "text": [
      "  target  95% interval        Standard deviation    Skewness    Mean    Min    Max    Median\n",
      "--------  ----------------  --------------------  ----------  ------  -----  -----  --------\n",
      "       0  (108.85, 179.15)                18.662        0.86   134.4    100    200       130\n",
      "       1  (101.1, 160.0)                  16.12         0.42   129.3     94    180       130\n"
     ]
    }
   ],
   "source": [
    "violin_stats('target','trestbps',df)"
   ]
  },
  {
   "cell_type": "markdown",
   "metadata": {},
   "source": [
    "### Distribution of Cholesterol Levels"
   ]
  },
  {
   "cell_type": "code",
   "execution_count": 189,
   "metadata": {},
   "outputs": [
    {
     "name": "stdout",
     "output_type": "stream",
     "text": [
      "+------------------+\n",
      "|         avg(chol)|\n",
      "+------------------+\n",
      "|246.26402640264027|\n",
      "+------------------+\n",
      "\n"
     ]
    }
   ],
   "source": [
    "df.agg({\"chol\":\"mean\"}).show()"
   ]
  },
  {
   "cell_type": "code",
   "execution_count": 190,
   "metadata": {},
   "outputs": [
    {
     "data": {
      "text/plain": [
       "<matplotlib.axes._subplots.AxesSubplot at 0x7f294fb62630>"
      ]
     },
     "execution_count": 190,
     "metadata": {},
     "output_type": "execute_result"
    },
    {
     "data": {
      "image/png": "[encoded data removed]",
      "text/plain": [
       "<Figure size 432x288 with 1 Axes>"
      ]
     },
     "metadata": {},
     "output_type": "display_data"
    }
   ],
   "source": [
    "chol = pddf['chol']\n",
    "sns.distplot(chol)"
   ]
  },
  {
   "cell_type": "code",
   "execution_count": 191,
   "metadata": {},
   "outputs": [
    {
     "data": {
      "image/png": "[encoded data removed]",
      "text/plain": [
       "<Figure size 432x288 with 1 Axes>"
      ]
     },
     "metadata": {},
     "output_type": "display_data"
    }
   ],
   "source": [
    "sns.violinplot(x=\"target\",y=\"chol\", hue=\"target\", data=pddf);\n",
    "plt.show()"
   ]
  },
  {
   "cell_type": "code",
   "execution_count": 192,
   "metadata": {},
   "outputs": [
    {
     "name": "stdout",
     "output_type": "stream",
     "text": [
      "  target  95% interval        Standard deviation    Skewness    Mean    Min    Max    Median\n",
      "--------  ----------------  --------------------  ----------  ------  -----  -----  --------\n",
      "       0  (166.42, 338.45)               49.2751        0.32  251.09    131    409       249\n",
      "       1  (160.8, 352.8)                 53.39          1.75  242.23    126    564       234\n"
     ]
    }
   ],
   "source": [
    "violin_stats('target','chol',df)"
   ]
  },
  {
   "cell_type": "markdown",
   "metadata": {},
   "source": [
    "### Distribution of Maximum Heart Rate"
   ]
  },
  {
   "cell_type": "code",
   "execution_count": 193,
   "metadata": {},
   "outputs": [
    {
     "name": "stdout",
     "output_type": "stream",
     "text": [
      "+------------------+\n",
      "|      avg(thalach)|\n",
      "+------------------+\n",
      "|149.64686468646866|\n",
      "+------------------+\n",
      "\n"
     ]
    }
   ],
   "source": [
    "df.agg({\"thalach\":\"mean\"}).show()"
   ]
  },
  {
   "cell_type": "code",
   "execution_count": 194,
   "metadata": {},
   "outputs": [
    {
     "data": {
      "text/plain": [
       "<matplotlib.axes._subplots.AxesSubplot at 0x7f294faf6fd0>"
      ]
     },
     "execution_count": 194,
     "metadata": {},
     "output_type": "execute_result"
    },
    {
     "data": {
      "image/png": "[encoded data removed]",
      "text/plain": [
       "<Figure size 432x288 with 1 Axes>"
      ]
     },
     "metadata": {},
     "output_type": "display_data"
    }
   ],
   "source": [
    "thalach = pddf['thalach']\n",
    "sns.distplot(thalach)"
   ]
  },
  {
   "cell_type": "code",
   "execution_count": 195,
   "metadata": {},
   "outputs": [
    {
     "data": {
      "image/png": "[encoded data removed]",
      "text/plain": [
       "<Figure size 432x288 with 1 Axes>"
      ]
     },
     "metadata": {},
     "output_type": "display_data"
    }
   ],
   "source": [
    "sns.violinplot(x=\"target\",y=\"thalach\", hue=\"target\", data=pddf);\n",
    "plt.show()"
   ]
  },
  {
   "cell_type": "code",
   "execution_count": 196,
   "metadata": {},
   "outputs": [
    {
     "name": "stdout",
     "output_type": "stream",
     "text": [
      "  target  95% interval       Standard deviation    Skewness    Mean    Min    Max    Median\n",
      "--------  ---------------  --------------------  ----------  ------  -----  -----  --------\n",
      "       0  (95.43, 175.72)               22.5168       -0.3   139.1      71    195       142\n",
      "       1  (115.0, 187.9)                19.12         -0.71  158.47     96    202       161\n"
     ]
    }
   ],
   "source": [
    "violin_stats('target','thalach',df)"
   ]
  },
  {
   "cell_type": "markdown",
   "metadata": {},
   "source": [
    "### Exercise Induced ST Depression"
   ]
  },
  {
   "cell_type": "code",
   "execution_count": 197,
   "metadata": {},
   "outputs": [
    {
     "name": "stdout",
     "output_type": "stream",
     "text": [
      "+------------------+\n",
      "|      avg(oldpeak)|\n",
      "+------------------+\n",
      "|1.0396039603960396|\n",
      "+------------------+\n",
      "\n"
     ]
    }
   ],
   "source": [
    "df.agg({\"oldpeak\":\"mean\"}).show()"
   ]
  },
  {
   "cell_type": "code",
   "execution_count": 198,
   "metadata": {},
   "outputs": [
    {
     "data": {
      "text/plain": [
       "<matplotlib.axes._subplots.AxesSubplot at 0x7f294fa0d1d0>"
      ]
     },
     "execution_count": 198,
     "metadata": {},
     "output_type": "execute_result"
    },
    {
     "data": {
      "image/png": "[encoded data removed]",
      "text/plain": [
       "<Figure size 432x288 with 1 Axes>"
      ]
     },
     "metadata": {},
     "output_type": "display_data"
    }
   ],
   "source": [
    "oldpeak = pddf['oldpeak'];\n",
    "sns.distplot(oldpeak)"
   ]
  },
  {
   "cell_type": "code",
   "execution_count": 199,
   "metadata": {},
   "outputs": [
    {
     "data": {
      "image/png": "[encoded data removed]",
      "text/plain": [
       "<Figure size 432x288 with 1 Axes>"
      ]
     },
     "metadata": {},
     "output_type": "display_data"
    }
   ],
   "source": [
    "sns.violinplot(x=\"target\",y=\"oldpeak\", hue=\"target\", data=pddf);\n",
    "plt.show()"
   ]
  },
  {
   "cell_type": "code",
   "execution_count": 200,
   "metadata": {},
   "outputs": [
    {
     "name": "stdout",
     "output_type": "stream",
     "text": [
      "  target  95% interval      Standard deviation    Skewness    Mean    Min    Max    Median\n",
      "--------  --------------  --------------------  ----------  ------  -----  -----  --------\n",
      "       0  (0.0, 4.11)                   1.2956        0.74    1.59      0    6.2       1.4\n",
      "       1  (0.0, 2.39)                   0.78          1.65    0.58      0    4.2       0.2\n"
     ]
    }
   ],
   "source": [
    "violin_stats('target','oldpeak',df)"
   ]
  },
  {
   "cell_type": "markdown",
   "metadata": {},
   "source": [
    "### Gender"
   ]
  },
  {
   "cell_type": "code",
   "execution_count": 201,
   "metadata": {},
   "outputs": [
    {
     "data": {
      "text/plain": [
       "<matplotlib.axes._subplots.AxesSubplot at 0x7f294fb8c128>"
      ]
     },
     "execution_count": 201,
     "metadata": {},
     "output_type": "execute_result"
    },
    {
     "data": {
      "image/png": "[encoded data removed]",
      "text/plain": [
       "<Figure size 432x288 with 1 Axes>"
      ]
     },
     "metadata": {},
     "output_type": "display_data"
    }
   ],
   "source": [
    "sns.countplot(x='sex',data=pddf)"
   ]
  },
  {
   "cell_type": "markdown",
   "metadata": {},
   "source": [
    "### Chest Pain"
   ]
  },
  {
   "cell_type": "code",
   "execution_count": 202,
   "metadata": {},
   "outputs": [
    {
     "data": {
      "text/plain": [
       "<matplotlib.axes._subplots.AxesSubplot at 0x7f294fa0d5f8>"
      ]
     },
     "execution_count": 202,
     "metadata": {},
     "output_type": "execute_result"
    },
    {
     "data": {
      "image/png": "[encoded data removed]",
      "text/plain": [
       "<Figure size 432x288 with 1 Axes>"
      ]
     },
     "metadata": {},
     "output_type": "display_data"
    }
   ],
   "source": [
    "sns.countplot(x='cp',data=pddf)"
   ]
  },
  {
   "cell_type": "markdown",
   "metadata": {},
   "source": [
    "### Fasting Blood Sugar"
   ]
  },
  {
   "cell_type": "code",
   "execution_count": 203,
   "metadata": {},
   "outputs": [
    {
     "data": {
      "text/plain": [
       "<matplotlib.axes._subplots.AxesSubplot at 0x7f294fd7dfd0>"
      ]
     },
     "execution_count": 203,
     "metadata": {},
     "output_type": "execute_result"
    },
    {
     "data": {
      "image/png": "[encoded data removed]",
      "text/plain": [
       "<Figure size 432x288 with 1 Axes>"
      ]
     },
     "metadata": {},
     "output_type": "display_data"
    }
   ],
   "source": [
    "sns.countplot(x='fbs',data=pddf)"
   ]
  },
  {
   "cell_type": "markdown",
   "metadata": {},
   "source": [
    "### Resting ECG Results"
   ]
  },
  {
   "cell_type": "code",
   "execution_count": 204,
   "metadata": {},
   "outputs": [
    {
     "data": {
      "text/plain": [
       "<matplotlib.axes._subplots.AxesSubplot at 0x7f294faee4e0>"
      ]
     },
     "execution_count": 204,
     "metadata": {},
     "output_type": "execute_result"
    },
    {
     "data": {
      "image/png": "[encoded data removed]",
      "text/plain": [
       "<Figure size 432x288 with 1 Axes>"
      ]
     },
     "metadata": {},
     "output_type": "display_data"
    }
   ],
   "source": [
    "sns.countplot(x='restecg',data=pddf)"
   ]
  },
  {
   "cell_type": "markdown",
   "metadata": {},
   "source": [
    "### Exercise Induced Angina"
   ]
  },
  {
   "cell_type": "code",
   "execution_count": 205,
   "metadata": {},
   "outputs": [
    {
     "data": {
      "text/plain": [
       "<matplotlib.axes._subplots.AxesSubplot at 0x7f294ffed978>"
      ]
     },
     "execution_count": 205,
     "metadata": {},
     "output_type": "execute_result"
    },
    {
     "data": {
      "image/png": "[encoded data removed]",
      "text/plain": [
       "<Figure size 432x288 with 1 Axes>"
      ]
     },
     "metadata": {},
     "output_type": "display_data"
    }
   ],
   "source": [
    "sns.countplot(x='exang',data=pddf)"
   ]
  },
  {
   "cell_type": "markdown",
   "metadata": {},
   "source": [
    "### Peak Exercise ST segment"
   ]
  },
  {
   "cell_type": "code",
   "execution_count": 206,
   "metadata": {},
   "outputs": [
    {
     "data": {
      "text/plain": [
       "<matplotlib.axes._subplots.AxesSubplot at 0x7f29787e77f0>"
      ]
     },
     "execution_count": 206,
     "metadata": {},
     "output_type": "execute_result"
    },
    {
     "data": {
      "image/png": "[encoded data removed]",
      "text/plain": [
       "<Figure size 432x288 with 1 Axes>"
      ]
     },
     "metadata": {},
     "output_type": "display_data"
    }
   ],
   "source": [
    "sns.countplot(x='slope',data=pddf)"
   ]
  },
  {
   "cell_type": "markdown",
   "metadata": {},
   "source": [
    "### β-Thalassemia Cardiomyopathy"
   ]
  },
  {
   "cell_type": "code",
   "execution_count": 207,
   "metadata": {},
   "outputs": [
    {
     "data": {
      "text/plain": [
       "<matplotlib.axes._subplots.AxesSubplot at 0x7f294fe83860>"
      ]
     },
     "execution_count": 207,
     "metadata": {},
     "output_type": "execute_result"
    },
    {
     "data": {
      "image/png": "[encoded data removed]",
      "text/plain": [
       "<Figure size 432x288 with 1 Axes>"
      ]
     },
     "metadata": {},
     "output_type": "display_data"
    }
   ],
   "source": [
    "sns.countplot(x='thal',data=pddf)"
   ]
  },
  {
   "cell_type": "markdown",
   "metadata": {},
   "source": [
    "## More Aggregation"
   ]
  },
  {
   "cell_type": "code",
   "execution_count": 208,
   "metadata": {},
   "outputs": [
    {
     "name": "stdout",
     "output_type": "stream",
     "text": [
      "+------+-----------------+------------------+------------------+-----------------+------------------+-------------------+------------------+------------------+------------------+------------------+------------------+-------------------+------------------+-----------+\n",
      "|target|         avg(age)|          avg(sex)|           avg(cp)|    avg(trestbps)|         avg(chol)|           avg(fbs)|      avg(restecg)|      avg(thalach)|        avg(exang)|      avg(oldpeak)|        avg(slope)|            avg(ca)|         avg(thal)|avg(target)|\n",
      "+------+-----------------+------------------+------------------+-----------------+------------------+-------------------+------------------+------------------+------------------+------------------+------------------+-------------------+------------------+-----------+\n",
      "|     1| 52.4969696969697|0.5636363636363636|1.3757575757575757|129.3030303030303|242.23030303030302| 0.1393939393939394| 0.593939393939394|158.46666666666667|0.1393939393939394|0.5830303030303029| 1.593939393939394|0.36363636363636365| 2.121212121212121|        1.0|\n",
      "|     0|56.60144927536232|0.8260869565217391|0.4782608695652174|134.3985507246377|251.08695652173913|0.15942028985507245|0.4492753623188406| 139.1014492753623|0.5507246376811594|1.5855072463768118|1.1666666666666667| 1.1666666666666667|2.5434782608695654|        0.0|\n",
      "+------+-----------------+------------------+------------------+-----------------+------------------+-------------------+------------------+------------------+------------------+------------------+------------------+-------------------+------------------+-----------+\n",
      "\n"
     ]
    }
   ],
   "source": [
    "df.groupBy('target').mean().show()"
   ]
  },
  {
   "cell_type": "code",
   "execution_count": 209,
   "metadata": {},
   "outputs": [
    {
     "name": "stdout",
     "output_type": "stream",
     "text": [
      "+---+------------------+\n",
      "|sex|          avg(age)|\n",
      "+---+------------------+\n",
      "|  1| 53.75845410628019|\n",
      "|  0|55.677083333333336|\n",
      "+---+------------------+\n",
      "\n"
     ]
    }
   ],
   "source": [
    "df.groupBy('sex').mean().select(['sex','avg(age)']).show()"
   ]
  },
  {
   "cell_type": "code",
   "execution_count": 210,
   "metadata": {},
   "outputs": [
    {
     "name": "stdout",
     "output_type": "stream",
     "text": [
      "+------+--------+\n",
      "|target|min(age)|\n",
      "+------+--------+\n",
      "|     1|      29|\n",
      "|     0|      35|\n",
      "+------+--------+\n",
      "\n"
     ]
    }
   ],
   "source": [
    "df.groupBy('target').min().select(['target','min(age)']).show()"
   ]
  },
  {
   "cell_type": "markdown",
   "metadata": {},
   "source": [
    "## More Spark DataFrame Operations"
   ]
  },
  {
   "cell_type": "code",
   "execution_count": 211,
   "metadata": {},
   "outputs": [
    {
     "data": {
      "text/plain": [
       "0.27935090656128797"
      ]
     },
     "execution_count": 211,
     "metadata": {},
     "output_type": "execute_result"
    }
   ],
   "source": [
    "df.corr('age','trestbps')"
   ]
  },
  {
   "cell_type": "code",
   "execution_count": 212,
   "metadata": {},
   "outputs": [
    {
     "data": {
      "text/plain": [
       "44.49590190807155"
      ]
     },
     "execution_count": 212,
     "metadata": {},
     "output_type": "execute_result"
    }
   ],
   "source": [
    "df.cov('age','trestbps')"
   ]
  },
  {
   "cell_type": "code",
   "execution_count": 213,
   "metadata": {},
   "outputs": [
    {
     "data": {
      "text/plain": [
       "0.3924332830634057"
      ]
     },
     "execution_count": 213,
     "metadata": {},
     "output_type": "execute_result"
    }
   ],
   "source": [
    "df.cov('age','fbs')"
   ]
  },
  {
   "cell_type": "code",
   "execution_count": 214,
   "metadata": {},
   "outputs": [
    {
     "data": {
      "text/plain": [
       "100.58507638843362"
      ]
     },
     "execution_count": 214,
     "metadata": {},
     "output_type": "execute_result"
    }
   ],
   "source": [
    "df.cov('age','chol')"
   ]
  },
  {
   "cell_type": "code",
   "execution_count": 215,
   "metadata": {},
   "outputs": [
    {
     "name": "stdout",
     "output_type": "stream",
     "text": [
      "+-------+------------------+\n",
      "|summary|               age|\n",
      "+-------+------------------+\n",
      "|  count|               303|\n",
      "|   mean|54.366336633663366|\n",
      "| stddev|  9.08210098983786|\n",
      "|    min|                29|\n",
      "|    max|                77|\n",
      "+-------+------------------+\n",
      "\n"
     ]
    }
   ],
   "source": [
    "df.describe(['age']).show()"
   ]
  },
  {
   "cell_type": "code",
   "execution_count": 216,
   "metadata": {},
   "outputs": [
    {
     "data": {
      "text/plain": [
       "[Row(age=62, sex=0, cp=0, trestbps=124, chol=209, fbs=0, restecg=1, thalach=163, exang=0, oldpeak=0.0, slope=2, ca=0, thal=2, target=1),\n",
       " Row(age=62, sex=0, cp=0, trestbps=140, chol=394, fbs=0, restecg=0, thalach=157, exang=0, oldpeak=1.2, slope=1, ca=0, thal=2, target=1),\n",
       " Row(age=63, sex=0, cp=2, trestbps=135, chol=252, fbs=0, restecg=0, thalach=172, exang=0, oldpeak=0.0, slope=2, ca=0, thal=2, target=1),\n",
       " Row(age=63, sex=0, cp=1, trestbps=140, chol=195, fbs=0, restecg=1, thalach=179, exang=0, oldpeak=0.0, slope=2, ca=2, thal=2, target=1),\n",
       " Row(age=64, sex=0, cp=0, trestbps=180, chol=325, fbs=0, restecg=1, thalach=154, exang=1, oldpeak=0.0, slope=2, ca=0, thal=2, target=1),\n",
       " Row(age=64, sex=0, cp=2, trestbps=140, chol=313, fbs=0, restecg=1, thalach=133, exang=0, oldpeak=0.2, slope=2, ca=0, thal=3, target=1),\n",
       " Row(age=64, sex=0, cp=0, trestbps=130, chol=303, fbs=0, restecg=1, thalach=122, exang=0, oldpeak=2.0, slope=1, ca=2, thal=2, target=1),\n",
       " Row(age=65, sex=0, cp=2, trestbps=140, chol=417, fbs=1, restecg=0, thalach=157, exang=0, oldpeak=0.8, slope=2, ca=1, thal=2, target=1),\n",
       " Row(age=65, sex=0, cp=2, trestbps=155, chol=269, fbs=0, restecg=1, thalach=148, exang=0, oldpeak=0.8, slope=2, ca=0, thal=2, target=1),\n",
       " Row(age=65, sex=0, cp=2, trestbps=160, chol=360, fbs=0, restecg=0, thalach=151, exang=0, oldpeak=0.8, slope=2, ca=0, thal=2, target=1),\n",
       " Row(age=66, sex=0, cp=3, trestbps=150, chol=226, fbs=0, restecg=1, thalach=114, exang=0, oldpeak=2.6, slope=0, ca=0, thal=2, target=1),\n",
       " Row(age=66, sex=0, cp=2, trestbps=146, chol=278, fbs=0, restecg=0, thalach=152, exang=0, oldpeak=0.0, slope=1, ca=1, thal=2, target=1),\n",
       " Row(age=67, sex=0, cp=2, trestbps=115, chol=564, fbs=0, restecg=0, thalach=160, exang=0, oldpeak=1.6, slope=1, ca=0, thal=3, target=1),\n",
       " Row(age=67, sex=0, cp=2, trestbps=152, chol=277, fbs=0, restecg=1, thalach=172, exang=0, oldpeak=0.0, slope=2, ca=1, thal=2, target=1),\n",
       " Row(age=67, sex=0, cp=0, trestbps=106, chol=223, fbs=0, restecg=1, thalach=142, exang=0, oldpeak=0.3, slope=2, ca=2, thal=2, target=1),\n",
       " Row(age=68, sex=0, cp=2, trestbps=120, chol=211, fbs=0, restecg=0, thalach=115, exang=0, oldpeak=1.5, slope=1, ca=0, thal=2, target=1),\n",
       " Row(age=69, sex=0, cp=3, trestbps=140, chol=239, fbs=0, restecg=1, thalach=151, exang=0, oldpeak=1.8, slope=2, ca=2, thal=2, target=1),\n",
       " Row(age=71, sex=0, cp=1, trestbps=160, chol=302, fbs=0, restecg=1, thalach=162, exang=0, oldpeak=0.4, slope=2, ca=2, thal=2, target=1),\n",
       " Row(age=71, sex=0, cp=2, trestbps=110, chol=265, fbs=1, restecg=0, thalach=130, exang=0, oldpeak=0.0, slope=2, ca=1, thal=2, target=1),\n",
       " Row(age=71, sex=0, cp=0, trestbps=112, chol=149, fbs=0, restecg=1, thalach=125, exang=0, oldpeak=1.6, slope=1, ca=0, thal=2, target=1),\n",
       " Row(age=74, sex=0, cp=1, trestbps=120, chol=269, fbs=0, restecg=0, thalach=121, exang=1, oldpeak=0.2, slope=2, ca=1, thal=2, target=1),\n",
       " Row(age=76, sex=0, cp=2, trestbps=140, chol=197, fbs=0, restecg=2, thalach=116, exang=0, oldpeak=1.1, slope=1, ca=0, thal=2, target=1)]"
      ]
     },
     "execution_count": 216,
     "metadata": {},
     "output_type": "execute_result"
    }
   ],
   "source": [
    "df.filter(\"age > 60\").where(\"sex = 0\").where(\"target = 1\").sort(df.age.asc()).collect()"
   ]
  },
  {
   "cell_type": "code",
   "execution_count": 217,
   "metadata": {},
   "outputs": [
    {
     "name": "stdout",
     "output_type": "stream",
     "text": [
      "+---+--------------------------------------------------------------+\n",
      "|age|CASE WHEN (age > 60) THEN 1 WHEN (age < 40) THEN -1 ELSE 0 END|\n",
      "+---+--------------------------------------------------------------+\n",
      "| 63|                                                             1|\n",
      "| 37|                                                            -1|\n",
      "| 41|                                                             0|\n",
      "| 56|                                                             0|\n",
      "| 57|                                                             0|\n",
      "| 57|                                                             0|\n",
      "| 56|                                                             0|\n",
      "| 44|                                                             0|\n",
      "| 52|                                                             0|\n",
      "| 57|                                                             0|\n",
      "| 54|                                                             0|\n",
      "| 48|                                                             0|\n",
      "| 49|                                                             0|\n",
      "| 64|                                                             1|\n",
      "| 58|                                                             0|\n",
      "| 50|                                                             0|\n",
      "| 58|                                                             0|\n",
      "| 66|                                                             1|\n",
      "| 43|                                                             0|\n",
      "| 69|                                                             1|\n",
      "+---+--------------------------------------------------------------+\n",
      "only showing top 20 rows\n",
      "\n"
     ]
    }
   ],
   "source": [
    "from pyspark.sql import functions as F\n",
    "df.select(df.age, F.when(df.age > 60, 1).when(df.age < 40, -1).otherwise(0)).show()"
   ]
  },
  {
   "cell_type": "markdown",
   "metadata": {},
   "source": [
    "### Eliminate outliers"
   ]
  },
  {
   "cell_type": "code",
   "execution_count": 218,
   "metadata": {},
   "outputs": [],
   "source": [
    "pddf1 = pddf.filter(['age','trestbps','chol','thalach','oldpeak'], axis=1)"
   ]
  },
  {
   "cell_type": "code",
   "execution_count": 219,
   "metadata": {},
   "outputs": [
    {
     "data": {
      "text/plain": [
       "(303, 5)"
      ]
     },
     "execution_count": 219,
     "metadata": {},
     "output_type": "execute_result"
    }
   ],
   "source": [
    "pddf1.shape"
   ]
  },
  {
   "cell_type": "code",
   "execution_count": 220,
   "metadata": {},
   "outputs": [],
   "source": [
    "from scipy import stats\n",
    "z = np.abs(stats.zscore(pddf1))\n",
    "pddf2 = pddf1[(z < 3).all(axis=1)]"
   ]
  },
  {
   "cell_type": "code",
   "execution_count": 221,
   "metadata": {},
   "outputs": [
    {
     "data": {
      "text/plain": [
       "(294, 5)"
      ]
     },
     "execution_count": 221,
     "metadata": {},
     "output_type": "execute_result"
    }
   ],
   "source": [
    "pddf2.shape"
   ]
  },
  {
   "cell_type": "code",
   "execution_count": 222,
   "metadata": {},
   "outputs": [
    {
     "data": {
      "text/html": [
       "<div>\n",
       "<style scoped>\n",
       "    .dataframe tbody tr th:only-of-type {\n",
       "        vertical-align: middle;\n",
       "    }\n",
       "\n",
       "    .dataframe tbody tr th {\n",
       "        vertical-align: top;\n",
       "    }\n",
       "\n",
       "    .dataframe thead th {\n",
       "        text-align: right;\n",
       "    }\n",
       "</style>\n",
       "<table border=\"1\" class=\"dataframe\">\n",
       "  <thead>\n",
       "    <tr style=\"text-align: right;\">\n",
       "      <th></th>\n",
       "      <th>age</th>\n",
       "      <th>trestbps</th>\n",
       "      <th>chol</th>\n",
       "      <th>thalach</th>\n",
       "      <th>oldpeak</th>\n",
       "    </tr>\n",
       "  </thead>\n",
       "  <tbody>\n",
       "    <tr>\n",
       "      <th>28</th>\n",
       "      <td>65</td>\n",
       "      <td>140</td>\n",
       "      <td>417</td>\n",
       "      <td>157</td>\n",
       "      <td>0.8</td>\n",
       "    </tr>\n",
       "    <tr>\n",
       "      <th>85</th>\n",
       "      <td>67</td>\n",
       "      <td>115</td>\n",
       "      <td>564</td>\n",
       "      <td>160</td>\n",
       "      <td>1.6</td>\n",
       "    </tr>\n",
       "    <tr>\n",
       "      <th>204</th>\n",
       "      <td>62</td>\n",
       "      <td>160</td>\n",
       "      <td>164</td>\n",
       "      <td>145</td>\n",
       "      <td>6.2</td>\n",
       "    </tr>\n",
       "    <tr>\n",
       "      <th>220</th>\n",
       "      <td>63</td>\n",
       "      <td>150</td>\n",
       "      <td>407</td>\n",
       "      <td>154</td>\n",
       "      <td>4.0</td>\n",
       "    </tr>\n",
       "    <tr>\n",
       "      <th>221</th>\n",
       "      <td>55</td>\n",
       "      <td>140</td>\n",
       "      <td>217</td>\n",
       "      <td>111</td>\n",
       "      <td>5.6</td>\n",
       "    </tr>\n",
       "    <tr>\n",
       "      <th>223</th>\n",
       "      <td>56</td>\n",
       "      <td>200</td>\n",
       "      <td>288</td>\n",
       "      <td>133</td>\n",
       "      <td>4.0</td>\n",
       "    </tr>\n",
       "    <tr>\n",
       "      <th>246</th>\n",
       "      <td>56</td>\n",
       "      <td>134</td>\n",
       "      <td>409</td>\n",
       "      <td>150</td>\n",
       "      <td>1.9</td>\n",
       "    </tr>\n",
       "    <tr>\n",
       "      <th>248</th>\n",
       "      <td>54</td>\n",
       "      <td>192</td>\n",
       "      <td>283</td>\n",
       "      <td>195</td>\n",
       "      <td>0.0</td>\n",
       "    </tr>\n",
       "    <tr>\n",
       "      <th>272</th>\n",
       "      <td>67</td>\n",
       "      <td>120</td>\n",
       "      <td>237</td>\n",
       "      <td>71</td>\n",
       "      <td>1.0</td>\n",
       "    </tr>\n",
       "  </tbody>\n",
       "</table>\n",
       "</div>"
      ],
      "text/plain": [
       "     age  trestbps  chol  thalach  oldpeak\n",
       "28    65       140   417      157      0.8\n",
       "85    67       115   564      160      1.6\n",
       "204   62       160   164      145      6.2\n",
       "220   63       150   407      154      4.0\n",
       "221   55       140   217      111      5.6\n",
       "223   56       200   288      133      4.0\n",
       "246   56       134   409      150      1.9\n",
       "248   54       192   283      195      0.0\n",
       "272   67       120   237       71      1.0"
      ]
     },
     "execution_count": 222,
     "metadata": {},
     "output_type": "execute_result"
    }
   ],
   "source": [
    "pd.concat([pddf1,pddf2]).drop_duplicates(keep=False)"
   ]
  },
  {
   "cell_type": "markdown",
   "metadata": {},
   "source": [
    "**We may NOT drop outliers only because one of the continuous column not satisfy normal distribution** (still use pddf)"
   ]
  },
  {
   "cell_type": "markdown",
   "metadata": {},
   "source": [
    "### Correlation Matrix"
   ]
  },
  {
   "cell_type": "code",
   "execution_count": 223,
   "metadata": {},
   "outputs": [
    {
     "data": {
      "text/plain": [
       "<matplotlib.axes._subplots.AxesSubplot at 0x7f294fa534e0>"
      ]
     },
     "execution_count": 223,
     "metadata": {},
     "output_type": "execute_result"
    },
    {
     "data": {
      "image/png": "[encoded data removed]",
      "text/plain": [
       "<Figure size 648x648 with 2 Axes>"
      ]
     },
     "metadata": {},
     "output_type": "display_data"
    }
   ],
   "source": [
    "plt.figure(figsize=(9, 9))\n",
    "sns.heatmap(pddf.corr(),linewidths=0.6,annot=True,cmap='ocean_r',cbar=True)"
   ]
  },
  {
   "cell_type": "markdown",
   "metadata": {},
   "source": [
    "## Data Preparation"
   ]
  },
  {
   "cell_type": "markdown",
   "metadata": {},
   "source": [
    "**The data exploration phase may use Pandas dataframe as well, while from this part mainly use Spark Dataframe.**"
   ]
  },
  {
   "cell_type": "markdown",
   "metadata": {},
   "source": [
    "### Data Clean"
   ]
  },
  {
   "cell_type": "code",
   "execution_count": 224,
   "metadata": {},
   "outputs": [
    {
     "name": "stdout",
     "output_type": "stream",
     "text": [
      "+---+---+---+--------+----+---+-------+-------+-----+-------+-----+---+----+------+\n",
      "|age|sex| cp|trestbps|chol|fbs|restecg|thalach|exang|oldpeak|slope| ca|thal|target|\n",
      "+---+---+---+--------+----+---+-------+-------+-----+-------+-----+---+----+------+\n",
      "| 63|  1|  3|     145| 233|  1|      0|    150|    0|    2.3|    0|  0|   1|     1|\n",
      "| 37|  1|  2|     130| 250|  0|      1|    187|    0|    3.5|    0|  0|   2|     1|\n",
      "| 41|  0|  1|     130| 204|  0|      0|    172|    0|    1.4|    2|  0|   2|     1|\n",
      "| 56|  1|  1|     120| 236|  0|      1|    178|    0|    0.8|    2|  0|   2|     1|\n",
      "| 57|  0|  0|     120| 354|  0|      1|    163|    1|    0.6|    2|  0|   2|     1|\n",
      "| 57|  1|  0|     140| 192|  0|      1|    148|    0|    0.4|    1|  0|   1|     1|\n",
      "| 56|  0|  1|     140| 294|  0|      0|    153|    0|    1.3|    1|  0|   2|     1|\n",
      "| 44|  1|  1|     120| 263|  0|      1|    173|    0|    0.0|    2|  0|   3|     1|\n",
      "| 52|  1|  2|     172| 199|  1|      1|    162|    0|    0.5|    2|  0|   3|     1|\n",
      "| 57|  1|  2|     150| 168|  0|      1|    174|    0|    1.6|    2|  0|   2|     1|\n",
      "| 54|  1|  0|     140| 239|  0|      1|    160|    0|    1.2|    2|  0|   2|     1|\n",
      "| 48|  0|  2|     130| 275|  0|      1|    139|    0|    0.2|    2|  0|   2|     1|\n",
      "| 49|  1|  1|     130| 266|  0|      1|    171|    0|    0.6|    2|  0|   2|     1|\n",
      "| 64|  1|  3|     110| 211|  0|      0|    144|    1|    1.8|    1|  0|   2|     1|\n",
      "| 58|  0|  3|     150| 283|  1|      0|    162|    0|    1.0|    2|  0|   2|     1|\n",
      "| 50|  0|  2|     120| 219|  0|      1|    158|    0|    1.6|    1|  0|   2|     1|\n",
      "| 58|  0|  2|     120| 340|  0|      1|    172|    0|    0.0|    2|  0|   2|     1|\n",
      "| 66|  0|  3|     150| 226|  0|      1|    114|    0|    2.6|    0|  0|   2|     1|\n",
      "| 43|  1|  0|     150| 247|  0|      1|    171|    0|    1.5|    2|  0|   2|     1|\n",
      "| 69|  0|  3|     140| 239|  0|      1|    151|    0|    1.8|    2|  2|   2|     1|\n",
      "+---+---+---+--------+----+---+-------+-------+-----+-------+-----+---+----+------+\n",
      "only showing top 20 rows\n",
      "\n"
     ]
    }
   ],
   "source": [
    "df.na.drop().show()"
   ]
  },
  {
   "cell_type": "code",
   "execution_count": 225,
   "metadata": {},
   "outputs": [],
   "source": [
    "def anyNull(df):\n",
    "    df.createOrReplaceTempView('heart')\n",
    "    for col in df.columns:\n",
    "        spark.sql(\"SELECT * FROM heart WHERE \"+col+\"= null\").show()"
   ]
  },
  {
   "cell_type": "code",
   "execution_count": 226,
   "metadata": {},
   "outputs": [
    {
     "name": "stdout",
     "output_type": "stream",
     "text": [
      "+---+---+---+--------+----+---+-------+-------+-----+-------+-----+---+----+------+\n",
      "|age|sex| cp|trestbps|chol|fbs|restecg|thalach|exang|oldpeak|slope| ca|thal|target|\n",
      "+---+---+---+--------+----+---+-------+-------+-----+-------+-----+---+----+------+\n",
      "+---+---+---+--------+----+---+-------+-------+-----+-------+-----+---+----+------+\n",
      "\n",
      "+---+---+---+--------+----+---+-------+-------+-----+-------+-----+---+----+------+\n",
      "|age|sex| cp|trestbps|chol|fbs|restecg|thalach|exang|oldpeak|slope| ca|thal|target|\n",
      "+---+---+---+--------+----+---+-------+-------+-----+-------+-----+---+----+------+\n",
      "+---+---+---+--------+----+---+-------+-------+-----+-------+-----+---+----+------+\n",
      "\n",
      "+---+---+---+--------+----+---+-------+-------+-----+-------+-----+---+----+------+\n",
      "|age|sex| cp|trestbps|chol|fbs|restecg|thalach|exang|oldpeak|slope| ca|thal|target|\n",
      "+---+---+---+--------+----+---+-------+-------+-----+-------+-----+---+----+------+\n",
      "+---+---+---+--------+----+---+-------+-------+-----+-------+-----+---+----+------+\n",
      "\n",
      "+---+---+---+--------+----+---+-------+-------+-----+-------+-----+---+----+------+\n",
      "|age|sex| cp|trestbps|chol|fbs|restecg|thalach|exang|oldpeak|slope| ca|thal|target|\n",
      "+---+---+---+--------+----+---+-------+-------+-----+-------+-----+---+----+------+\n",
      "+---+---+---+--------+----+---+-------+-------+-----+-------+-----+---+----+------+\n",
      "\n",
      "+---+---+---+--------+----+---+-------+-------+-----+-------+-----+---+----+------+\n",
      "|age|sex| cp|trestbps|chol|fbs|restecg|thalach|exang|oldpeak|slope| ca|thal|target|\n",
      "+---+---+---+--------+----+---+-------+-------+-----+-------+-----+---+----+------+\n",
      "+---+---+---+--------+----+---+-------+-------+-----+-------+-----+---+----+------+\n",
      "\n",
      "+---+---+---+--------+----+---+-------+-------+-----+-------+-----+---+----+------+\n",
      "|age|sex| cp|trestbps|chol|fbs|restecg|thalach|exang|oldpeak|slope| ca|thal|target|\n",
      "+---+---+---+--------+----+---+-------+-------+-----+-------+-----+---+----+------+\n",
      "+---+---+---+--------+----+---+-------+-------+-----+-------+-----+---+----+------+\n",
      "\n",
      "+---+---+---+--------+----+---+-------+-------+-----+-------+-----+---+----+------+\n",
      "|age|sex| cp|trestbps|chol|fbs|restecg|thalach|exang|oldpeak|slope| ca|thal|target|\n",
      "+---+---+---+--------+----+---+-------+-------+-----+-------+-----+---+----+------+\n",
      "+---+---+---+--------+----+---+-------+-------+-----+-------+-----+---+----+------+\n",
      "\n",
      "+---+---+---+--------+----+---+-------+-------+-----+-------+-----+---+----+------+\n",
      "|age|sex| cp|trestbps|chol|fbs|restecg|thalach|exang|oldpeak|slope| ca|thal|target|\n",
      "+---+---+---+--------+----+---+-------+-------+-----+-------+-----+---+----+------+\n",
      "+---+---+---+--------+----+---+-------+-------+-----+-------+-----+---+----+------+\n",
      "\n",
      "+---+---+---+--------+----+---+-------+-------+-----+-------+-----+---+----+------+\n",
      "|age|sex| cp|trestbps|chol|fbs|restecg|thalach|exang|oldpeak|slope| ca|thal|target|\n",
      "+---+---+---+--------+----+---+-------+-------+-----+-------+-----+---+----+------+\n",
      "+---+---+---+--------+----+---+-------+-------+-----+-------+-----+---+----+------+\n",
      "\n",
      "+---+---+---+--------+----+---+-------+-------+-----+-------+-----+---+----+------+\n",
      "|age|sex| cp|trestbps|chol|fbs|restecg|thalach|exang|oldpeak|slope| ca|thal|target|\n",
      "+---+---+---+--------+----+---+-------+-------+-----+-------+-----+---+----+------+\n",
      "+---+---+---+--------+----+---+-------+-------+-----+-------+-----+---+----+------+\n",
      "\n",
      "+---+---+---+--------+----+---+-------+-------+-----+-------+-----+---+----+------+\n",
      "|age|sex| cp|trestbps|chol|fbs|restecg|thalach|exang|oldpeak|slope| ca|thal|target|\n",
      "+---+---+---+--------+----+---+-------+-------+-----+-------+-----+---+----+------+\n",
      "+---+---+---+--------+----+---+-------+-------+-----+-------+-----+---+----+------+\n",
      "\n",
      "+---+---+---+--------+----+---+-------+-------+-----+-------+-----+---+----+------+\n",
      "|age|sex| cp|trestbps|chol|fbs|restecg|thalach|exang|oldpeak|slope| ca|thal|target|\n",
      "+---+---+---+--------+----+---+-------+-------+-----+-------+-----+---+----+------+\n",
      "+---+---+---+--------+----+---+-------+-------+-----+-------+-----+---+----+------+\n",
      "\n",
      "+---+---+---+--------+----+---+-------+-------+-----+-------+-----+---+----+------+\n",
      "|age|sex| cp|trestbps|chol|fbs|restecg|thalach|exang|oldpeak|slope| ca|thal|target|\n",
      "+---+---+---+--------+----+---+-------+-------+-----+-------+-----+---+----+------+\n",
      "+---+---+---+--------+----+---+-------+-------+-----+-------+-----+---+----+------+\n",
      "\n",
      "+---+---+---+--------+----+---+-------+-------+-----+-------+-----+---+----+------+\n",
      "|age|sex| cp|trestbps|chol|fbs|restecg|thalach|exang|oldpeak|slope| ca|thal|target|\n",
      "+---+---+---+--------+----+---+-------+-------+-----+-------+-----+---+----+------+\n",
      "+---+---+---+--------+----+---+-------+-------+-----+-------+-----+---+----+------+\n",
      "\n"
     ]
    }
   ],
   "source": [
    "anyNull(df)"
   ]
  },
  {
   "cell_type": "markdown",
   "metadata": {},
   "source": [
    "### Data Construct"
   ]
  },
  {
   "cell_type": "markdown",
   "metadata": {},
   "source": [
    "#### Change numeric to categorical data"
   ]
  },
  {
   "cell_type": "code",
   "execution_count": 227,
   "metadata": {},
   "outputs": [
    {
     "name": "stdout",
     "output_type": "stream",
     "text": [
      "root\n",
      " |-- age: integer (nullable = true)\n",
      " |-- sex: integer (nullable = true)\n",
      " |-- cp: integer (nullable = true)\n",
      " |-- trestbps: integer (nullable = true)\n",
      " |-- chol: integer (nullable = true)\n",
      " |-- fbs: integer (nullable = true)\n",
      " |-- restecg: integer (nullable = true)\n",
      " |-- thalach: integer (nullable = true)\n",
      " |-- exang: integer (nullable = true)\n",
      " |-- oldpeak: double (nullable = true)\n",
      " |-- slope: integer (nullable = true)\n",
      " |-- ca: integer (nullable = true)\n",
      " |-- thal: integer (nullable = true)\n",
      " |-- target: integer (nullable = true)\n",
      "\n"
     ]
    }
   ],
   "source": [
    "df.printSchema()\n",
    "\n",
    "def categorize(df):\n",
    "    columns = ['sex','cp','fbs','ca','restecg','exang','restecg','slope','thal']\n",
    "    for col in columns:\n",
    "        df.withColumn(col, df[col].cast(\"category\"))\n",
    "    df.printSchema"
   ]
  },
  {
   "cell_type": "code",
   "execution_count": 228,
   "metadata": {},
   "outputs": [],
   "source": [
    "#change numeric to categorical\n",
    "from pyspark.ml.feature import (VectorAssembler,VectorIndexer,\n",
    "                                OneHotEncoder,StringIndexer)"
   ]
  },
  {
   "cell_type": "code",
   "execution_count": 229,
   "metadata": {},
   "outputs": [
    {
     "name": "stdout",
     "output_type": "stream",
     "text": [
      "+---+---------+---+--------+---+---------+---+--------+-----+-----------+-------+-------------+-----+-----------+----+----------+\n",
      "|sex|sex_index| cp|cp_index|fbs|fbs_index| ca|ca_index|exang|exang_index|restecg|restecg_index|slope|slope_index|thal|thal_index|\n",
      "+---+---------+---+--------+---+---------+---+--------+-----+-----------+-------+-------------+-----+-----------+----+----------+\n",
      "|  1|      0.0|  3|     3.0|  1|      1.0|  0|     0.0|    0|        0.0|      0|          1.0|    0|        2.0|   1|       2.0|\n",
      "|  1|      0.0|  2|     1.0|  0|      0.0|  0|     0.0|    0|        0.0|      1|          0.0|    0|        2.0|   2|       0.0|\n",
      "|  0|      1.0|  1|     2.0|  0|      0.0|  0|     0.0|    0|        0.0|      0|          1.0|    2|        0.0|   2|       0.0|\n",
      "|  1|      0.0|  1|     2.0|  0|      0.0|  0|     0.0|    0|        0.0|      1|          0.0|    2|        0.0|   2|       0.0|\n",
      "|  0|      1.0|  0|     0.0|  0|      0.0|  0|     0.0|    1|        1.0|      1|          0.0|    2|        0.0|   2|       0.0|\n",
      "|  1|      0.0|  0|     0.0|  0|      0.0|  0|     0.0|    0|        0.0|      1|          0.0|    1|        1.0|   1|       2.0|\n",
      "|  0|      1.0|  1|     2.0|  0|      0.0|  0|     0.0|    0|        0.0|      0|          1.0|    1|        1.0|   2|       0.0|\n",
      "|  1|      0.0|  1|     2.0|  0|      0.0|  0|     0.0|    0|        0.0|      1|          0.0|    2|        0.0|   3|       1.0|\n",
      "|  1|      0.0|  2|     1.0|  1|      1.0|  0|     0.0|    0|        0.0|      1|          0.0|    2|        0.0|   3|       1.0|\n",
      "|  1|      0.0|  2|     1.0|  0|      0.0|  0|     0.0|    0|        0.0|      1|          0.0|    2|        0.0|   2|       0.0|\n",
      "|  1|      0.0|  0|     0.0|  0|      0.0|  0|     0.0|    0|        0.0|      1|          0.0|    2|        0.0|   2|       0.0|\n",
      "|  0|      1.0|  2|     1.0|  0|      0.0|  0|     0.0|    0|        0.0|      1|          0.0|    2|        0.0|   2|       0.0|\n",
      "|  1|      0.0|  1|     2.0|  0|      0.0|  0|     0.0|    0|        0.0|      1|          0.0|    2|        0.0|   2|       0.0|\n",
      "|  1|      0.0|  3|     3.0|  0|      0.0|  0|     0.0|    1|        1.0|      0|          1.0|    1|        1.0|   2|       0.0|\n",
      "|  0|      1.0|  3|     3.0|  1|      1.0|  0|     0.0|    0|        0.0|      0|          1.0|    2|        0.0|   2|       0.0|\n",
      "|  0|      1.0|  2|     1.0|  0|      0.0|  0|     0.0|    0|        0.0|      1|          0.0|    1|        1.0|   2|       0.0|\n",
      "|  0|      1.0|  2|     1.0|  0|      0.0|  0|     0.0|    0|        0.0|      1|          0.0|    2|        0.0|   2|       0.0|\n",
      "|  0|      1.0|  3|     3.0|  0|      0.0|  0|     0.0|    0|        0.0|      1|          0.0|    0|        2.0|   2|       0.0|\n",
      "|  1|      0.0|  0|     0.0|  0|      0.0|  0|     0.0|    0|        0.0|      1|          0.0|    2|        0.0|   2|       0.0|\n",
      "|  0|      1.0|  3|     3.0|  0|      0.0|  2|     2.0|    0|        0.0|      1|          0.0|    2|        0.0|   2|       0.0|\n",
      "+---+---------+---+--------+---+---------+---+--------+-----+-----------+-------+-------------+-----+-----------+----+----------+\n",
      "only showing top 20 rows\n",
      "\n"
     ]
    }
   ],
   "source": [
    "from pyspark.ml import Pipeline\n",
    "from pyspark.ml.feature import StringIndexer\n",
    "\n",
    "indexers = [StringIndexer(inputCol=column, outputCol=column+\"_index\").fit(df) for column in list(['sex','cp','fbs','ca','exang','restecg','slope','thal']) ]\n",
    "\n",
    "pipeline = Pipeline(stages=indexers)\n",
    "df_r = pipeline.fit(df).transform(df)\n",
    "\n",
    "df_r.select(['sex','sex_index','cp','cp_index','fbs','fbs_index','ca','ca_index','exang','exang_index','restecg','restecg_index','slope','slope_index','thal','thal_index',]).show()"
   ]
  },
  {
   "cell_type": "markdown",
   "metadata": {},
   "source": [
    "## Data Transformation"
   ]
  },
  {
   "cell_type": "markdown",
   "metadata": {},
   "source": [
    "### Reduce Data"
   ]
  },
  {
   "cell_type": "code",
   "execution_count": 230,
   "metadata": {},
   "outputs": [
    {
     "name": "stdout",
     "output_type": "stream",
     "text": [
      "['restecg', 'thalach', 'chol', 'ca', 'trestbps', 'oldpeak', 'age', 'sex', 'thal', 'fbs', 'exang', 'cp', 'slope']\n"
     ]
    }
   ],
   "source": [
    "# Now we can assemble all of this as one vector in the features column. \n",
    "inputCols = list(set(df.columns)-set(['target']))\n",
    "print(inputCols)\n",
    "assembler = VectorAssembler(inputCols=inputCols,outputCol='features')"
   ]
  },
  {
   "cell_type": "markdown",
   "metadata": {},
   "source": [
    "**Notice the sequences of input factors in assembler is different from the original dataframe.**"
   ]
  },
  {
   "cell_type": "code",
   "execution_count": 231,
   "metadata": {},
   "outputs": [
    {
     "name": "stdout",
     "output_type": "stream",
     "text": [
      "(13,[3,5,6,11,12],[0.18063345214309914,0.418600336857637,0.027472667785522903,0.31839333760194677,0.05490020561179412])\n",
      "ChiSqSelector output with top 13 features selected\n"
     ]
    },
    {
     "data": {
      "text/plain": [
       "[8, 11, 3, 10, 12, 7, 5, 0, 1, 2, 6, 4, 9]"
      ]
     },
     "execution_count": 231,
     "metadata": {},
     "output_type": "execute_result"
    }
   ],
   "source": [
    "from pyspark.ml.classification import RandomForestClassifier\n",
    "from numpy import allclose\n",
    "from pyspark.ml.linalg import Vectors\n",
    "from pyspark.ml.feature import StringIndexer\n",
    "\n",
    "td = assembler.transform(df)\n",
    "rf = RandomForestClassifier(numTrees=3, maxDepth=2, labelCol=\"target\", seed=42)\n",
    "model = rf.fit(td)\n",
    "print(model.featureImportances)\n",
    "\n",
    "from pyspark.ml.feature import ChiSqSelector\n",
    "selector = ChiSqSelector(numTopFeatures=13, featuresCol=\"features\",\n",
    "                         outputCol=\"selectedFeatures\", labelCol=\"target\")\n",
    "\n",
    "result = selector.fit(td).transform(td)\n",
    "\n",
    "print(\"ChiSqSelector output with top %d features selected\" % selector.getNumTopFeatures())\n",
    "\n",
    "selector.fit(td).selectedFeatures"
   ]
  },
  {
   "cell_type": "markdown",
   "metadata": {},
   "source": [
    "**Combine the 2 results, the RFT selector select: [age, thal, thalach, ca, cp, exang] (basically categorical data); while the chisqselector: [thal, cp, ca, exang, slope, sex, oldpeak, restecg, thalach, chol, age, trestbps, fbs] (But chisqselector mainly for selecting categorical data.)**"
   ]
  },
  {
   "cell_type": "markdown",
   "metadata": {},
   "source": [
    "**We may drop: fbs**"
   ]
  },
  {
   "cell_type": "code",
   "execution_count": 232,
   "metadata": {},
   "outputs": [],
   "source": [
    "df1 = df.drop('fbs')"
   ]
  },
  {
   "cell_type": "code",
   "execution_count": 233,
   "metadata": {},
   "outputs": [
    {
     "name": "stdout",
     "output_type": "stream",
     "text": [
      "(303, 13)\n"
     ]
    }
   ],
   "source": [
    "print((df1.count(), len(df1.columns)))"
   ]
  },
  {
   "cell_type": "markdown",
   "metadata": {},
   "source": [
    "### Rebalancing Data"
   ]
  },
  {
   "cell_type": "code",
   "execution_count": 234,
   "metadata": {},
   "outputs": [
    {
     "data": {
      "text/plain": [
       "<matplotlib.axes._subplots.AxesSubplot at 0x7f294fa1b438>"
      ]
     },
     "execution_count": 234,
     "metadata": {},
     "output_type": "execute_result"
    },
    {
     "data": {
      "image/png": "[encoded data removed]",
      "text/plain": [
       "<Figure size 432x288 with 1 Axes>"
      ]
     },
     "metadata": {},
     "output_type": "display_data"
    }
   ],
   "source": [
    "sns.countplot(x='target',data=df1.toPandas())"
   ]
  },
  {
   "cell_type": "code",
   "execution_count": 235,
   "metadata": {},
   "outputs": [],
   "source": [
    "import sklearn\n",
    "from sklearn.utils import resample"
   ]
  },
  {
   "cell_type": "code",
   "execution_count": 236,
   "metadata": {},
   "outputs": [
    {
     "data": {
      "text/plain": [
       "1    165\n",
       "0    165\n",
       "Name: target, dtype: int64"
      ]
     },
     "execution_count": 236,
     "metadata": {},
     "output_type": "execute_result"
    }
   ],
   "source": [
    "# Separate majority and minority classes\n",
    "pddf1 = df1.toPandas()\n",
    "df_majority = pddf1[pddf1.target==1]\n",
    "df_minority = pddf1[pddf1.target==0]\n",
    " \n",
    "# Upsample minority class\n",
    "df_minority_upsampled = resample(df_minority, \n",
    "                                 replace=True,     # sample with replacement\n",
    "                                 n_samples=df_majority.shape[0],    # to match majority class\n",
    "                                 random_state=123) # reproducible results\n",
    " \n",
    "# Combine majority class with upsampled minority class\n",
    "df_upsampled = pd.concat([df_majority, df_minority_upsampled])\n",
    " \n",
    "# Display new class counts\n",
    "df_upsampled.target.value_counts()"
   ]
  },
  {
   "cell_type": "code",
   "execution_count": 237,
   "metadata": {},
   "outputs": [
    {
     "data": {
      "text/plain": [
       "(330, 13)"
      ]
     },
     "execution_count": 237,
     "metadata": {},
     "output_type": "execute_result"
    }
   ],
   "source": [
    "df_upsampled.shape"
   ]
  },
  {
   "cell_type": "markdown",
   "metadata": {},
   "source": [
    "## Statistical Transformation"
   ]
  },
  {
   "cell_type": "code",
   "execution_count": 238,
   "metadata": {},
   "outputs": [],
   "source": [
    "def stats_trans(df):\n",
    "    columns = ['age','trestbps','chol','thalach','oldpeak']\n",
    "    for col in columns:\n",
    "        df[col] = np.log(df[col])\n",
    "        #or: df_upsampled[['chol_log','thalach_log']]=df_new[['chol','thalach']].apply(lambda x : np.log(x))"
   ]
  },
  {
   "cell_type": "code",
   "execution_count": 239,
   "metadata": {},
   "outputs": [
    {
     "name": "stderr",
     "output_type": "stream",
     "text": [
      "/home/ubuntu/.local/lib/python3.5/site-packages/ipykernel_launcher.py:4: RuntimeWarning: divide by zero encountered in log\n",
      "  after removing the cwd from sys.path.\n"
     ]
    }
   ],
   "source": [
    "df_log = df_upsampled.copy() #initialize the new dataframe (log transformed)\n",
    "stats_trans(df_log)"
   ]
  },
  {
   "cell_type": "code",
   "execution_count": 240,
   "metadata": {},
   "outputs": [],
   "source": [
    "col_dict = {'age':'log_age','trestbps':'log_trestbps',\n",
    "                      'chol':'log_chol','thalach':'log_thalach','oldpeak':'log_oldpeak'}   ## key→old name, value→new name\n",
    "\n",
    "df_log.columns = [col_dict.get(x, x) for x in df_log.columns]\n",
    "df_log.rename(columns={}, inplace=True)"
   ]
  },
  {
   "cell_type": "code",
   "execution_count": 241,
   "metadata": {},
   "outputs": [
    {
     "data": {
      "text/plain": [
       "<matplotlib.axes._subplots.AxesSubplot at 0x7f2958bb04e0>"
      ]
     },
     "execution_count": 241,
     "metadata": {},
     "output_type": "execute_result"
    },
    {
     "data": {
      "image/png": "[encoded data removed]",
      "text/plain": [
       "<Figure size 432x288 with 1 Axes>"
      ]
     },
     "metadata": {},
     "output_type": "display_data"
    }
   ],
   "source": [
    "sns.distplot(df_upsampled.chol)"
   ]
  },
  {
   "cell_type": "code",
   "execution_count": 242,
   "metadata": {},
   "outputs": [
    {
     "data": {
      "text/plain": [
       "<matplotlib.axes._subplots.AxesSubplot at 0x7f294f994400>"
      ]
     },
     "execution_count": 242,
     "metadata": {},
     "output_type": "execute_result"
    },
    {
     "data": {
      "image/png": "[encoded data removed]",
      "text/plain": [
       "<Figure size 432x288 with 1 Axes>"
      ]
     },
     "metadata": {},
     "output_type": "display_data"
    }
   ],
   "source": [
    "sns.distplot(df_log.log_chol)"
   ]
  },
  {
   "cell_type": "code",
   "execution_count": 243,
   "metadata": {},
   "outputs": [
    {
     "data": {
      "text/html": [
       "<div>\n",
       "<style scoped>\n",
       "    .dataframe tbody tr th:only-of-type {\n",
       "        vertical-align: middle;\n",
       "    }\n",
       "\n",
       "    .dataframe tbody tr th {\n",
       "        vertical-align: top;\n",
       "    }\n",
       "\n",
       "    .dataframe thead th {\n",
       "        text-align: right;\n",
       "    }\n",
       "</style>\n",
       "<table border=\"1\" class=\"dataframe\">\n",
       "  <thead>\n",
       "    <tr style=\"text-align: right;\">\n",
       "      <th></th>\n",
       "      <th>log_age</th>\n",
       "      <th>sex</th>\n",
       "      <th>cp</th>\n",
       "      <th>log_trestbps</th>\n",
       "      <th>log_chol</th>\n",
       "      <th>restecg</th>\n",
       "      <th>log_thalach</th>\n",
       "      <th>exang</th>\n",
       "      <th>log_oldpeak</th>\n",
       "      <th>slope</th>\n",
       "      <th>ca</th>\n",
       "      <th>thal</th>\n",
       "      <th>target</th>\n",
       "    </tr>\n",
       "  </thead>\n",
       "  <tbody>\n",
       "    <tr>\n",
       "      <th>0</th>\n",
       "      <td>4.143135</td>\n",
       "      <td>1</td>\n",
       "      <td>3</td>\n",
       "      <td>4.976734</td>\n",
       "      <td>5.451038</td>\n",
       "      <td>0</td>\n",
       "      <td>5.010635</td>\n",
       "      <td>0</td>\n",
       "      <td>0.832909</td>\n",
       "      <td>0</td>\n",
       "      <td>0</td>\n",
       "      <td>1</td>\n",
       "      <td>1</td>\n",
       "    </tr>\n",
       "    <tr>\n",
       "      <th>1</th>\n",
       "      <td>3.610918</td>\n",
       "      <td>1</td>\n",
       "      <td>2</td>\n",
       "      <td>4.867534</td>\n",
       "      <td>5.521461</td>\n",
       "      <td>1</td>\n",
       "      <td>5.231109</td>\n",
       "      <td>0</td>\n",
       "      <td>1.252763</td>\n",
       "      <td>0</td>\n",
       "      <td>0</td>\n",
       "      <td>2</td>\n",
       "      <td>1</td>\n",
       "    </tr>\n",
       "    <tr>\n",
       "      <th>2</th>\n",
       "      <td>3.713572</td>\n",
       "      <td>0</td>\n",
       "      <td>1</td>\n",
       "      <td>4.867534</td>\n",
       "      <td>5.318120</td>\n",
       "      <td>0</td>\n",
       "      <td>5.147494</td>\n",
       "      <td>0</td>\n",
       "      <td>0.336472</td>\n",
       "      <td>2</td>\n",
       "      <td>0</td>\n",
       "      <td>2</td>\n",
       "      <td>1</td>\n",
       "    </tr>\n",
       "    <tr>\n",
       "      <th>3</th>\n",
       "      <td>4.025352</td>\n",
       "      <td>1</td>\n",
       "      <td>1</td>\n",
       "      <td>4.787492</td>\n",
       "      <td>5.463832</td>\n",
       "      <td>1</td>\n",
       "      <td>5.181784</td>\n",
       "      <td>0</td>\n",
       "      <td>-0.223144</td>\n",
       "      <td>2</td>\n",
       "      <td>0</td>\n",
       "      <td>2</td>\n",
       "      <td>1</td>\n",
       "    </tr>\n",
       "    <tr>\n",
       "      <th>4</th>\n",
       "      <td>4.043051</td>\n",
       "      <td>0</td>\n",
       "      <td>0</td>\n",
       "      <td>4.787492</td>\n",
       "      <td>5.869297</td>\n",
       "      <td>1</td>\n",
       "      <td>5.093750</td>\n",
       "      <td>1</td>\n",
       "      <td>-0.510826</td>\n",
       "      <td>2</td>\n",
       "      <td>0</td>\n",
       "      <td>2</td>\n",
       "      <td>1</td>\n",
       "    </tr>\n",
       "  </tbody>\n",
       "</table>\n",
       "</div>"
      ],
      "text/plain": [
       "    log_age  sex  cp  log_trestbps  log_chol  restecg  log_thalach  exang  \\\n",
       "0  4.143135    1   3      4.976734  5.451038        0     5.010635      0   \n",
       "1  3.610918    1   2      4.867534  5.521461        1     5.231109      0   \n",
       "2  3.713572    0   1      4.867534  5.318120        0     5.147494      0   \n",
       "3  4.025352    1   1      4.787492  5.463832        1     5.181784      0   \n",
       "4  4.043051    0   0      4.787492  5.869297        1     5.093750      1   \n",
       "\n",
       "   log_oldpeak  slope  ca  thal  target  \n",
       "0     0.832909      0   0     1       1  \n",
       "1     1.252763      0   0     2       1  \n",
       "2     0.336472      2   0     2       1  \n",
       "3    -0.223144      2   0     2       1  \n",
       "4    -0.510826      2   0     2       1  "
      ]
     },
     "execution_count": 243,
     "metadata": {},
     "output_type": "execute_result"
    }
   ],
   "source": [
    "df_log.head()"
   ]
  },
  {
   "cell_type": "markdown",
   "metadata": {},
   "source": [
    "## Data Mining"
   ]
  },
  {
   "cell_type": "markdown",
   "metadata": {},
   "source": [
    "**Now we use the transformed spark dataframe df1 for data mining.**"
   ]
  },
  {
   "cell_type": "markdown",
   "metadata": {},
   "source": [
    "### Split Data"
   ]
  },
  {
   "cell_type": "code",
   "execution_count": 244,
   "metadata": {},
   "outputs": [],
   "source": [
    "inputCols = list(set(df1.columns)-set(['target']))\n",
    "assembler2 = VectorAssembler(inputCols=inputCols,outputCol='features')"
   ]
  },
  {
   "cell_type": "code",
   "execution_count": 245,
   "metadata": {},
   "outputs": [],
   "source": [
    "# Train/test split. \n",
    "train_data, test_data = df1.randomSplit([0.8,.2])"
   ]
  },
  {
   "cell_type": "markdown",
   "metadata": {},
   "source": [
    "### Functions"
   ]
  },
  {
   "cell_type": "code",
   "execution_count": 246,
   "metadata": {},
   "outputs": [],
   "source": [
    "from pyspark.ml import Pipeline"
   ]
  },
  {
   "cell_type": "code",
   "execution_count": 247,
   "metadata": {},
   "outputs": [],
   "source": [
    "def datamining(model):\n",
    "    pipeline = Pipeline(stages=[assembler2, model])\n",
    "    fit_model = pipeline.fit(train_data)\n",
    "    results = fit_model.transform(test_data)\n",
    "    from pyspark.ml.evaluation import BinaryClassificationEvaluator\n",
    "    my_eval = BinaryClassificationEvaluator(rawPredictionCol='prediction',\n",
    "                                       labelCol='target')\n",
    "    results.select('target','prediction').show()\n",
    "    # We can then evaluate using AUC (area under the curve). AUC is linked to ROC.\n",
    "    AUC = my_eval.evaluate(results)\n",
    "    print(\"AUC is: \",AUC)\n",
    "    # Let's import the evaluator.\n",
    "    from pyspark.ml.evaluation import MulticlassClassificationEvaluator\n",
    "    # Select (prediction, true label) and compute test error. \n",
    "    acc_evaluator = MulticlassClassificationEvaluator(labelCol=\"target\", predictionCol=\"prediction\", metricName=\"accuracy\")\n",
    "    acc = acc_evaluator.evaluate(results)\n",
    "    # Let's do something a bit more complex in terms of printing, just so it's formatted nicer. \n",
    "    print(\"Here are the results!\")\n",
    "    print('-'*40)\n",
    "    print('Accuracy: {0:2.2f}%'.format(acc*100))\n"
   ]
  },
  {
   "cell_type": "markdown",
   "metadata": {},
   "source": [
    "### Train the model"
   ]
  },
  {
   "cell_type": "markdown",
   "metadata": {},
   "source": [
    "#### Logistic Regression (model1)"
   ]
  },
  {
   "cell_type": "code",
   "execution_count": 248,
   "metadata": {},
   "outputs": [],
   "source": [
    "from pyspark.ml.classification import LogisticRegression"
   ]
  },
  {
   "cell_type": "code",
   "execution_count": 249,
   "metadata": {},
   "outputs": [],
   "source": [
    "# Note that target is a categorial variable but didn't require any transformation.\n",
    "# That's because it's already in the format of 1's and 0's. \n",
    "log_reg_heart = LogisticRegression(featuresCol='features',labelCol='target')"
   ]
  },
  {
   "cell_type": "code",
   "execution_count": 250,
   "metadata": {},
   "outputs": [],
   "source": [
    "# Lists everything we want to do. Index data, encode data, assemble data and then pass in the actual model.\n",
    "pipeline = Pipeline(stages=[assembler2,log_reg_heart])"
   ]
  },
  {
   "cell_type": "code",
   "execution_count": 251,
   "metadata": {},
   "outputs": [],
   "source": [
    "# Note pipeline. Call it as you would call a machine learning object.\n",
    "fit_model1 = pipeline.fit(train_data)"
   ]
  },
  {
   "cell_type": "code",
   "execution_count": 252,
   "metadata": {},
   "outputs": [],
   "source": [
    "# Transform test data. \n",
    "results1 = fit_model1.transform(test_data)"
   ]
  },
  {
   "cell_type": "code",
   "execution_count": 253,
   "metadata": {},
   "outputs": [],
   "source": [
    "# Evaluate the model using the binary classifer.\n",
    "from pyspark.ml.evaluation import BinaryClassificationEvaluator\n",
    "\n",
    "my_eval1 = BinaryClassificationEvaluator(rawPredictionCol='prediction',\n",
    "                                       labelCol='target')"
   ]
  },
  {
   "cell_type": "code",
   "execution_count": 254,
   "metadata": {},
   "outputs": [
    {
     "name": "stdout",
     "output_type": "stream",
     "text": [
      "+------+----------+\n",
      "|target|prediction|\n",
      "+------+----------+\n",
      "|     1|       1.0|\n",
      "|     1|       1.0|\n",
      "|     1|       1.0|\n",
      "|     1|       1.0|\n",
      "|     1|       1.0|\n",
      "|     1|       1.0|\n",
      "|     1|       1.0|\n",
      "|     0|       0.0|\n",
      "|     0|       0.0|\n",
      "|     1|       1.0|\n",
      "|     0|       0.0|\n",
      "|     1|       1.0|\n",
      "|     1|       1.0|\n",
      "|     1|       1.0|\n",
      "|     1|       1.0|\n",
      "|     1|       1.0|\n",
      "|     1|       0.0|\n",
      "|     1|       1.0|\n",
      "|     1|       1.0|\n",
      "|     1|       1.0|\n",
      "+------+----------+\n",
      "only showing top 20 rows\n",
      "\n"
     ]
    }
   ],
   "source": [
    "# If we select the actual and predicted results, we can see that some predictions were correct while others were wrong.\n",
    "results1.select('target','prediction').show()"
   ]
  },
  {
   "cell_type": "code",
   "execution_count": 255,
   "metadata": {},
   "outputs": [
    {
     "data": {
      "text/plain": [
       "0.8142857142857143"
      ]
     },
     "execution_count": 255,
     "metadata": {},
     "output_type": "execute_result"
    }
   ],
   "source": [
    "# We can then evaluate using AUC (area under the curve). AUC is linked to ROC.\n",
    "AUC = my_eval1.evaluate(results1)\n",
    "\n",
    "AUC"
   ]
  },
  {
   "cell_type": "markdown",
   "metadata": {},
   "source": [
    "**3 Types of Tree Models**"
   ]
  },
  {
   "cell_type": "code",
   "execution_count": 256,
   "metadata": {},
   "outputs": [],
   "source": [
    "from pyspark.ml.classification import DecisionTreeClassifier,GBTClassifier,RandomForestClassifier"
   ]
  },
  {
   "cell_type": "code",
   "execution_count": 257,
   "metadata": {},
   "outputs": [],
   "source": [
    "# Use defaults to make the comparison \"fair\". This simplifies the comparison process.\n",
    "\n",
    "dtc = DecisionTreeClassifier(labelCol='target',featuresCol='features')\n",
    "rfc = RandomForestClassifier(labelCol='target',featuresCol='features')\n",
    "gbt = GBTClassifier(labelCol='target',featuresCol='features')"
   ]
  },
  {
   "cell_type": "markdown",
   "metadata": {},
   "source": [
    "#### Decision Tree (model2)"
   ]
  },
  {
   "cell_type": "code",
   "execution_count": 258,
   "metadata": {},
   "outputs": [
    {
     "name": "stdout",
     "output_type": "stream",
     "text": [
      "+------+----------+\n",
      "|target|prediction|\n",
      "+------+----------+\n",
      "|     1|       1.0|\n",
      "|     1|       1.0|\n",
      "|     1|       1.0|\n",
      "|     1|       1.0|\n",
      "|     1|       1.0|\n",
      "|     1|       1.0|\n",
      "|     1|       1.0|\n",
      "|     0|       0.0|\n",
      "|     0|       0.0|\n",
      "|     1|       0.0|\n",
      "|     0|       0.0|\n",
      "|     1|       1.0|\n",
      "|     1|       1.0|\n",
      "|     1|       1.0|\n",
      "|     1|       1.0|\n",
      "|     1|       1.0|\n",
      "|     1|       1.0|\n",
      "|     1|       1.0|\n",
      "|     1|       1.0|\n",
      "|     1|       1.0|\n",
      "+------+----------+\n",
      "only showing top 20 rows\n",
      "\n",
      "AUC is:  0.7517857142857143\n",
      "Here are the results!\n",
      "----------------------------------------\n",
      "Accuracy: 76.47%\n"
     ]
    }
   ],
   "source": [
    "datamining(dtc)"
   ]
  },
  {
   "cell_type": "markdown",
   "metadata": {},
   "source": [
    "#### Random Forest Trees (model3)"
   ]
  },
  {
   "cell_type": "code",
   "execution_count": 259,
   "metadata": {},
   "outputs": [
    {
     "name": "stdout",
     "output_type": "stream",
     "text": [
      "+------+----------+\n",
      "|target|prediction|\n",
      "+------+----------+\n",
      "|     1|       1.0|\n",
      "|     1|       1.0|\n",
      "|     1|       1.0|\n",
      "|     1|       1.0|\n",
      "|     1|       1.0|\n",
      "|     1|       1.0|\n",
      "|     1|       1.0|\n",
      "|     0|       0.0|\n",
      "|     0|       0.0|\n",
      "|     1|       1.0|\n",
      "|     0|       0.0|\n",
      "|     1|       1.0|\n",
      "|     1|       1.0|\n",
      "|     1|       1.0|\n",
      "|     1|       1.0|\n",
      "|     1|       1.0|\n",
      "|     1|       0.0|\n",
      "|     1|       1.0|\n",
      "|     1|       1.0|\n",
      "|     1|       1.0|\n",
      "+------+----------+\n",
      "only showing top 20 rows\n",
      "\n",
      "AUC is:  0.8017857142857143\n",
      "Here are the results!\n",
      "----------------------------------------\n",
      "Accuracy: 82.35%\n"
     ]
    }
   ],
   "source": [
    "datamining(rfc)"
   ]
  },
  {
   "cell_type": "markdown",
   "metadata": {},
   "source": [
    "#### GBT (model4)"
   ]
  },
  {
   "cell_type": "code",
   "execution_count": 260,
   "metadata": {},
   "outputs": [
    {
     "name": "stdout",
     "output_type": "stream",
     "text": [
      "+------+----------+\n",
      "|target|prediction|\n",
      "+------+----------+\n",
      "|     1|       1.0|\n",
      "|     1|       1.0|\n",
      "|     1|       1.0|\n",
      "|     1|       1.0|\n",
      "|     1|       1.0|\n",
      "|     1|       1.0|\n",
      "|     1|       1.0|\n",
      "|     0|       0.0|\n",
      "|     0|       0.0|\n",
      "|     1|       0.0|\n",
      "|     0|       0.0|\n",
      "|     1|       1.0|\n",
      "|     1|       1.0|\n",
      "|     1|       1.0|\n",
      "|     1|       1.0|\n",
      "|     1|       1.0|\n",
      "|     1|       1.0|\n",
      "|     1|       1.0|\n",
      "|     1|       1.0|\n",
      "|     1|       1.0|\n",
      "+------+----------+\n",
      "only showing top 20 rows\n",
      "\n",
      "AUC is:  0.7517857142857143\n",
      "Here are the results!\n",
      "----------------------------------------\n",
      "Accuracy: 76.47%\n"
     ]
    }
   ],
   "source": [
    "datamining(gbt)"
   ]
  },
  {
   "cell_type": "markdown",
   "metadata": {},
   "source": [
    "#### Naive Bayes (model5)"
   ]
  },
  {
   "cell_type": "code",
   "execution_count": 261,
   "metadata": {},
   "outputs": [],
   "source": [
    "from pyspark.ml.classification import NaiveBayes"
   ]
  },
  {
   "cell_type": "code",
   "execution_count": 262,
   "metadata": {},
   "outputs": [],
   "source": [
    "nb = NaiveBayes(smoothing=1.0, modelType=\"multinomial\",labelCol='target',featuresCol='features')"
   ]
  },
  {
   "cell_type": "code",
   "execution_count": 263,
   "metadata": {},
   "outputs": [
    {
     "name": "stdout",
     "output_type": "stream",
     "text": [
      "+------+----------+\n",
      "|target|prediction|\n",
      "+------+----------+\n",
      "|     1|       1.0|\n",
      "|     1|       1.0|\n",
      "|     1|       1.0|\n",
      "|     1|       1.0|\n",
      "|     1|       0.0|\n",
      "|     1|       1.0|\n",
      "|     1|       1.0|\n",
      "|     0|       0.0|\n",
      "|     0|       0.0|\n",
      "|     1|       1.0|\n",
      "|     0|       1.0|\n",
      "|     1|       1.0|\n",
      "|     1|       1.0|\n",
      "|     1|       1.0|\n",
      "|     1|       1.0|\n",
      "|     1|       1.0|\n",
      "|     1|       0.0|\n",
      "|     1|       1.0|\n",
      "|     1|       1.0|\n",
      "|     1|       1.0|\n",
      "+------+----------+\n",
      "only showing top 20 rows\n",
      "\n",
      "AUC is:  0.7160714285714287\n",
      "Here are the results!\n",
      "----------------------------------------\n",
      "Accuracy: 73.53%\n"
     ]
    }
   ],
   "source": [
    "datamining(nb)"
   ]
  },
  {
   "cell_type": "markdown",
   "metadata": {},
   "source": [
    "#### Multilayer Perceptron (model6)"
   ]
  },
  {
   "cell_type": "code",
   "execution_count": 264,
   "metadata": {},
   "outputs": [],
   "source": [
    "from pyspark.ml.classification import MultilayerPerceptronClassifier"
   ]
  },
  {
   "cell_type": "code",
   "execution_count": 265,
   "metadata": {},
   "outputs": [],
   "source": [
    "# specify layers for the neural network:\n",
    "# input layer of size 12 (features), two intermediate of size 13 and 12\n",
    "# and output of size 2 (classes)\n",
    "layers = [12, 13, 12, 2]\n",
    "mlp = MultilayerPerceptronClassifier(maxIter=100, layers=layers, blockSize=128, seed=1234, labelCol='target',featuresCol='features')"
   ]
  },
  {
   "cell_type": "code",
   "execution_count": 266,
   "metadata": {},
   "outputs": [
    {
     "name": "stdout",
     "output_type": "stream",
     "text": [
      "+------+----------+\n",
      "|target|prediction|\n",
      "+------+----------+\n",
      "|     1|       1.0|\n",
      "|     1|       1.0|\n",
      "|     1|       1.0|\n",
      "|     1|       1.0|\n",
      "|     1|       1.0|\n",
      "|     1|       1.0|\n",
      "|     1|       1.0|\n",
      "|     0|       0.0|\n",
      "|     0|       0.0|\n",
      "|     1|       1.0|\n",
      "|     0|       0.0|\n",
      "|     1|       1.0|\n",
      "|     1|       1.0|\n",
      "|     1|       1.0|\n",
      "|     1|       1.0|\n",
      "|     1|       1.0|\n",
      "|     1|       0.0|\n",
      "|     1|       1.0|\n",
      "|     1|       1.0|\n",
      "|     1|       1.0|\n",
      "+------+----------+\n",
      "only showing top 20 rows\n",
      "\n",
      "AUC is:  0.8196428571428571\n",
      "Here are the results!\n",
      "----------------------------------------\n",
      "Accuracy: 83.82%\n"
     ]
    }
   ],
   "source": [
    "datamining(mlp)"
   ]
  },
  {
   "cell_type": "markdown",
   "metadata": {},
   "source": [
    "### Parameter Tuning "
   ]
  },
  {
   "cell_type": "code",
   "execution_count": 267,
   "metadata": {},
   "outputs": [],
   "source": [
    "from pyspark.ml.tuning import CrossValidator, ParamGridBuilder"
   ]
  },
  {
   "cell_type": "code",
   "execution_count": 268,
   "metadata": {},
   "outputs": [],
   "source": [
    "paramGrid = ParamGridBuilder() \\\n",
    "    .addGrid(log_reg_heart.regParam, [0.1, 0.01]) \\\n",
    "    .addGrid(log_reg_heart.maxIter, [10, 100, 1000]) \\\n",
    "    .build()"
   ]
  },
  {
   "cell_type": "code",
   "execution_count": 269,
   "metadata": {},
   "outputs": [],
   "source": [
    "from pyspark.ml.evaluation import RegressionEvaluator"
   ]
  },
  {
   "cell_type": "code",
   "execution_count": 270,
   "metadata": {},
   "outputs": [],
   "source": [
    "from pyspark.ml.tuning import ParamGridBuilder, TrainValidationSplit"
   ]
  },
  {
   "cell_type": "code",
   "execution_count": 271,
   "metadata": {},
   "outputs": [
    {
     "name": "stdout",
     "output_type": "stream",
     "text": [
      "+--------------------+------+----------+\n",
      "|            features|target|prediction|\n",
      "+--------------------+------+----------+\n",
      "|[1.0,198.0,0.0,12...|     0|       0.0|\n",
      "|[1.0,215.0,0.0,12...|     1|       1.0|\n",
      "|[1.0,250.0,0.0,13...|     1|       1.0|\n",
      "|[0.0,321.0,0.0,14...|     1|       1.0|\n",
      "|[0.0,167.0,0.0,11...|     0|       0.0|\n",
      "|[1.0,223.0,0.0,15...|     0|       1.0|\n",
      "|[1.0,180.0,0.0,13...|     1|       1.0|\n",
      "|[1.0,303.0,0.0,11...|     1|       1.0|\n",
      "|[0.0,247.0,4.0,13...|     0|       0.0|\n",
      "|[1.0,263.0,0.0,12...|     1|       1.0|\n",
      "|[0.0,236.0,0.0,13...|     1|       1.0|\n",
      "|[0.0,177.0,0.0,14...|     1|       1.0|\n",
      "|[1.0,204.0,0.0,11...|     1|       1.0|\n",
      "|[1.0,253.0,0.0,13...|     1|       1.0|\n",
      "|[1.0,275.0,0.0,13...|     1|       1.0|\n",
      "|[0.0,256.0,2.0,13...|     0|       0.0|\n",
      "|[1.0,229.0,0.0,11...|     0|       1.0|\n",
      "|(12,[1,3,5,7,8,11...|     1|       1.0|\n",
      "|[1.0,196.0,0.0,12...|     1|       1.0|\n",
      "|[1.0,299.0,0.0,14...|     0|       0.0|\n",
      "+--------------------+------+----------+\n",
      "only showing top 20 rows\n",
      "\n"
     ]
    }
   ],
   "source": [
    "# Prepare training and test data.\n",
    "train, test = df1.randomSplit([0.8, 0.2], seed=12345)\n",
    "\n",
    "# lr = LogisticRegression(maxIter=10)\n",
    "\n",
    "# We use a ParamGridBuilder to construct a grid of parameters to search over.\n",
    "# TrainValidationSplit will try all combinations of values and determine best model using\n",
    "# the evaluator.\n",
    "paramGrid = ParamGridBuilder()\\\n",
    "    .addGrid(log_reg_heart.regParam, [0.1, 0.01]) \\\n",
    "    .addGrid(log_reg_heart.fitIntercept, [False, True])\\\n",
    "    .addGrid(log_reg_heart.elasticNetParam, [0.0, 0.5, 1.0])\\\n",
    "    .build()\n",
    "\n",
    "# In this case the estimator is simply the logistic regression.\n",
    "# A TrainValidationSplit requires an Estimator, a set of Estimator ParamMaps, and an Evaluator.\n",
    "tvs = TrainValidationSplit(estimator=log_reg_heart,\n",
    "                           estimatorParamMaps=paramGrid,\n",
    "                           evaluator=RegressionEvaluator(),\n",
    "                           # 80% of the data will be used for training, 20% for validation.\n",
    "                           trainRatio=0.8)\n",
    "\n",
    "# Run TrainValidationSplit, and choose the best set of parameters.\n",
    "model = pipeline.fit(train)\n",
    "\n",
    "# Make predictions on test data. model is the model with combination of parameters\n",
    "# that performed best.\n",
    "model.transform(test)\\\n",
    "    .select(\"features\", \"target\", \"prediction\")\\\n",
    "    .show()\n"
   ]
  },
  {
   "cell_type": "code",
   "execution_count": 272,
   "metadata": {},
   "outputs": [
    {
     "name": "stdout",
     "output_type": "stream",
     "text": [
      "{'class_weight': ['balanced', None], 'max_depth': [10, 20, 30, 40, 50, 60, 70, 80, 90, 100, 110, None], 'n_estimators': [200, 400, 600, 800, 1000, 1200, 1400, 1600, 1800, 2000], 'bootstrap': [True, False], 'criterion': ['gini', 'entropy'], 'max_features': ['auto', 'sqrt'], 'min_samples_leaf': [1, 2, 4], 'min_samples_split': [2, 5, 10]}\n"
     ]
    }
   ],
   "source": [
    "from sklearn.model_selection import RandomizedSearchCV \n",
    "criterion = ['gini', 'entropy']\n",
    "class_weight = ['balanced', None]  \n",
    "# Number of trees in random forest\n",
    "n_estimators = [int(x) for x in np.linspace(start = 200, stop = 2000, num = 10)]\n",
    "# Number of features to consider at every split\n",
    "max_features = ['auto', 'sqrt']\n",
    "# Maximum number of levels in tree\n",
    "max_depth = [int(x) for x in np.linspace(10, 110, num = 11)]\n",
    "max_depth.append(None)\n",
    "# Minimum number of samples required to split a node\n",
    "min_samples_split = [2, 5, 10]\n",
    "# Minimum number of samples required at each leaf node\n",
    "min_samples_leaf = [1, 2, 4]\n",
    "# Method of selecting samples for training each tree\n",
    "bootstrap = [True, False]\n",
    "# Create the random grid\n",
    "random_grid = {'n_estimators': n_estimators,\n",
    "               'max_features': max_features,\n",
    "               'max_depth': max_depth,\n",
    "               'min_samples_split': min_samples_split,\n",
    "               'min_samples_leaf': min_samples_leaf,\n",
    "               'bootstrap': bootstrap,\n",
    "              'criterion': criterion,\n",
    "              'class_weight': class_weight}\n",
    "print(random_grid)"
   ]
  },
  {
   "cell_type": "code",
   "execution_count": 273,
   "metadata": {},
   "outputs": [
    {
     "name": "stdout",
     "output_type": "stream",
     "text": [
      "Fitting 5 folds for each of 100 candidates, totalling 500 fits\n"
     ]
    },
    {
     "name": "stderr",
     "output_type": "stream",
     "text": [
      "[Parallel(n_jobs=-1)]: Using backend SequentialBackend with 1 concurrent workers.\n",
      "[Parallel(n_jobs=-1)]: Done 500 out of 500 | elapsed:  9.5min finished\n",
      "/usr/local/lib/python3.5/dist-packages/sklearn/model_selection/_search.py:814: DeprecationWarning: The default of the `iid` parameter will change from True to False in version 0.22 and will be removed in 0.24. This will change numeric results when test-set sizes are unequal.\n",
      "  DeprecationWarning)\n"
     ]
    },
    {
     "ename": "AttributeError",
     "evalue": "'dict' object has no attribute 'predict'",
     "output_type": "error",
     "traceback": [
      "\u001b[0;31m---------------------------------------------------------------------------\u001b[0m",
      "\u001b[0;31mAttributeError\u001b[0m                            Traceback (most recent call last)",
      "\u001b[0;32m<ipython-input-273-63bd4446ec3d>\u001b[0m in \u001b[0;36m<module>\u001b[0;34m()\u001b[0m\n\u001b[1;32m     26\u001b[0m \u001b[0mparams\u001b[0m \u001b[0;34m=\u001b[0m \u001b[0mrf_random\u001b[0m\u001b[0;34m.\u001b[0m\u001b[0mbest_params_\u001b[0m\u001b[0;34m\u001b[0m\u001b[0m\n\u001b[1;32m     27\u001b[0m \u001b[0;34m\u001b[0m\u001b[0m\n\u001b[0;32m---> 28\u001b[0;31m \u001b[0mbase_accuracy\u001b[0m \u001b[0;34m=\u001b[0m \u001b[0mevaluate\u001b[0m\u001b[0;34m(\u001b[0m\u001b[0mparams\u001b[0m\u001b[0;34m,\u001b[0m \u001b[0mtest_x\u001b[0m\u001b[0;34m,\u001b[0m \u001b[0mtest_y\u001b[0m\u001b[0;34m)\u001b[0m\u001b[0;34m\u001b[0m\u001b[0m\n\u001b[0m\u001b[1;32m     29\u001b[0m \u001b[0mprint\u001b[0m\u001b[0;34m(\u001b[0m\u001b[0mbase_accuracy\u001b[0m\u001b[0;34m)\u001b[0m\u001b[0;34m\u001b[0m\u001b[0m\n",
      "\u001b[0;32m<ipython-input-273-63bd4446ec3d>\u001b[0m in \u001b[0;36mevaluate\u001b[0;34m(model, test_features, test_labels)\u001b[0m\n\u001b[1;32m      1\u001b[0m \u001b[0;32mfrom\u001b[0m \u001b[0msklearn\u001b[0m\u001b[0;34m.\u001b[0m\u001b[0mensemble\u001b[0m \u001b[0;32mimport\u001b[0m \u001b[0mRandomForestClassifier\u001b[0m\u001b[0;34m\u001b[0m\u001b[0m\n\u001b[1;32m      2\u001b[0m \u001b[0;32mdef\u001b[0m \u001b[0mevaluate\u001b[0m\u001b[0;34m(\u001b[0m\u001b[0mmodel\u001b[0m\u001b[0;34m,\u001b[0m \u001b[0mtest_features\u001b[0m\u001b[0;34m,\u001b[0m \u001b[0mtest_labels\u001b[0m\u001b[0;34m)\u001b[0m\u001b[0;34m:\u001b[0m\u001b[0;34m\u001b[0m\u001b[0m\n\u001b[0;32m----> 3\u001b[0;31m     \u001b[0mpredictions\u001b[0m \u001b[0;34m=\u001b[0m \u001b[0mmodel\u001b[0m\u001b[0;34m.\u001b[0m\u001b[0mpredict\u001b[0m\u001b[0;34m(\u001b[0m\u001b[0mtest_features\u001b[0m\u001b[0;34m)\u001b[0m\u001b[0;34m\u001b[0m\u001b[0m\n\u001b[0m\u001b[1;32m      4\u001b[0m     \u001b[0merrors\u001b[0m \u001b[0;34m=\u001b[0m \u001b[0mabs\u001b[0m\u001b[0;34m(\u001b[0m\u001b[0mpredictions\u001b[0m\u001b[0;34m-\u001b[0m\u001b[0mtest_labels\u001b[0m\u001b[0;34m)\u001b[0m\u001b[0;34m\u001b[0m\u001b[0m\n\u001b[1;32m      5\u001b[0m     \u001b[0mmape\u001b[0m \u001b[0;34m=\u001b[0m \u001b[0;36m100\u001b[0m \u001b[0;34m*\u001b[0m \u001b[0mnp\u001b[0m\u001b[0;34m.\u001b[0m\u001b[0mmean\u001b[0m\u001b[0;34m(\u001b[0m\u001b[0merrors\u001b[0m\u001b[0;34m/\u001b[0m\u001b[0mtest_labels\u001b[0m\u001b[0;34m)\u001b[0m\u001b[0;34m\u001b[0m\u001b[0m\n",
      "\u001b[0;31mAttributeError\u001b[0m: 'dict' object has no attribute 'predict'"
     ]
    }
   ],
   "source": [
    "from sklearn.ensemble import RandomForestClassifier\n",
    "def evaluate(model, test_features, test_labels):\n",
    "    predictions = model.predict(test_features)\n",
    "    errors = abs(predictions-test_labels)\n",
    "    mape = 100 * np.mean(errors/test_labels)\n",
    "    accuracy = 100 - mape\n",
    "    print('Model Performance')\n",
    "    print('Average Error: {:0.4f} degrees.'.format(np.mean(errors)))\n",
    "    print('Accuracy = {:0.2f}%.'.format(accuracy))\n",
    "    return accuracy\n",
    "\n",
    "## Use the random grid to search for best hyperparameters\n",
    "## First create the base model to tune\n",
    "rf = RandomForestClassifier()\n",
    "## Random search of parameters, using 5 fold cross validation,\n",
    "## search across 100 different combinations, and use all available cores\n",
    "from sklearn.metrics import balanced_accuracy_score, make_scorer\n",
    "accuracy_scorer = make_scorer(balanced_accuracy_score)\n",
    "rf_random = RandomizedSearchCV(scoring=accuracy_scorer, estimator = rf, param_distributions = random_grid, n_iter = 100, cv = 5, verbose=1, random_state=42, n_jobs = -1)\n",
    "## Fit the random search model\n",
    "pddf_final = df1.toPandas()\n",
    "from sklearn.model_selection import train_test_split\n",
    "train_x, test_x, train_y, test_y = train_test_split(pddf_final.drop('target', axis=1)\n",
    "                                                        , pddf_final['target'], test_size=0.2, random_state=42)\n",
    "rf_random.fit(train_x, train_y)\n",
    "params = rf_random.best_params_\n",
    "\n",
    "base_accuracy = evaluate(params, test_x, test_y)\n",
    "print(base_accuracy)"
   ]
  },
  {
   "cell_type": "code",
   "execution_count": 274,
   "metadata": {},
   "outputs": [
    {
     "name": "stdout",
     "output_type": "stream",
     "text": [
      "{'class_weight': 'balanced', 'max_depth': 30, 'n_estimators': 400, 'bootstrap': True, 'criterion': 'gini', 'max_features': 'auto', 'min_samples_leaf': 2, 'min_samples_split': 2}\n"
     ]
    }
   ],
   "source": [
    "print(params)"
   ]
  },
  {
   "cell_type": "code",
   "execution_count": 275,
   "metadata": {},
   "outputs": [],
   "source": [
    "model3 = RandomForestClassifier(n_estimators=400, min_samples_split=2, \n",
    "                                min_samples_leaf=2, max_features='auto', \n",
    "                                max_depth=None, criterion='gini', \n",
    "                                class_weight=None, bootstrap=True)"
   ]
  },
  {
   "cell_type": "code",
   "execution_count": 276,
   "metadata": {},
   "outputs": [
    {
     "data": {
      "text/plain": [
       "RandomForestClassifier(bootstrap=True, class_weight=None, criterion='gini',\n",
       "                       max_depth=None, max_features='auto', max_leaf_nodes=None,\n",
       "                       min_impurity_decrease=0.0, min_impurity_split=None,\n",
       "                       min_samples_leaf=2, min_samples_split=2,\n",
       "                       min_weight_fraction_leaf=0.0, n_estimators=400,\n",
       "                       n_jobs=None, oob_score=False, random_state=None,\n",
       "                       verbose=0, warm_start=False)"
      ]
     },
     "execution_count": 276,
     "metadata": {},
     "output_type": "execute_result"
    }
   ],
   "source": [
    "model3.fit(train_x,train_y)"
   ]
  },
  {
   "cell_type": "markdown",
   "metadata": {},
   "source": [
    "### Function to Predict Disease"
   ]
  },
  {
   "cell_type": "code",
   "execution_count": 277,
   "metadata": {},
   "outputs": [],
   "source": [
    "def predict_target(age,sex,cp,trestbps,chol,thalach,exang,oldpeak,slope,ca,thal,restecg):\n",
    "    input = [{'age': age,\n",
    "              'sex': sex,\n",
    "              'cp': cp,\n",
    "              'trestbps': trestbps,\n",
    "              'chol': chol,\n",
    "              'thalach': thalach,\n",
    "              'exang': exang,\n",
    "              'oldpeak': oldpeak,\n",
    "              'slope': slope,\n",
    "              'ca': ca,\n",
    "              'thal': thal,\n",
    "              'restecg': restecg}]\n",
    "    return model3.predict(pd.DataFrame(input))[0]"
   ]
  },
  {
   "cell_type": "code",
   "execution_count": 278,
   "metadata": {},
   "outputs": [
    {
     "data": {
      "text/plain": [
       "1"
      ]
     },
     "execution_count": 278,
     "metadata": {},
     "output_type": "execute_result"
    }
   ],
   "source": [
    "predict_target(51,1,1,125,260,190,1,1.2,0,0,2,0)"
   ]
  },
  {
   "cell_type": "code",
   "execution_count": 279,
   "metadata": {},
   "outputs": [
    {
     "name": "stdout",
     "output_type": "stream",
     "text": [
      "+-----+\n",
      "|value|\n",
      "+-----+\n",
      "| 51.0|\n",
      "|  1.0|\n",
      "|  1.0|\n",
      "|125.0|\n",
      "|260.0|\n",
      "|190.0|\n",
      "|  1.0|\n",
      "|  1.2|\n",
      "|  0.0|\n",
      "|  0.0|\n",
      "|  2.0|\n",
      "|  0.0|\n",
      "+-----+\n",
      "\n"
     ]
    }
   ],
   "source": [
    "from pyspark.sql.types import FloatType\n",
    "\n",
    "# notice the variable name (more below)\n",
    "test_data = [51.0, 1.0, 1.0, 125.0, 260.0, 190.0, 1.0, 1.2, 0.0, 0.0, 2.0, 0.0]\n",
    "\n",
    "# notice the parens after the type name\n",
    "test_data = spark.createDataFrame(test_data, FloatType()).show()"
   ]
  },
  {
   "cell_type": "markdown",
   "metadata": {},
   "source": [
    "## Interpretation"
   ]
  },
  {
   "cell_type": "code",
   "execution_count": 280,
   "metadata": {},
   "outputs": [
    {
     "data": {
      "text/plain": [
       "<seaborn.axisgrid.PairGrid at 0x7f294f926f98>"
      ]
     },
     "execution_count": 280,
     "metadata": {},
     "output_type": "execute_result"
    },
    {
     "data": {
      "image/png": "[encoded data removed]",
      "text/plain": [
       "<Figure size 942.375x1080 with 30 Axes>"
      ]
     },
     "metadata": {},
     "output_type": "display_data"
    }
   ],
   "source": [
    "sns.pairplot(df_upsampled,hue='target',x_vars = \n",
    "            ['age','sex', 'slope','chol','trestbps'],\n",
    "            y_vars = ['ca','cp','exang','thal','thalach','oldpeak'])"
   ]
  },
  {
   "cell_type": "markdown",
   "metadata": {},
   "source": [
    "## More Iterations"
   ]
  },
  {
   "cell_type": "markdown",
   "metadata": {},
   "source": [
    "### More Regression"
   ]
  },
  {
   "cell_type": "code",
   "execution_count": 281,
   "metadata": {},
   "outputs": [],
   "source": [
    "from pyspark.ml.regression import LinearRegression"
   ]
  },
  {
   "cell_type": "code",
   "execution_count": 282,
   "metadata": {},
   "outputs": [],
   "source": [
    "lr = LinearRegression(labelCol='target')"
   ]
  },
  {
   "cell_type": "code",
   "execution_count": 306,
   "metadata": {},
   "outputs": [],
   "source": [
    "assembler_a = VectorAssembler(\n",
    "    inputCols=[\"age\"],\n",
    "    outputCol=\"features\")"
   ]
  },
  {
   "cell_type": "code",
   "execution_count": 307,
   "metadata": {},
   "outputs": [],
   "source": [
    "output = assembler_a.transform(df1)"
   ]
  },
  {
   "cell_type": "code",
   "execution_count": 308,
   "metadata": {},
   "outputs": [
    {
     "name": "stdout",
     "output_type": "stream",
     "text": [
      "root\n",
      " |-- age: integer (nullable = true)\n",
      " |-- sex: integer (nullable = true)\n",
      " |-- cp: integer (nullable = true)\n",
      " |-- trestbps: integer (nullable = true)\n",
      " |-- chol: integer (nullable = true)\n",
      " |-- restecg: integer (nullable = true)\n",
      " |-- thalach: integer (nullable = true)\n",
      " |-- exang: integer (nullable = true)\n",
      " |-- oldpeak: double (nullable = true)\n",
      " |-- slope: integer (nullable = true)\n",
      " |-- ca: integer (nullable = true)\n",
      " |-- thal: integer (nullable = true)\n",
      " |-- target: integer (nullable = true)\n",
      " |-- features: vector (nullable = true)\n",
      "\n"
     ]
    }
   ],
   "source": [
    "output.printSchema()"
   ]
  },
  {
   "cell_type": "code",
   "execution_count": 310,
   "metadata": {},
   "outputs": [
    {
     "name": "stdout",
     "output_type": "stream",
     "text": [
      "+--------+--------+\n",
      "|features|trestbps|\n",
      "+--------+--------+\n",
      "|  [63.0]|     145|\n",
      "|  [37.0]|     130|\n",
      "|  [41.0]|     130|\n",
      "|  [56.0]|     120|\n",
      "|  [57.0]|     120|\n",
      "|  [57.0]|     140|\n",
      "|  [56.0]|     140|\n",
      "|  [44.0]|     120|\n",
      "|  [52.0]|     172|\n",
      "|  [57.0]|     150|\n",
      "|  [54.0]|     140|\n",
      "|  [48.0]|     130|\n",
      "|  [49.0]|     130|\n",
      "|  [64.0]|     110|\n",
      "|  [58.0]|     150|\n",
      "|  [50.0]|     120|\n",
      "|  [58.0]|     120|\n",
      "|  [66.0]|     150|\n",
      "|  [43.0]|     150|\n",
      "|  [69.0]|     140|\n",
      "+--------+--------+\n",
      "only showing top 20 rows\n",
      "\n"
     ]
    }
   ],
   "source": [
    "# Let's select two columns (the feature and predictor).\n",
    "# This is now in the appropriate format to be processed by Spark.\n",
    "final_data = output.select('features','trestbps')\n",
    "final_data.show()"
   ]
  },
  {
   "cell_type": "code",
   "execution_count": 311,
   "metadata": {},
   "outputs": [],
   "source": [
    "# Let's do a randomised 80/20 split. \n",
    "# Remember, you can use other splits depending on how easy/difficult it is to train your model.\n",
    "train_data,test_data = final_data.randomSplit([0.8,0.2])"
   ]
  },
  {
   "cell_type": "code",
   "execution_count": 312,
   "metadata": {},
   "outputs": [
    {
     "name": "stdout",
     "output_type": "stream",
     "text": [
      "+-------+------------------+\n",
      "|summary|          trestbps|\n",
      "+-------+------------------+\n",
      "|  count|               249|\n",
      "|   mean|131.52208835341366|\n",
      "| stddev| 17.61782094857456|\n",
      "|    min|                94|\n",
      "|    max|               200|\n",
      "+-------+------------------+\n",
      "\n",
      "+-------+------------------+\n",
      "|summary|          trestbps|\n",
      "+-------+------------------+\n",
      "|  count|                54|\n",
      "|   mean|132.09259259259258|\n",
      "| stddev|  17.3208005812169|\n",
      "|    min|               106|\n",
      "|    max|               178|\n",
      "+-------+------------------+\n",
      "\n"
     ]
    }
   ],
   "source": [
    "# Let's see our training data.\n",
    "train_data.describe().show()\n",
    "\n",
    "# And our testing data.\n",
    "test_data.describe().show()"
   ]
  },
  {
   "cell_type": "code",
   "execution_count": 313,
   "metadata": {},
   "outputs": [],
   "source": [
    "lr = LinearRegression(labelCol='trestbps')"
   ]
  },
  {
   "cell_type": "code",
   "execution_count": 314,
   "metadata": {},
   "outputs": [],
   "source": [
    "# Fit the model to the data.\n",
    "lrModel = lr.fit(train_data)"
   ]
  },
  {
   "cell_type": "code",
   "execution_count": 315,
   "metadata": {},
   "outputs": [
    {
     "name": "stdout",
     "output_type": "stream",
     "text": [
      "Coefficients: [0.5668828256650382] Intercept: 100.86032973471191\n"
     ]
    }
   ],
   "source": [
    "# Print the coefficients and intercept for linear regression.\n",
    "print(\"Coefficients: {} Intercept: {}\".format(lrModel.coefficients,lrModel.intercept))"
   ]
  },
  {
   "cell_type": "code",
   "execution_count": 316,
   "metadata": {},
   "outputs": [],
   "source": [
    "# Let's evaluate the model against the test data.\n",
    "test_results = lrModel.evaluate(test_data)"
   ]
  },
  {
   "cell_type": "code",
   "execution_count": 317,
   "metadata": {},
   "outputs": [
    {
     "name": "stdout",
     "output_type": "stream",
     "text": [
      "+-------------------+\n",
      "|          residuals|\n",
      "+-------------------+\n",
      "| -2.134345807323214|\n",
      "|-12.102525586978487|\n",
      "| 10.897474413021513|\n",
      "|  6.763708761691447|\n",
      "| 24.763708761691447|\n",
      "|-13.803174063973586|\n",
      "| -5.803174063973586|\n",
      "| -5.803174063973586|\n",
      "|  3.629943110361367|\n",
      "| -6.936939715303666|\n",
      "|-18.070705366633746|\n",
      "|-10.637588192298779|\n",
      "| -8.637588192298779|\n",
      "| -9.204471017963812|\n",
      "| 14.795528982036188|\n",
      "|-19.771353843628845|\n",
      "| 10.228646156371155|\n",
      "|-22.338236669293906|\n",
      "| 41.661763330706094|\n",
      "| 11.094880505041061|\n",
      "+-------------------+\n",
      "only showing top 20 rows\n",
      "\n",
      "RSME: 16.91393264778552\n"
     ]
    }
   ],
   "source": [
    "# Interesting results! This shows the difference between the predicted value and the test data.\n",
    "test_results.residuals.show()\n",
    "\n",
    "# Let's get some evaluation metrics (as discussed in the previous linear regression notebook).\n",
    "print(\"RSME: {}\".format(test_results.rootMeanSquaredError))"
   ]
  },
  {
   "cell_type": "code",
   "execution_count": 318,
   "metadata": {},
   "outputs": [
    {
     "name": "stdout",
     "output_type": "stream",
     "text": [
      "R2: 0.028436566943449204\n"
     ]
    }
   ],
   "source": [
    "# We can also get the R2 value. \n",
    "print(\"R2: {}\".format(test_results.r2))"
   ]
  },
  {
   "cell_type": "code",
   "execution_count": 320,
   "metadata": {},
   "outputs": [
    {
     "name": "stdout",
     "output_type": "stream",
     "text": [
      "+-------+------------------+\n",
      "|summary|          trestbps|\n",
      "+-------+------------------+\n",
      "|  count|               303|\n",
      "|   mean|131.62376237623764|\n",
      "| stddev|  17.5381428135171|\n",
      "|    min|                94|\n",
      "|    max|               200|\n",
      "+-------+------------------+\n",
      "\n"
     ]
    }
   ],
   "source": [
    "final_data.describe().show()"
   ]
  }
 ],
 "metadata": {
  "kernelspec": {
   "display_name": "Python 3",
   "language": "python",
   "name": "python3"
  },
  "language_info": {
   "codemirror_mode": {
    "name": "ipython",
    "version": 3
   },
   "file_extension": ".py",
   "mimetype": "text/x-python",
   "name": "python",
   "nbconvert_exporter": "python",
   "pygments_lexer": "ipython3",
   "version": "3.5.2"
  }
 },
 "nbformat": 4,
 "nbformat_minor": 2
}
