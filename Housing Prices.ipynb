{
 "cells": [
  {
   "cell_type": "markdown",
   "metadata": {},
   "source": [
    "# Data understanding"
   ]
  },
  {
   "cell_type": "markdown",
   "metadata": {},
   "source": [
    "## Data understanding"
   ]
  },
  {
   "cell_type": "markdown",
   "metadata": {},
   "source": [
    "数据集来自kaggle, 提供Ames, Iowa的历史房价，预测新的房价。\n",
    "共有79个变量。"
   ]
  },
  {
   "cell_type": "markdown",
   "metadata": {},
   "source": [
    "# Data preparation and preprocessing"
   ]
  },
  {
   "cell_type": "markdown",
   "metadata": {},
   "source": [
    "## Data collection"
   ]
  },
  {
   "cell_type": "code",
   "execution_count": 1,
   "metadata": {},
   "outputs": [],
   "source": [
    "import pandas as pd\n",
    "import numpy as np\n",
    "import matplotlib.pyplot as plt\n",
    "import seaborn as sns"
   ]
  },
  {
   "cell_type": "code",
   "execution_count": 2,
   "metadata": {},
   "outputs": [],
   "source": [
    "train_data = pd.read_csv('train.csv')\n",
    "test_data = pd.read_csv('test.csv')"
   ]
  },
  {
   "cell_type": "code",
   "execution_count": 3,
   "metadata": {},
   "outputs": [
    {
     "data": {
      "text/plain": [
       "(1460, 81)"
      ]
     },
     "execution_count": 3,
     "metadata": {},
     "output_type": "execute_result"
    }
   ],
   "source": [
    "train_data.shape"
   ]
  },
  {
   "cell_type": "code",
   "execution_count": 4,
   "metadata": {},
   "outputs": [
    {
     "data": {
      "text/plain": [
       "(1459, 80)"
      ]
     },
     "execution_count": 4,
     "metadata": {},
     "output_type": "execute_result"
    }
   ],
   "source": [
    "test_data.shape"
   ]
  },
  {
   "cell_type": "code",
   "execution_count": 5,
   "metadata": {},
   "outputs": [
    {
     "data": {
      "text/html": [
       "<div>\n",
       "<style scoped>\n",
       "    .dataframe tbody tr th:only-of-type {\n",
       "        vertical-align: middle;\n",
       "    }\n",
       "\n",
       "    .dataframe tbody tr th {\n",
       "        vertical-align: top;\n",
       "    }\n",
       "\n",
       "    .dataframe thead th {\n",
       "        text-align: right;\n",
       "    }\n",
       "</style>\n",
       "<table border=\"1\" class=\"dataframe\">\n",
       "  <thead>\n",
       "    <tr style=\"text-align: right;\">\n",
       "      <th></th>\n",
       "      <th>Id</th>\n",
       "      <th>MSSubClass</th>\n",
       "      <th>MSZoning</th>\n",
       "      <th>LotFrontage</th>\n",
       "      <th>LotArea</th>\n",
       "      <th>Street</th>\n",
       "      <th>Alley</th>\n",
       "      <th>LotShape</th>\n",
       "      <th>LandContour</th>\n",
       "      <th>Utilities</th>\n",
       "      <th>...</th>\n",
       "      <th>PoolArea</th>\n",
       "      <th>PoolQC</th>\n",
       "      <th>Fence</th>\n",
       "      <th>MiscFeature</th>\n",
       "      <th>MiscVal</th>\n",
       "      <th>MoSold</th>\n",
       "      <th>YrSold</th>\n",
       "      <th>SaleType</th>\n",
       "      <th>SaleCondition</th>\n",
       "      <th>SalePrice</th>\n",
       "    </tr>\n",
       "  </thead>\n",
       "  <tbody>\n",
       "    <tr>\n",
       "      <th>0</th>\n",
       "      <td>1</td>\n",
       "      <td>60</td>\n",
       "      <td>RL</td>\n",
       "      <td>65.0</td>\n",
       "      <td>8450</td>\n",
       "      <td>Pave</td>\n",
       "      <td>NaN</td>\n",
       "      <td>Reg</td>\n",
       "      <td>Lvl</td>\n",
       "      <td>AllPub</td>\n",
       "      <td>...</td>\n",
       "      <td>0</td>\n",
       "      <td>NaN</td>\n",
       "      <td>NaN</td>\n",
       "      <td>NaN</td>\n",
       "      <td>0</td>\n",
       "      <td>2</td>\n",
       "      <td>2008</td>\n",
       "      <td>WD</td>\n",
       "      <td>Normal</td>\n",
       "      <td>208500</td>\n",
       "    </tr>\n",
       "    <tr>\n",
       "      <th>1</th>\n",
       "      <td>2</td>\n",
       "      <td>20</td>\n",
       "      <td>RL</td>\n",
       "      <td>80.0</td>\n",
       "      <td>9600</td>\n",
       "      <td>Pave</td>\n",
       "      <td>NaN</td>\n",
       "      <td>Reg</td>\n",
       "      <td>Lvl</td>\n",
       "      <td>AllPub</td>\n",
       "      <td>...</td>\n",
       "      <td>0</td>\n",
       "      <td>NaN</td>\n",
       "      <td>NaN</td>\n",
       "      <td>NaN</td>\n",
       "      <td>0</td>\n",
       "      <td>5</td>\n",
       "      <td>2007</td>\n",
       "      <td>WD</td>\n",
       "      <td>Normal</td>\n",
       "      <td>181500</td>\n",
       "    </tr>\n",
       "    <tr>\n",
       "      <th>2</th>\n",
       "      <td>3</td>\n",
       "      <td>60</td>\n",
       "      <td>RL</td>\n",
       "      <td>68.0</td>\n",
       "      <td>11250</td>\n",
       "      <td>Pave</td>\n",
       "      <td>NaN</td>\n",
       "      <td>IR1</td>\n",
       "      <td>Lvl</td>\n",
       "      <td>AllPub</td>\n",
       "      <td>...</td>\n",
       "      <td>0</td>\n",
       "      <td>NaN</td>\n",
       "      <td>NaN</td>\n",
       "      <td>NaN</td>\n",
       "      <td>0</td>\n",
       "      <td>9</td>\n",
       "      <td>2008</td>\n",
       "      <td>WD</td>\n",
       "      <td>Normal</td>\n",
       "      <td>223500</td>\n",
       "    </tr>\n",
       "    <tr>\n",
       "      <th>3</th>\n",
       "      <td>4</td>\n",
       "      <td>70</td>\n",
       "      <td>RL</td>\n",
       "      <td>60.0</td>\n",
       "      <td>9550</td>\n",
       "      <td>Pave</td>\n",
       "      <td>NaN</td>\n",
       "      <td>IR1</td>\n",
       "      <td>Lvl</td>\n",
       "      <td>AllPub</td>\n",
       "      <td>...</td>\n",
       "      <td>0</td>\n",
       "      <td>NaN</td>\n",
       "      <td>NaN</td>\n",
       "      <td>NaN</td>\n",
       "      <td>0</td>\n",
       "      <td>2</td>\n",
       "      <td>2006</td>\n",
       "      <td>WD</td>\n",
       "      <td>Abnorml</td>\n",
       "      <td>140000</td>\n",
       "    </tr>\n",
       "    <tr>\n",
       "      <th>4</th>\n",
       "      <td>5</td>\n",
       "      <td>60</td>\n",
       "      <td>RL</td>\n",
       "      <td>84.0</td>\n",
       "      <td>14260</td>\n",
       "      <td>Pave</td>\n",
       "      <td>NaN</td>\n",
       "      <td>IR1</td>\n",
       "      <td>Lvl</td>\n",
       "      <td>AllPub</td>\n",
       "      <td>...</td>\n",
       "      <td>0</td>\n",
       "      <td>NaN</td>\n",
       "      <td>NaN</td>\n",
       "      <td>NaN</td>\n",
       "      <td>0</td>\n",
       "      <td>12</td>\n",
       "      <td>2008</td>\n",
       "      <td>WD</td>\n",
       "      <td>Normal</td>\n",
       "      <td>250000</td>\n",
       "    </tr>\n",
       "  </tbody>\n",
       "</table>\n",
       "<p>5 rows × 81 columns</p>\n",
       "</div>"
      ],
      "text/plain": [
       "   Id  MSSubClass MSZoning  LotFrontage  LotArea Street Alley LotShape  \\\n",
       "0   1          60       RL         65.0     8450   Pave   NaN      Reg   \n",
       "1   2          20       RL         80.0     9600   Pave   NaN      Reg   \n",
       "2   3          60       RL         68.0    11250   Pave   NaN      IR1   \n",
       "3   4          70       RL         60.0     9550   Pave   NaN      IR1   \n",
       "4   5          60       RL         84.0    14260   Pave   NaN      IR1   \n",
       "\n",
       "  LandContour Utilities  ... PoolArea PoolQC Fence MiscFeature MiscVal MoSold  \\\n",
       "0         Lvl    AllPub  ...        0    NaN   NaN         NaN       0      2   \n",
       "1         Lvl    AllPub  ...        0    NaN   NaN         NaN       0      5   \n",
       "2         Lvl    AllPub  ...        0    NaN   NaN         NaN       0      9   \n",
       "3         Lvl    AllPub  ...        0    NaN   NaN         NaN       0      2   \n",
       "4         Lvl    AllPub  ...        0    NaN   NaN         NaN       0     12   \n",
       "\n",
       "  YrSold  SaleType  SaleCondition  SalePrice  \n",
       "0   2008        WD         Normal     208500  \n",
       "1   2007        WD         Normal     181500  \n",
       "2   2008        WD         Normal     223500  \n",
       "3   2006        WD        Abnorml     140000  \n",
       "4   2008        WD         Normal     250000  \n",
       "\n",
       "[5 rows x 81 columns]"
      ]
     },
     "execution_count": 5,
     "metadata": {},
     "output_type": "execute_result"
    }
   ],
   "source": [
    "train_data.head()"
   ]
  },
  {
   "cell_type": "code",
   "execution_count": 6,
   "metadata": {},
   "outputs": [
    {
     "data": {
      "text/html": [
       "<div>\n",
       "<style scoped>\n",
       "    .dataframe tbody tr th:only-of-type {\n",
       "        vertical-align: middle;\n",
       "    }\n",
       "\n",
       "    .dataframe tbody tr th {\n",
       "        vertical-align: top;\n",
       "    }\n",
       "\n",
       "    .dataframe thead th {\n",
       "        text-align: right;\n",
       "    }\n",
       "</style>\n",
       "<table border=\"1\" class=\"dataframe\">\n",
       "  <thead>\n",
       "    <tr style=\"text-align: right;\">\n",
       "      <th></th>\n",
       "      <th>Id</th>\n",
       "      <th>MSSubClass</th>\n",
       "      <th>MSZoning</th>\n",
       "      <th>LotFrontage</th>\n",
       "      <th>LotArea</th>\n",
       "      <th>Street</th>\n",
       "      <th>Alley</th>\n",
       "      <th>LotShape</th>\n",
       "      <th>LandContour</th>\n",
       "      <th>Utilities</th>\n",
       "      <th>...</th>\n",
       "      <th>ScreenPorch</th>\n",
       "      <th>PoolArea</th>\n",
       "      <th>PoolQC</th>\n",
       "      <th>Fence</th>\n",
       "      <th>MiscFeature</th>\n",
       "      <th>MiscVal</th>\n",
       "      <th>MoSold</th>\n",
       "      <th>YrSold</th>\n",
       "      <th>SaleType</th>\n",
       "      <th>SaleCondition</th>\n",
       "    </tr>\n",
       "  </thead>\n",
       "  <tbody>\n",
       "    <tr>\n",
       "      <th>0</th>\n",
       "      <td>1461</td>\n",
       "      <td>20</td>\n",
       "      <td>RH</td>\n",
       "      <td>80.0</td>\n",
       "      <td>11622</td>\n",
       "      <td>Pave</td>\n",
       "      <td>NaN</td>\n",
       "      <td>Reg</td>\n",
       "      <td>Lvl</td>\n",
       "      <td>AllPub</td>\n",
       "      <td>...</td>\n",
       "      <td>120</td>\n",
       "      <td>0</td>\n",
       "      <td>NaN</td>\n",
       "      <td>MnPrv</td>\n",
       "      <td>NaN</td>\n",
       "      <td>0</td>\n",
       "      <td>6</td>\n",
       "      <td>2010</td>\n",
       "      <td>WD</td>\n",
       "      <td>Normal</td>\n",
       "    </tr>\n",
       "    <tr>\n",
       "      <th>1</th>\n",
       "      <td>1462</td>\n",
       "      <td>20</td>\n",
       "      <td>RL</td>\n",
       "      <td>81.0</td>\n",
       "      <td>14267</td>\n",
       "      <td>Pave</td>\n",
       "      <td>NaN</td>\n",
       "      <td>IR1</td>\n",
       "      <td>Lvl</td>\n",
       "      <td>AllPub</td>\n",
       "      <td>...</td>\n",
       "      <td>0</td>\n",
       "      <td>0</td>\n",
       "      <td>NaN</td>\n",
       "      <td>NaN</td>\n",
       "      <td>Gar2</td>\n",
       "      <td>12500</td>\n",
       "      <td>6</td>\n",
       "      <td>2010</td>\n",
       "      <td>WD</td>\n",
       "      <td>Normal</td>\n",
       "    </tr>\n",
       "    <tr>\n",
       "      <th>2</th>\n",
       "      <td>1463</td>\n",
       "      <td>60</td>\n",
       "      <td>RL</td>\n",
       "      <td>74.0</td>\n",
       "      <td>13830</td>\n",
       "      <td>Pave</td>\n",
       "      <td>NaN</td>\n",
       "      <td>IR1</td>\n",
       "      <td>Lvl</td>\n",
       "      <td>AllPub</td>\n",
       "      <td>...</td>\n",
       "      <td>0</td>\n",
       "      <td>0</td>\n",
       "      <td>NaN</td>\n",
       "      <td>MnPrv</td>\n",
       "      <td>NaN</td>\n",
       "      <td>0</td>\n",
       "      <td>3</td>\n",
       "      <td>2010</td>\n",
       "      <td>WD</td>\n",
       "      <td>Normal</td>\n",
       "    </tr>\n",
       "    <tr>\n",
       "      <th>3</th>\n",
       "      <td>1464</td>\n",
       "      <td>60</td>\n",
       "      <td>RL</td>\n",
       "      <td>78.0</td>\n",
       "      <td>9978</td>\n",
       "      <td>Pave</td>\n",
       "      <td>NaN</td>\n",
       "      <td>IR1</td>\n",
       "      <td>Lvl</td>\n",
       "      <td>AllPub</td>\n",
       "      <td>...</td>\n",
       "      <td>0</td>\n",
       "      <td>0</td>\n",
       "      <td>NaN</td>\n",
       "      <td>NaN</td>\n",
       "      <td>NaN</td>\n",
       "      <td>0</td>\n",
       "      <td>6</td>\n",
       "      <td>2010</td>\n",
       "      <td>WD</td>\n",
       "      <td>Normal</td>\n",
       "    </tr>\n",
       "    <tr>\n",
       "      <th>4</th>\n",
       "      <td>1465</td>\n",
       "      <td>120</td>\n",
       "      <td>RL</td>\n",
       "      <td>43.0</td>\n",
       "      <td>5005</td>\n",
       "      <td>Pave</td>\n",
       "      <td>NaN</td>\n",
       "      <td>IR1</td>\n",
       "      <td>HLS</td>\n",
       "      <td>AllPub</td>\n",
       "      <td>...</td>\n",
       "      <td>144</td>\n",
       "      <td>0</td>\n",
       "      <td>NaN</td>\n",
       "      <td>NaN</td>\n",
       "      <td>NaN</td>\n",
       "      <td>0</td>\n",
       "      <td>1</td>\n",
       "      <td>2010</td>\n",
       "      <td>WD</td>\n",
       "      <td>Normal</td>\n",
       "    </tr>\n",
       "  </tbody>\n",
       "</table>\n",
       "<p>5 rows × 80 columns</p>\n",
       "</div>"
      ],
      "text/plain": [
       "     Id  MSSubClass MSZoning  LotFrontage  LotArea Street Alley LotShape  \\\n",
       "0  1461          20       RH         80.0    11622   Pave   NaN      Reg   \n",
       "1  1462          20       RL         81.0    14267   Pave   NaN      IR1   \n",
       "2  1463          60       RL         74.0    13830   Pave   NaN      IR1   \n",
       "3  1464          60       RL         78.0     9978   Pave   NaN      IR1   \n",
       "4  1465         120       RL         43.0     5005   Pave   NaN      IR1   \n",
       "\n",
       "  LandContour Utilities  ... ScreenPorch PoolArea PoolQC  Fence MiscFeature  \\\n",
       "0         Lvl    AllPub  ...         120        0    NaN  MnPrv         NaN   \n",
       "1         Lvl    AllPub  ...           0        0    NaN    NaN        Gar2   \n",
       "2         Lvl    AllPub  ...           0        0    NaN  MnPrv         NaN   \n",
       "3         Lvl    AllPub  ...           0        0    NaN    NaN         NaN   \n",
       "4         HLS    AllPub  ...         144        0    NaN    NaN         NaN   \n",
       "\n",
       "  MiscVal MoSold  YrSold  SaleType  SaleCondition  \n",
       "0       0      6    2010        WD         Normal  \n",
       "1   12500      6    2010        WD         Normal  \n",
       "2       0      3    2010        WD         Normal  \n",
       "3       0      6    2010        WD         Normal  \n",
       "4       0      1    2010        WD         Normal  \n",
       "\n",
       "[5 rows x 80 columns]"
      ]
     },
     "execution_count": 6,
     "metadata": {},
     "output_type": "execute_result"
    }
   ],
   "source": [
    "test_data.head()"
   ]
  },
  {
   "cell_type": "code",
   "execution_count": 7,
   "metadata": {},
   "outputs": [],
   "source": [
    "continuous_features = ['LotFrontage','LotArea','MasVnrArea','BsmtFinSF1','BsmtFinSF2','BsmtUnfSF','TotalBsmtSF',\n",
    "                       '1stFlrSF','2ndFlrSF','LowQualFinSF','GrLivArea','BsmtFullBath','BsmtHalfBath','FullBath','HalfBath',\n",
    "                       'TotRmsAbvGrd','Fireplaces','GarageCars',\n",
    "                       'GarageArea','WoodDeckSF','OpenPorchSF','EnclosedPorch','3SsnPorch',\n",
    "                      'ScreenPorch','PoolArea','MiscVal','YearBuilt','YearRemodAdd','GarageYrBlt',]"
   ]
  },
  {
   "cell_type": "code",
   "execution_count": 8,
   "metadata": {},
   "outputs": [],
   "source": [
    "ordinal_features = ['Alley', 'LotShape', 'LandContour', 'Utilities', 'LandSlope','OverallQual',\n",
    "                   'OverallCond', 'ExterQual', 'ExterCond', 'BsmtQual','BsmtCond',\n",
    "                   'BsmtExposure', 'BsmtFinType1','BsmtFinType2', 'HeatingQC','CentralAir', 'Electrical',\n",
    "                   'KitchenQual','Functional','FireplaceQu','GarageQual','GarageCond','PavedDrive',\n",
    "                   'PoolQC','Fence','GarageFinish']\n",
    "\n",
    "nominal_features = [col for col in train_data.columns if col not in continuous_features+ordinal_features]\n",
    "nominal_features = list(set(nominal_features) - set(['SalePrice','Id']))"
   ]
  },
  {
   "cell_type": "code",
   "execution_count": 9,
   "metadata": {},
   "outputs": [],
   "source": [
    "# col_to_drop = [col for col in continuous_features+ordinal_features+nominal_features if col not in train_data]\n",
    "\n",
    "# continuous_features=[col for col in continuous_features if col not in col_to_drop]\n",
    "# ordinal_features=[col for col in ordinal_features if col not in col_to_drop]\n",
    "# nominal_features=[col for col in nominal_features if col not in col_to_drop]\n",
    "\n",
    "# print(len(continuous_features)+len(ordinal_features)+len(nominal_features))"
   ]
  },
  {
   "cell_type": "code",
   "execution_count": 10,
   "metadata": {},
   "outputs": [
    {
     "data": {
      "text/plain": [
       "Id                 int64\n",
       "MSSubClass         int64\n",
       "MSZoning          object\n",
       "LotFrontage      float64\n",
       "LotArea            int64\n",
       "                  ...   \n",
       "MoSold             int64\n",
       "YrSold             int64\n",
       "SaleType          object\n",
       "SaleCondition     object\n",
       "SalePrice          int64\n",
       "Length: 81, dtype: object"
      ]
     },
     "execution_count": 10,
     "metadata": {},
     "output_type": "execute_result"
    }
   ],
   "source": [
    "train_data.dtypes"
   ]
  },
  {
   "cell_type": "markdown",
   "metadata": {},
   "source": [
    "## Data exploration"
   ]
  },
  {
   "cell_type": "code",
   "execution_count": 11,
   "metadata": {
    "scrolled": true
   },
   "outputs": [
    {
     "data": {
      "text/html": [
       "<div>\n",
       "<style scoped>\n",
       "    .dataframe tbody tr th:only-of-type {\n",
       "        vertical-align: middle;\n",
       "    }\n",
       "\n",
       "    .dataframe tbody tr th {\n",
       "        vertical-align: top;\n",
       "    }\n",
       "\n",
       "    .dataframe thead th {\n",
       "        text-align: right;\n",
       "    }\n",
       "</style>\n",
       "<table border=\"1\" class=\"dataframe\">\n",
       "  <thead>\n",
       "    <tr style=\"text-align: right;\">\n",
       "      <th></th>\n",
       "      <th>Id</th>\n",
       "      <th>MSSubClass</th>\n",
       "      <th>LotFrontage</th>\n",
       "      <th>LotArea</th>\n",
       "      <th>OverallQual</th>\n",
       "      <th>OverallCond</th>\n",
       "      <th>YearBuilt</th>\n",
       "      <th>YearRemodAdd</th>\n",
       "      <th>MasVnrArea</th>\n",
       "      <th>BsmtFinSF1</th>\n",
       "      <th>...</th>\n",
       "      <th>WoodDeckSF</th>\n",
       "      <th>OpenPorchSF</th>\n",
       "      <th>EnclosedPorch</th>\n",
       "      <th>3SsnPorch</th>\n",
       "      <th>ScreenPorch</th>\n",
       "      <th>PoolArea</th>\n",
       "      <th>MiscVal</th>\n",
       "      <th>MoSold</th>\n",
       "      <th>YrSold</th>\n",
       "      <th>SalePrice</th>\n",
       "    </tr>\n",
       "  </thead>\n",
       "  <tbody>\n",
       "    <tr>\n",
       "      <th>count</th>\n",
       "      <td>1460.000000</td>\n",
       "      <td>1460.000000</td>\n",
       "      <td>1201.000000</td>\n",
       "      <td>1460.000000</td>\n",
       "      <td>1460.000000</td>\n",
       "      <td>1460.000000</td>\n",
       "      <td>1460.000000</td>\n",
       "      <td>1460.000000</td>\n",
       "      <td>1452.000000</td>\n",
       "      <td>1460.000000</td>\n",
       "      <td>...</td>\n",
       "      <td>1460.000000</td>\n",
       "      <td>1460.000000</td>\n",
       "      <td>1460.000000</td>\n",
       "      <td>1460.000000</td>\n",
       "      <td>1460.000000</td>\n",
       "      <td>1460.000000</td>\n",
       "      <td>1460.000000</td>\n",
       "      <td>1460.000000</td>\n",
       "      <td>1460.000000</td>\n",
       "      <td>1460.000000</td>\n",
       "    </tr>\n",
       "    <tr>\n",
       "      <th>mean</th>\n",
       "      <td>730.500000</td>\n",
       "      <td>56.897260</td>\n",
       "      <td>70.049958</td>\n",
       "      <td>10516.828082</td>\n",
       "      <td>6.099315</td>\n",
       "      <td>5.575342</td>\n",
       "      <td>1971.267808</td>\n",
       "      <td>1984.865753</td>\n",
       "      <td>103.685262</td>\n",
       "      <td>443.639726</td>\n",
       "      <td>...</td>\n",
       "      <td>94.244521</td>\n",
       "      <td>46.660274</td>\n",
       "      <td>21.954110</td>\n",
       "      <td>3.409589</td>\n",
       "      <td>15.060959</td>\n",
       "      <td>2.758904</td>\n",
       "      <td>43.489041</td>\n",
       "      <td>6.321918</td>\n",
       "      <td>2007.815753</td>\n",
       "      <td>180921.195890</td>\n",
       "    </tr>\n",
       "    <tr>\n",
       "      <th>std</th>\n",
       "      <td>421.610009</td>\n",
       "      <td>42.300571</td>\n",
       "      <td>24.284752</td>\n",
       "      <td>9981.264932</td>\n",
       "      <td>1.382997</td>\n",
       "      <td>1.112799</td>\n",
       "      <td>30.202904</td>\n",
       "      <td>20.645407</td>\n",
       "      <td>181.066207</td>\n",
       "      <td>456.098091</td>\n",
       "      <td>...</td>\n",
       "      <td>125.338794</td>\n",
       "      <td>66.256028</td>\n",
       "      <td>61.119149</td>\n",
       "      <td>29.317331</td>\n",
       "      <td>55.757415</td>\n",
       "      <td>40.177307</td>\n",
       "      <td>496.123024</td>\n",
       "      <td>2.703626</td>\n",
       "      <td>1.328095</td>\n",
       "      <td>79442.502883</td>\n",
       "    </tr>\n",
       "    <tr>\n",
       "      <th>min</th>\n",
       "      <td>1.000000</td>\n",
       "      <td>20.000000</td>\n",
       "      <td>21.000000</td>\n",
       "      <td>1300.000000</td>\n",
       "      <td>1.000000</td>\n",
       "      <td>1.000000</td>\n",
       "      <td>1872.000000</td>\n",
       "      <td>1950.000000</td>\n",
       "      <td>0.000000</td>\n",
       "      <td>0.000000</td>\n",
       "      <td>...</td>\n",
       "      <td>0.000000</td>\n",
       "      <td>0.000000</td>\n",
       "      <td>0.000000</td>\n",
       "      <td>0.000000</td>\n",
       "      <td>0.000000</td>\n",
       "      <td>0.000000</td>\n",
       "      <td>0.000000</td>\n",
       "      <td>1.000000</td>\n",
       "      <td>2006.000000</td>\n",
       "      <td>34900.000000</td>\n",
       "    </tr>\n",
       "    <tr>\n",
       "      <th>25%</th>\n",
       "      <td>365.750000</td>\n",
       "      <td>20.000000</td>\n",
       "      <td>59.000000</td>\n",
       "      <td>7553.500000</td>\n",
       "      <td>5.000000</td>\n",
       "      <td>5.000000</td>\n",
       "      <td>1954.000000</td>\n",
       "      <td>1967.000000</td>\n",
       "      <td>0.000000</td>\n",
       "      <td>0.000000</td>\n",
       "      <td>...</td>\n",
       "      <td>0.000000</td>\n",
       "      <td>0.000000</td>\n",
       "      <td>0.000000</td>\n",
       "      <td>0.000000</td>\n",
       "      <td>0.000000</td>\n",
       "      <td>0.000000</td>\n",
       "      <td>0.000000</td>\n",
       "      <td>5.000000</td>\n",
       "      <td>2007.000000</td>\n",
       "      <td>129975.000000</td>\n",
       "    </tr>\n",
       "    <tr>\n",
       "      <th>50%</th>\n",
       "      <td>730.500000</td>\n",
       "      <td>50.000000</td>\n",
       "      <td>69.000000</td>\n",
       "      <td>9478.500000</td>\n",
       "      <td>6.000000</td>\n",
       "      <td>5.000000</td>\n",
       "      <td>1973.000000</td>\n",
       "      <td>1994.000000</td>\n",
       "      <td>0.000000</td>\n",
       "      <td>383.500000</td>\n",
       "      <td>...</td>\n",
       "      <td>0.000000</td>\n",
       "      <td>25.000000</td>\n",
       "      <td>0.000000</td>\n",
       "      <td>0.000000</td>\n",
       "      <td>0.000000</td>\n",
       "      <td>0.000000</td>\n",
       "      <td>0.000000</td>\n",
       "      <td>6.000000</td>\n",
       "      <td>2008.000000</td>\n",
       "      <td>163000.000000</td>\n",
       "    </tr>\n",
       "    <tr>\n",
       "      <th>75%</th>\n",
       "      <td>1095.250000</td>\n",
       "      <td>70.000000</td>\n",
       "      <td>80.000000</td>\n",
       "      <td>11601.500000</td>\n",
       "      <td>7.000000</td>\n",
       "      <td>6.000000</td>\n",
       "      <td>2000.000000</td>\n",
       "      <td>2004.000000</td>\n",
       "      <td>166.000000</td>\n",
       "      <td>712.250000</td>\n",
       "      <td>...</td>\n",
       "      <td>168.000000</td>\n",
       "      <td>68.000000</td>\n",
       "      <td>0.000000</td>\n",
       "      <td>0.000000</td>\n",
       "      <td>0.000000</td>\n",
       "      <td>0.000000</td>\n",
       "      <td>0.000000</td>\n",
       "      <td>8.000000</td>\n",
       "      <td>2009.000000</td>\n",
       "      <td>214000.000000</td>\n",
       "    </tr>\n",
       "    <tr>\n",
       "      <th>max</th>\n",
       "      <td>1460.000000</td>\n",
       "      <td>190.000000</td>\n",
       "      <td>313.000000</td>\n",
       "      <td>215245.000000</td>\n",
       "      <td>10.000000</td>\n",
       "      <td>9.000000</td>\n",
       "      <td>2010.000000</td>\n",
       "      <td>2010.000000</td>\n",
       "      <td>1600.000000</td>\n",
       "      <td>5644.000000</td>\n",
       "      <td>...</td>\n",
       "      <td>857.000000</td>\n",
       "      <td>547.000000</td>\n",
       "      <td>552.000000</td>\n",
       "      <td>508.000000</td>\n",
       "      <td>480.000000</td>\n",
       "      <td>738.000000</td>\n",
       "      <td>15500.000000</td>\n",
       "      <td>12.000000</td>\n",
       "      <td>2010.000000</td>\n",
       "      <td>755000.000000</td>\n",
       "    </tr>\n",
       "  </tbody>\n",
       "</table>\n",
       "<p>8 rows × 38 columns</p>\n",
       "</div>"
      ],
      "text/plain": [
       "                Id   MSSubClass  LotFrontage        LotArea  OverallQual  \\\n",
       "count  1460.000000  1460.000000  1201.000000    1460.000000  1460.000000   \n",
       "mean    730.500000    56.897260    70.049958   10516.828082     6.099315   \n",
       "std     421.610009    42.300571    24.284752    9981.264932     1.382997   \n",
       "min       1.000000    20.000000    21.000000    1300.000000     1.000000   \n",
       "25%     365.750000    20.000000    59.000000    7553.500000     5.000000   \n",
       "50%     730.500000    50.000000    69.000000    9478.500000     6.000000   \n",
       "75%    1095.250000    70.000000    80.000000   11601.500000     7.000000   \n",
       "max    1460.000000   190.000000   313.000000  215245.000000    10.000000   \n",
       "\n",
       "       OverallCond    YearBuilt  YearRemodAdd   MasVnrArea   BsmtFinSF1  ...  \\\n",
       "count  1460.000000  1460.000000   1460.000000  1452.000000  1460.000000  ...   \n",
       "mean      5.575342  1971.267808   1984.865753   103.685262   443.639726  ...   \n",
       "std       1.112799    30.202904     20.645407   181.066207   456.098091  ...   \n",
       "min       1.000000  1872.000000   1950.000000     0.000000     0.000000  ...   \n",
       "25%       5.000000  1954.000000   1967.000000     0.000000     0.000000  ...   \n",
       "50%       5.000000  1973.000000   1994.000000     0.000000   383.500000  ...   \n",
       "75%       6.000000  2000.000000   2004.000000   166.000000   712.250000  ...   \n",
       "max       9.000000  2010.000000   2010.000000  1600.000000  5644.000000  ...   \n",
       "\n",
       "        WoodDeckSF  OpenPorchSF  EnclosedPorch    3SsnPorch  ScreenPorch  \\\n",
       "count  1460.000000  1460.000000    1460.000000  1460.000000  1460.000000   \n",
       "mean     94.244521    46.660274      21.954110     3.409589    15.060959   \n",
       "std     125.338794    66.256028      61.119149    29.317331    55.757415   \n",
       "min       0.000000     0.000000       0.000000     0.000000     0.000000   \n",
       "25%       0.000000     0.000000       0.000000     0.000000     0.000000   \n",
       "50%       0.000000    25.000000       0.000000     0.000000     0.000000   \n",
       "75%     168.000000    68.000000       0.000000     0.000000     0.000000   \n",
       "max     857.000000   547.000000     552.000000   508.000000   480.000000   \n",
       "\n",
       "          PoolArea       MiscVal       MoSold       YrSold      SalePrice  \n",
       "count  1460.000000   1460.000000  1460.000000  1460.000000    1460.000000  \n",
       "mean      2.758904     43.489041     6.321918  2007.815753  180921.195890  \n",
       "std      40.177307    496.123024     2.703626     1.328095   79442.502883  \n",
       "min       0.000000      0.000000     1.000000  2006.000000   34900.000000  \n",
       "25%       0.000000      0.000000     5.000000  2007.000000  129975.000000  \n",
       "50%       0.000000      0.000000     6.000000  2008.000000  163000.000000  \n",
       "75%       0.000000      0.000000     8.000000  2009.000000  214000.000000  \n",
       "max     738.000000  15500.000000    12.000000  2010.000000  755000.000000  \n",
       "\n",
       "[8 rows x 38 columns]"
      ]
     },
     "execution_count": 11,
     "metadata": {},
     "output_type": "execute_result"
    }
   ],
   "source": [
    "train_data.describe()"
   ]
  },
  {
   "cell_type": "markdown",
   "metadata": {},
   "source": [
    "以上是数值column(38个)的一些统计数据。比如，可以看到该training数据集最新的房建于2010年（信息比较旧），也许不适合测试最近几年房价。"
   ]
  },
  {
   "cell_type": "code",
   "execution_count": 12,
   "metadata": {},
   "outputs": [],
   "source": [
    "import warnings\n",
    "warnings.filterwarnings('ignore')"
   ]
  },
  {
   "cell_type": "code",
   "execution_count": 13,
   "metadata": {},
   "outputs": [
    {
     "data": {
      "text/plain": [
       "<AxesSubplot:xlabel='SalePrice', ylabel='Density'>"
      ]
     },
     "execution_count": 13,
     "metadata": {},
     "output_type": "execute_result"
    },
    {
     "data": {
      "image/png": "[encoded data removed]",
      "text/plain": [
       "<Figure size 432x288 with 1 Axes>"
      ]
     },
     "metadata": {
      "needs_background": "light"
     },
     "output_type": "display_data"
    }
   ],
   "source": [
    "sns.distplot(train_data['SalePrice'])"
   ]
  },
  {
   "cell_type": "code",
   "execution_count": 14,
   "metadata": {},
   "outputs": [
    {
     "data": {
      "text/plain": [
       "0    140000\n",
       "dtype: int64"
      ]
     },
     "execution_count": 14,
     "metadata": {},
     "output_type": "execute_result"
    }
   ],
   "source": [
    "train_data['SalePrice'].mode()"
   ]
  },
  {
   "cell_type": "markdown",
   "metadata": {},
   "source": [
    "可以看出来SalePrice这一变量呈偏态分布，而且是positive skew(right skew)，即右尾(right tail)更长，平均数更偏向右边，一般大于其中位数(确实是，180921>163000>14000(众数))。"
   ]
  },
  {
   "cell_type": "code",
   "execution_count": 15,
   "metadata": {},
   "outputs": [
    {
     "data": {
      "text/plain": [
       "1.8828757597682129"
      ]
     },
     "execution_count": 15,
     "metadata": {},
     "output_type": "execute_result"
    }
   ],
   "source": [
    "train_data['SalePrice'].skew()"
   ]
  },
  {
   "cell_type": "code",
   "execution_count": 16,
   "metadata": {},
   "outputs": [
    {
     "data": {
      "text/plain": [
       "6.536281860064529"
      ]
     },
     "execution_count": 16,
     "metadata": {},
     "output_type": "execute_result"
    }
   ],
   "source": [
    "train_data['SalePrice'].kurt()"
   ]
  },
  {
   "cell_type": "markdown",
   "metadata": {},
   "source": [
    "在所有房价中，最高房价755000，最低房价34900，平均房价180921，标准差为79443。\n",
    "偏度为1.88（右偏），峰度为6.54大于正态分布的3，相对“厚尾尖峰”。"
   ]
  },
  {
   "cell_type": "markdown",
   "metadata": {},
   "source": [
    "## Data preprocessing"
   ]
  },
  {
   "cell_type": "markdown",
   "metadata": {},
   "source": [
    "### Functions for preprocessing"
   ]
  },
  {
   "cell_type": "code",
   "execution_count": 17,
   "metadata": {},
   "outputs": [],
   "source": [
    "def drop_target(train_df):\n",
    "    # Remove rows with missing target, separate target from predictors\n",
    "    if 'SalePrice' in train_df.columns:\n",
    "        train_df.dropna(axis=0, subset=['SalePrice'], inplace=True)\n",
    "        y = train_data.SalePrice\n",
    "        train_df.drop(['SalePrice'], axis=1, inplace=True)\n",
    "        return [train_data, y]"
   ]
  },
  {
   "cell_type": "code",
   "execution_count": 18,
   "metadata": {},
   "outputs": [],
   "source": [
    "def check_missing(train_df):\n",
    "    cols_with_missing = [col for col in train_df.columns if train_df[col].isnull().any()]\n",
    "    # Number of missing values in each column of training data\n",
    "    missing = {}\n",
    "    for col in cols_with_missing:\n",
    "        missing[col] = [train_data[col].dtype, train_data[col].isnull().sum(), train_data[col].isnull().sum()/train_data.shape[0]]\n",
    "    return missing\n",
    "\n",
    "def print_missing(missing):\n",
    "    for k, v in missing.items():\n",
    "        print(k, \"  \", v[0], \"  \", v[1], \"  miss_rate: \", v[2])\n",
    "        \n",
    "def print_high_missing(missing):\n",
    "    threshhold = 0.8\n",
    "    for k, v in missing.items():\n",
    "        if v[2]>=threshhold:\n",
    "            print(k, \"  \", v[0], \"  \", v[1], \"  miss_rate: \", v[2])"
   ]
  },
  {
   "cell_type": "code",
   "execution_count": 19,
   "metadata": {},
   "outputs": [],
   "source": [
    "# Label encoding for ordinal data\n",
    "import category_encoders as ce\n",
    "\n",
    "def encoding_ordinal(df, col, order):\n",
    "    train_df=pd.DataFrame({col:df[col]})\n",
    "    \n",
    "    # create object of Ordinal encoding\n",
    "    encoder= ce.OrdinalEncoder(cols=[col],return_df=True,\n",
    "                               mapping=[{'col':col,\n",
    "    'mapping': order}])\n",
    "\n",
    "    #Original data\n",
    "    train_df\n",
    "\n",
    "    #fit and transform train data \n",
    "    df_train_transformed = encoder.fit_transform(train_df)\n",
    "    return df_train_transformed"
   ]
  },
  {
   "cell_type": "code",
   "execution_count": 20,
   "metadata": {},
   "outputs": [],
   "source": [
    "# Function for imputation\n",
    "from sklearn.impute import SimpleImputer\n",
    "\n",
    "def impute_missing(X, approach):\n",
    "    # approach is the strategy for imputing numerical variables (because categorical uses 'most_frequent')\n",
    "    num_imputer = SimpleImputer(strategy=approach)\n",
    "    cat_imputer = SimpleImputer(strategy='most_frequent')\n",
    "    \n",
    "    X_cat = X.filter(ordinal_features+nominal_features, axis=1)\n",
    "    X_num = X.filter(continuous_features, axis=1)\n",
    "    \n",
    "    any_missing = len([col for col in X_cat if X_cat[col].isnull().sum()>0])+len([col for col in X_num if X_num[col].isnull().sum()>0])\n",
    "    \n",
    "    if any_missing>0:\n",
    "        imputed_X_num = pd.DataFrame(num_imputer.fit_transform(X_num))\n",
    "        imputed_X_cat = pd.DataFrame(cat_imputer.fit_transform(X_cat))\n",
    "        \n",
    "        # Fill in the lines below: imputation removed column names; put them back\n",
    "        imputed_X_num.columns = X_num.columns\n",
    "        imputed_X_cat.columns = X_cat.columns\n",
    "    \n",
    "        imputed_X = pd.concat([imputed_X_num,imputed_X_cat], axis=1, ignore_index=False)\n",
    "\n",
    "        return imputed_X"
   ]
  },
  {
   "cell_type": "code",
   "execution_count": 21,
   "metadata": {},
   "outputs": [],
   "source": [
    "from sklearn.ensemble import RandomForestRegressor\n",
    "from sklearn.metrics import mean_absolute_error\n",
    "\n",
    "# Function for calculating MAE (based on a random forest tree model)\n",
    "def get_mae(X_train, X_valid, y_train, y_valid, model):\n",
    "    #e.g. model = RandomForestRegressor(n_estimators=100, random_state=0)\n",
    "    model.fit(X_train, y_train)\n",
    "    preds = model.predict(X_valid)\n",
    "    return mean_absolute_error(y_valid, preds)"
   ]
  },
  {
   "cell_type": "markdown",
   "metadata": {},
   "source": [
    "### drop target"
   ]
  },
  {
   "cell_type": "code",
   "execution_count": 22,
   "metadata": {},
   "outputs": [],
   "source": [
    "temp = drop_target(train_data).copy()"
   ]
  },
  {
   "cell_type": "code",
   "execution_count": 23,
   "metadata": {},
   "outputs": [],
   "source": [
    "train_data = temp[0]\n",
    "y = temp[1]"
   ]
  },
  {
   "cell_type": "markdown",
   "metadata": {},
   "source": [
    "### imputing missing values"
   ]
  },
  {
   "cell_type": "code",
   "execution_count": 24,
   "metadata": {},
   "outputs": [
    {
     "name": "stdout",
     "output_type": "stream",
     "text": [
      "LotFrontage    float64    259   miss_rate:  0.1773972602739726\n",
      "Alley    object    1369   miss_rate:  0.9376712328767123\n",
      "MasVnrType    object    8   miss_rate:  0.005479452054794521\n",
      "MasVnrArea    float64    8   miss_rate:  0.005479452054794521\n",
      "BsmtQual    object    37   miss_rate:  0.025342465753424658\n",
      "BsmtCond    object    37   miss_rate:  0.025342465753424658\n",
      "BsmtExposure    object    38   miss_rate:  0.026027397260273973\n",
      "BsmtFinType1    object    37   miss_rate:  0.025342465753424658\n",
      "BsmtFinType2    object    38   miss_rate:  0.026027397260273973\n",
      "Electrical    object    1   miss_rate:  0.0006849315068493151\n",
      "FireplaceQu    object    690   miss_rate:  0.4726027397260274\n",
      "GarageType    object    81   miss_rate:  0.05547945205479452\n",
      "GarageYrBlt    float64    81   miss_rate:  0.05547945205479452\n",
      "GarageFinish    object    81   miss_rate:  0.05547945205479452\n",
      "GarageQual    object    81   miss_rate:  0.05547945205479452\n",
      "GarageCond    object    81   miss_rate:  0.05547945205479452\n",
      "PoolQC    object    1453   miss_rate:  0.9952054794520548\n",
      "Fence    object    1179   miss_rate:  0.8075342465753425\n",
      "MiscFeature    object    1406   miss_rate:  0.963013698630137\n"
     ]
    }
   ],
   "source": [
    "print_missing(check_missing(train_data))"
   ]
  },
  {
   "cell_type": "code",
   "execution_count": 25,
   "metadata": {},
   "outputs": [
    {
     "name": "stdout",
     "output_type": "stream",
     "text": [
      "Alley    object    1369   miss_rate:  0.9376712328767123\n",
      "PoolQC    object    1453   miss_rate:  0.9952054794520548\n",
      "Fence    object    1179   miss_rate:  0.8075342465753425\n",
      "MiscFeature    object    1406   miss_rate:  0.963013698630137\n"
     ]
    }
   ],
   "source": [
    "print_high_missing(check_missing(train_data))"
   ]
  },
  {
   "cell_type": "code",
   "execution_count": 26,
   "metadata": {},
   "outputs": [],
   "source": [
    "# update feature columns after drop above columns\n",
    "continuous_features=[col for col in continuous_features if col not in ['Alley','PoolQC','Fence','MiscFeature']]\n",
    "ordinal_features=[col for col in ordinal_features if col not in ['Alley','PoolQC','Fence','MiscFeature']]\n",
    "nominal_features=[col for col in nominal_features if col not in ['Alley','PoolQC','Fence','MiscFeature']]"
   ]
  },
  {
   "cell_type": "code",
   "execution_count": 27,
   "metadata": {},
   "outputs": [],
   "source": [
    "# Run impute function\n",
    "imputed_X = impute_missing(train_data,'mean')\n",
    "# print(imputed_X.head())"
   ]
  },
  {
   "cell_type": "code",
   "execution_count": 28,
   "metadata": {},
   "outputs": [],
   "source": [
    "print_missing(check_missing(imputed_X))"
   ]
  },
  {
   "cell_type": "markdown",
   "metadata": {},
   "source": [
    "### Label Encoding"
   ]
  },
  {
   "cell_type": "code",
   "execution_count": 29,
   "metadata": {},
   "outputs": [],
   "source": [
    "# manual encoding ordinal data\n",
    "def manual_encoding_ordinal(labeled_data, labeled_data_1):\n",
    "    ordinal_dict = {\n",
    "        'LotShape':{'Reg':0,'IR1':1,'IR2':2,'IR3':3},\n",
    "        'LandContour': {'Lvl':0,'Bnk':1,'HLS':2,'Low':3}, \n",
    "        'Utilities': {'AllPub':0, 'NoSewr':1, 'NoSewa':2, 'ELO':3}, \n",
    "        'LandSlope': {'Gt1':0,'Mod':1,'Sev':2},  \n",
    "        'ExterQual': {'Ex':0,'Gd':1,'TA':2,'Fa':3,'Po':4}, \n",
    "        'ExterCond': {'Ex':0,'Gd':1,'TA':2,'Fa':3,'Po':4}, \n",
    "        'BsmtQual': {'Ex':0,'Gd':1,'TA':2,'Fa':3,'Po':4,'NA':5}, \n",
    "        'BsmtCond': {'Ex':0,'Gd':1,'TA':2,'Fa':3,'Po':4,'NA':5}, \n",
    "        'BsmtExposure': {'Gd':0,'Av':1,'Mn':2,'No':3,'NA':4}, \n",
    "        'BsmtFinType1': {'GLQ':0, 'ALQ':1,'BLQ':2,'Rec':3,'LwQ':4,'Unf':5,'NA':6}, \n",
    "        'BsmtFinType2': {'GLQ':0, 'ALQ':1,'BLQ':2,'Rec':3,'LwQ':4,'Unf':5,'NA':6}, \n",
    "        'HeatingQC': {'Ex':0,'Gd':1,'TA':2,'Fa':3,'Po':4}, \n",
    "        'CentralAir': {'N':0,'Y':1}, \n",
    "        'Electrical': {'SBrkr':0,'FuseA':1,'FuseF':2,'FuseP':3,'Mix':4}, \n",
    "        'KitchenQual': {'Ex':0,'Gd':1,'TA':2,'Fa':3,'Po':4}, \n",
    "        'Functional': {'Typ':0,'Min1':1,'Min2':2,'Mod':3,'Maj1':4,'Maj2':5,'Sev':6,'Sal':7}, \n",
    "        'FireplaceQu': {'Ex':0,'Gd':1,'TA':2,'Fa':3,'Po':4,'NA':5}, \n",
    "        'GarageQual': {'Ex':0,'Gd':1,'TA':2,'Fa':3,'Po':4,'NA':5}, \n",
    "        'GarageCond': {'Ex':0,'Gd':1,'TA':2,'Fa':3,'Po':4,'NA':5}, \n",
    "        'PavedDrive': {'Y':0,'P':1,'N':2},\n",
    "        'GarageFinish': {'Fin':0,'RFn':1,'Unf':2,'NA':3}\n",
    "    }\n",
    "    for (k, v) in ordinal_dict.items():\n",
    "        if k in labeled_data.columns:\n",
    "            labeled_data[k] = encoding_ordinal(labeled_data, k, v)[k]\n",
    "            labeled_data_1[k+'_Encoding'] = encoding_ordinal(labeled_data_1, k, v)[k]"
   ]
  },
  {
   "cell_type": "code",
   "execution_count": 30,
   "metadata": {},
   "outputs": [],
   "source": [
    "labeled_data = imputed_X.copy()\n",
    "labeled_data_1 = imputed_X.copy()\n",
    "manual_encoding_ordinal(labeled_data, labeled_data_1)"
   ]
  },
  {
   "cell_type": "code",
   "execution_count": 31,
   "metadata": {},
   "outputs": [],
   "source": [
    "# dummy encoding nominal data\n",
    "dummied_data = pd.get_dummies(labeled_data, columns=nominal_features)"
   ]
  },
  {
   "cell_type": "code",
   "execution_count": 32,
   "metadata": {},
   "outputs": [
    {
     "name": "stdout",
     "output_type": "stream",
     "text": [
      "(1460, 245)\n"
     ]
    }
   ],
   "source": [
    "print(dummied_data.shape) # now, dummied_data = impute missing values -> label encoding.. \n",
    "                            # ..ordinal+nominal data"
   ]
  },
  {
   "cell_type": "code",
   "execution_count": 33,
   "metadata": {},
   "outputs": [],
   "source": [
    "# Label encoding for nominal data (just for feature enineering)\n",
    "# print(nominal_features)\n",
    "factorized_data = labeled_data.copy()\n",
    "factorized_data_1 = labeled_data.copy()\n",
    "for col in nominal_features:\n",
    "    factorized_data[col], _ = factorized_data[col].factorize()\n",
    "    factorized_data_1[col+'_Encoding'], _ = factorized_data[col].factorize()"
   ]
  },
  {
   "cell_type": "code",
   "execution_count": 34,
   "metadata": {
    "scrolled": true
   },
   "outputs": [
    {
     "name": "stdout",
     "output_type": "stream",
     "text": [
      "MAE:\n",
      "17347.517499999998\n"
     ]
    }
   ],
   "source": [
    "# Define and fit model\n",
    "model = RandomForestRegressor(n_estimators=100, random_state=0)\n",
    "\n",
    "# For check the effects of imputation, we split the train_data to test its MAE score.\n",
    "from sklearn.model_selection import train_test_split\n",
    "\n",
    "f_X_train, f_X_valid, f_y_train, f_y_valid = train_test_split(factorized_data, y, train_size=0.8, test_size=0.2,\n",
    "                                                      random_state=0)\n",
    "\n",
    "\n",
    "# Get validation predictions and MAE\n",
    "print(\"MAE:\")\n",
    "print(get_mae(f_X_train, f_X_valid, f_y_train, f_y_valid, model))"
   ]
  },
  {
   "cell_type": "code",
   "execution_count": 35,
   "metadata": {},
   "outputs": [
    {
     "name": "stdout",
     "output_type": "stream",
     "text": [
      "MAE:\n",
      "17150.983253424663\n"
     ]
    }
   ],
   "source": [
    "# Define and fit model\n",
    "model = RandomForestRegressor(n_estimators=100, random_state=0)\n",
    "\n",
    "# For check the effects of imputation, we split the train_data to test its MAE score.\n",
    "from sklearn.model_selection import train_test_split\n",
    "\n",
    "d_X_train, d_X_valid, d_y_train, d_y_valid = train_test_split(dummied_data, y, train_size=0.8, test_size=0.2,\n",
    "                                                      random_state=0)\n",
    "\n",
    "\n",
    "# Get validation predictions and MAE\n",
    "print(\"MAE:\")\n",
    "print(get_mae(d_X_train, d_X_valid, d_y_train, d_y_valid, model))"
   ]
  },
  {
   "cell_type": "markdown",
   "metadata": {},
   "source": [
    "## Feature engineering"
   ]
  },
  {
   "cell_type": "markdown",
   "metadata": {},
   "source": [
    "原training数据集有79个变量，选出关键features很重要。"
   ]
  },
  {
   "cell_type": "markdown",
   "metadata": {},
   "source": [
    "**Mutual Information**\n",
    "Mutual information(MI)基于信息熵(entropy)可以计算出一个变量随另一个变量而不确定性降低的程度（依赖程度）。而且是广义general的关系，不只是线性关系(correlation)。"
   ]
  },
  {
   "cell_type": "code",
   "execution_count": 36,
   "metadata": {},
   "outputs": [],
   "source": [
    "discrete_features = []\n",
    "for col in factorized_data.columns:\n",
    "    if col in nominal_features+ordinal_features:\n",
    "        discrete_features.append(True)\n",
    "    else:\n",
    "        discrete_features.append(False)\n",
    "# print(discrete_features)"
   ]
  },
  {
   "cell_type": "code",
   "execution_count": 37,
   "metadata": {},
   "outputs": [
    {
     "data": {
      "text/plain": [
       "OverallQual     0.578984\n",
       "Neighborhood    0.532062\n",
       "GrLivArea       0.481235\n",
       "GarageCars      0.367658\n",
       "TotalBsmtSF     0.367433\n",
       "GarageArea      0.363582\n",
       "YearBuilt       0.359976\n",
       "ExterQual       0.327781\n",
       "KitchenQual     0.325488\n",
       "BsmtQual        0.315022\n",
       "1stFlrSF        0.307963\n",
       "GarageYrBlt     0.292941\n",
       "MSSubClass      0.279671\n",
       "FullBath        0.253173\n",
       "GarageFinish    0.252527\n",
       "YearRemodAdd    0.249040\n",
       "TotRmsAbvGrd    0.205441\n",
       "2ndFlrSF        0.201450\n",
       "Foundation      0.198500\n",
       "LotFrontage     0.196063\n",
       "Fireplaces      0.172418\n",
       "HeatingQC       0.170570\n",
       "Exterior2nd     0.160956\n",
       "LotArea         0.157605\n",
       "BsmtFinSF1      0.144526\n",
       "Name: MI Scores, dtype: float64"
      ]
     },
     "execution_count": 37,
     "metadata": {},
     "output_type": "execute_result"
    }
   ],
   "source": [
    "from sklearn.feature_selection import mutual_info_regression\n",
    "\n",
    "def make_mi_scores(X, y, discrete_features):\n",
    "    mi_scores = mutual_info_regression(X, y, discrete_features=discrete_features)\n",
    "    mi_scores = pd.Series(mi_scores, name=\"MI Scores\", index=X.columns)\n",
    "    mi_scores = mi_scores.sort_values(ascending=False)\n",
    "    return mi_scores\n",
    "\n",
    "mi_scores = make_mi_scores(factorized_data, y, discrete_features)\n",
    "mi_scores.head(25) # show a few features with their MI scores"
   ]
  },
  {
   "cell_type": "code",
   "execution_count": 38,
   "metadata": {},
   "outputs": [
    {
     "data": {
      "image/png": "[encoded data removed]",
      "text/plain": [
       "<Figure size 800x500 with 1 Axes>"
      ]
     },
     "metadata": {
      "needs_background": "light"
     },
     "output_type": "display_data"
    }
   ],
   "source": [
    "###### def plot_mi_scores(scores):\n",
    "\n",
    "def plot_mi_scores(scores):\n",
    "    scores = scores.sort_values(ascending=True)\n",
    "    width = np.arange(len(scores))\n",
    "    ticks = list(scores.index)\n",
    "    plt.barh(width, scores)\n",
    "    plt.yticks(width, ticks)\n",
    "    plt.title(\"Mutual Information Scores\")\n",
    "\n",
    "plt.figure(dpi=100, figsize=(8, 5))\n",
    "plot_mi_scores(mi_scores.head(20))\n",
    "\n",
    "# print(mi_scores.head(20).index)\n"
   ]
  },
  {
   "cell_type": "markdown",
   "metadata": {},
   "source": [
    "上图显示与目标(target)变量SalePrice“互信息”最高的前20个features。不难发现，整体材料和饰面质量(OverallQual)、物理位置/周边情况(Neighborhood)、车库面积(GarageArea) 、地面以上居住面积(GrLivArea)、建筑年份 (YearBuilt) 、地下室总面积(TotalBsmtSF) 、地皮面积(LotArea)、车库容量 (GarageCars)等都是影响售价的重要因素，也符合常识。"
   ]
  },
  {
   "cell_type": "markdown",
   "metadata": {},
   "source": [
    "但是，理论上，还应考虑到一些问题：\n",
    "1. MI 得分低的features不一定就对SalePrice没影响，可能会间接影响其它MI得分高的features，或者几个低Mi的feature组合起来总是对target产生较大影响。\n",
    "2. features之间可以重新transform成新的feature。\n",
    "\n",
    "下面对上述两种问题稍作探索。"
   ]
  },
  {
   "cell_type": "markdown",
   "metadata": {},
   "source": [
    " 其它可能的影响因素？\n",
    " - BldgType 住宅类型\n",
    " - CentralAir 中央空调状况\n",
    " - Electrical 电力系统\n",
    " - Functional 房屋功用性评级\n",
    " - Heating 供暖质量\n",
    " - LotShape 房子整体形状\n",
    " - MSZoning 区域分类\n",
    " - Street 街道类型\n",
    " - Utilities 公共设施类型"
   ]
  },
  {
   "cell_type": "code",
   "execution_count": 39,
   "metadata": {},
   "outputs": [],
   "source": [
    "f_data = pd.concat([factorized_data,y], axis=1, ignore_index=False)\n",
    "f1_data = pd.concat([factorized_data_1,y], axis=1, ignore_index=False)"
   ]
  },
  {
   "cell_type": "code",
   "execution_count": 40,
   "metadata": {},
   "outputs": [],
   "source": [
    "# print(train_data.head())\n",
    "# print(f_data.head())"
   ]
  },
  {
   "cell_type": "code",
   "execution_count": 41,
   "metadata": {},
   "outputs": [],
   "source": [
    "def catplot_y(feature):\n",
    "    sns.catplot(x=feature, y=\"SalePrice\", data=f1_data, kind=\"boxen\");"
   ]
  },
  {
   "cell_type": "code",
   "execution_count": 42,
   "metadata": {},
   "outputs": [
    {
     "data": {
      "image/png": "[encoded data removed]",
      "text/plain": [
       "<Figure size 360x360 with 1 Axes>"
      ]
     },
     "metadata": {
      "needs_background": "light"
     },
     "output_type": "display_data"
    },
    {
     "data": {
      "image/png": "[encoded data removed]",
      "text/plain": [
       "<Figure size 360x360 with 1 Axes>"
      ]
     },
     "metadata": {
      "needs_background": "light"
     },
     "output_type": "display_data"
    },
    {
     "data": {
      "image/png": "[encoded data removed]",
      "text/plain": [
       "<Figure size 360x360 with 1 Axes>"
      ]
     },
     "metadata": {
      "needs_background": "light"
     },
     "output_type": "display_data"
    },
    {
     "data": {
      "image/png": "[encoded data removed]",
      "text/plain": [
       "<Figure size 360x360 with 1 Axes>"
      ]
     },
     "metadata": {
      "needs_background": "light"
     },
     "output_type": "display_data"
    },
    {
     "data": {
      "image/png": "[encoded data removed]",
      "text/plain": [
       "<Figure size 360x360 with 1 Axes>"
      ]
     },
     "metadata": {
      "needs_background": "light"
     },
     "output_type": "display_data"
    },
    {
     "data": {
      "image/png": "[encoded data removed]",
      "text/plain": [
       "<Figure size 360x360 with 1 Axes>"
      ]
     },
     "metadata": {
      "needs_background": "light"
     },
     "output_type": "display_data"
    },
    {
     "data": {
      "image/png": "[encoded data removed]",
      "text/plain": [
       "<Figure size 360x360 with 1 Axes>"
      ]
     },
     "metadata": {
      "needs_background": "light"
     },
     "output_type": "display_data"
    },
    {
     "data": {
      "image/png": "[encoded data removed]",
      "text/plain": [
       "<Figure size 360x360 with 1 Axes>"
      ]
     },
     "metadata": {
      "needs_background": "light"
     },
     "output_type": "display_data"
    },
    {
     "data": {
      "image/png": "[encoded data removed]",
      "text/plain": [
       "<Figure size 360x360 with 1 Axes>"
      ]
     },
     "metadata": {
      "needs_background": "light"
     },
     "output_type": "display_data"
    }
   ],
   "source": [
    "low_mi_features = ['BldgType', 'CentralAir', 'Electrical', 'Functional', 'HeatingQC', 'LotShape',\n",
    "                  'MSZoning', 'Street', 'Utilities']\n",
    "for f in low_mi_features:\n",
    "    catplot_y(f)"
   ]
  },
  {
   "cell_type": "markdown",
   "metadata": {},
   "source": [
    "1. **BldgType 住宅类型**\n",
    "由图可见住宅类型对SalePrice还是有影响的。不同类型的住宅把售价限定在不同范围内。\n",
    "2. **CentralAir 中央空调状况**\n",
    "明显有中央空调的售价普遍比没有的高（**集中趋势、较大值**更大）。\n",
    "3. **Electrical 电力系统**\n",
    "不同电力系统和售价也有一定关系，按数据描述，从SBrkr到FuseA, FuseF, FuseP应该是质量越来越差，图中反映也是如此，售价越来越低。\n",
    "4. **Functional 房屋功用性评级**\n",
    "除了最好(Typ)和次差的(Maj2)其它差别不大。\n",
    "5. **HeatingQC 供暖质量**\n",
    "供暖质量也比较明显影响售价分布。\n",
    "6. **LotShape 房子整体形状**\n",
    "轻度不规则的房子比规则的房子平均售价更高，而中度不规则的房子平均售价比轻度的还高，而且售价比较集中，几乎没有太低的售价，不规则程度最高的售价最为集中。\n",
    "7. **MSZoning 区域分类**\n",
    "区域分类与售价也有较明显关系。\n",
    "很明显，FV（村庄水上建筑）售价中位数最高，而且相对集中在较高价格。而C（商业区）相反，售价中位数最低，集中在较低价位。人口密度高RH的住宅区和人口密度中等RM的住宅区，售价集中在差不多的区间(IQR近似），但RH区域价格相比RM区域非常集中，几乎没有较低或较高的售价。RL人口密度最低的区域，拥有最广的售价分布。\n",
    "8. **Street 街道类型**\n",
    "街道铺过的明显比没铺的售价平均要高一些，而且没铺过的售价相对集中（几乎没有太贵或太便宜的）。\n",
    "9. **Utilities 公共设施类型**\n",
    "可能缺少数据，参考意义不大。"
   ]
  },
  {
   "cell_type": "code",
   "execution_count": 43,
   "metadata": {},
   "outputs": [
    {
     "data": {
      "image/png": "[encoded data removed]",
      "text/plain": [
       "<Figure size 864x576 with 5 Axes>"
      ]
     },
     "metadata": {
      "needs_background": "light"
     },
     "output_type": "display_data"
    }
   ],
   "source": [
    "sns.lmplot(\n",
    "    x=\"GrLivArea\", y=\"SalePrice\", hue=\"BldgType\", col=\"BldgType\",\n",
    "    data=f1_data, scatter_kws={\"edgecolor\": 'w'}, col_wrap=3, height=4,\n",
    ");"
   ]
  },
  {
   "cell_type": "markdown",
   "metadata": {},
   "source": [
    "上图可看出，虽然住宅类型和售价MI分数较低，但是其影响GrLivArea（地上住宅面积）-- mi分数较高的一个特征。"
   ]
  },
  {
   "cell_type": "code",
   "execution_count": 44,
   "metadata": {},
   "outputs": [
    {
     "data": {
      "image/png": "[encoded data removed]",
      "text/plain": [
       "<Figure size 864x576 with 5 Axes>"
      ]
     },
     "metadata": {
      "needs_background": "light"
     },
     "output_type": "display_data"
    }
   ],
   "source": [
    "sns.lmplot(\n",
    "    x=\"Neighborhood_Encoding\", y=\"SalePrice\", hue=\"MSZoning\", col=\"MSZoning\",\n",
    "    data=f1_data, scatter_kws={\"edgecolor\": 'w'}, col_wrap=3, height=4,\n",
    ");"
   ]
  },
  {
   "cell_type": "markdown",
   "metadata": {},
   "source": [
    "不同区域MSZoning影响地理位置neighborhood."
   ]
  },
  {
   "cell_type": "code",
   "execution_count": 45,
   "metadata": {},
   "outputs": [],
   "source": [
    "# PCA\n",
    "from sklearn.decomposition import PCA\n",
    "\n",
    "def apply_pca(X, standardize=True):\n",
    "    # Standardize\n",
    "    if standardize:\n",
    "        X = (X - X.mean(axis=0)) / X.std(axis=0)\n",
    "    # Create principal components\n",
    "    pca = PCA()\n",
    "    X_pca = pca.fit_transform(X)\n",
    "    # Convert to dataframe\n",
    "    component_names = [f\"PC{i+1}\" for i in range(X_pca.shape[1])]\n",
    "    X_pca = pd.DataFrame(X_pca, columns=component_names)\n",
    "    # Create loadings\n",
    "    loadings = pd.DataFrame(\n",
    "        pca.components_.T,  # transpose the matrix of loadings\n",
    "        columns=component_names,  # so the columns are the principal components\n",
    "        index=X.columns,  # and the rows are the original features\n",
    "    )\n",
    "    return pca, X_pca, loadings"
   ]
  },
  {
   "cell_type": "code",
   "execution_count": 46,
   "metadata": {},
   "outputs": [],
   "source": [
    "# Check multicolinearity\n",
    "# Import library for VIF\n",
    "from statsmodels.stats.outliers_influence import variance_inflation_factor\n",
    "\n",
    "def calc_vif(X, standardize=True):\n",
    "    if standardize:\n",
    "        X = (X - X.mean(axis=0)) / X.std(axis=0)\n",
    "    # Calculating VIF\n",
    "    vif = pd.DataFrame()\n",
    "    vif[\"variables\"] = X.columns\n",
    "    vif[\"VIF\"] = [variance_inflation_factor(X.values, i) for i in range(X.shape[1])]\n",
    "\n",
    "    return(vif)"
   ]
  },
  {
   "cell_type": "code",
   "execution_count": 47,
   "metadata": {},
   "outputs": [
    {
     "data": {
      "text/html": [
       "<div>\n",
       "<style scoped>\n",
       "    .dataframe tbody tr th:only-of-type {\n",
       "        vertical-align: middle;\n",
       "    }\n",
       "\n",
       "    .dataframe tbody tr th {\n",
       "        vertical-align: top;\n",
       "    }\n",
       "\n",
       "    .dataframe thead th {\n",
       "        text-align: right;\n",
       "    }\n",
       "</style>\n",
       "<table border=\"1\" class=\"dataframe\">\n",
       "  <thead>\n",
       "    <tr style=\"text-align: right;\">\n",
       "      <th></th>\n",
       "      <th>variables</th>\n",
       "      <th>VIF</th>\n",
       "    </tr>\n",
       "  </thead>\n",
       "  <tbody>\n",
       "    <tr>\n",
       "      <th>0</th>\n",
       "      <td>LotFrontage</td>\n",
       "      <td>1.388786</td>\n",
       "    </tr>\n",
       "    <tr>\n",
       "      <th>1</th>\n",
       "      <td>LotArea</td>\n",
       "      <td>1.242212</td>\n",
       "    </tr>\n",
       "    <tr>\n",
       "      <th>2</th>\n",
       "      <td>MasVnrArea</td>\n",
       "      <td>1.376748</td>\n",
       "    </tr>\n",
       "    <tr>\n",
       "      <th>3</th>\n",
       "      <td>BsmtFinSF1</td>\n",
       "      <td>inf</td>\n",
       "    </tr>\n",
       "    <tr>\n",
       "      <th>4</th>\n",
       "      <td>BsmtFinSF2</td>\n",
       "      <td>inf</td>\n",
       "    </tr>\n",
       "    <tr>\n",
       "      <th>5</th>\n",
       "      <td>BsmtUnfSF</td>\n",
       "      <td>inf</td>\n",
       "    </tr>\n",
       "    <tr>\n",
       "      <th>6</th>\n",
       "      <td>TotalBsmtSF</td>\n",
       "      <td>inf</td>\n",
       "    </tr>\n",
       "    <tr>\n",
       "      <th>7</th>\n",
       "      <td>1stFlrSF</td>\n",
       "      <td>inf</td>\n",
       "    </tr>\n",
       "    <tr>\n",
       "      <th>8</th>\n",
       "      <td>2ndFlrSF</td>\n",
       "      <td>inf</td>\n",
       "    </tr>\n",
       "    <tr>\n",
       "      <th>9</th>\n",
       "      <td>LowQualFinSF</td>\n",
       "      <td>inf</td>\n",
       "    </tr>\n",
       "    <tr>\n",
       "      <th>10</th>\n",
       "      <td>GrLivArea</td>\n",
       "      <td>inf</td>\n",
       "    </tr>\n",
       "    <tr>\n",
       "      <th>11</th>\n",
       "      <td>BsmtFullBath</td>\n",
       "      <td>2.174263</td>\n",
       "    </tr>\n",
       "    <tr>\n",
       "      <th>12</th>\n",
       "      <td>BsmtHalfBath</td>\n",
       "      <td>1.129933</td>\n",
       "    </tr>\n",
       "    <tr>\n",
       "      <th>13</th>\n",
       "      <td>FullBath</td>\n",
       "      <td>2.809515</td>\n",
       "    </tr>\n",
       "    <tr>\n",
       "      <th>14</th>\n",
       "      <td>HalfBath</td>\n",
       "      <td>2.158864</td>\n",
       "    </tr>\n",
       "    <tr>\n",
       "      <th>15</th>\n",
       "      <td>TotRmsAbvGrd</td>\n",
       "      <td>3.553258</td>\n",
       "    </tr>\n",
       "    <tr>\n",
       "      <th>16</th>\n",
       "      <td>Fireplaces</td>\n",
       "      <td>1.485750</td>\n",
       "    </tr>\n",
       "    <tr>\n",
       "      <th>17</th>\n",
       "      <td>GarageCars</td>\n",
       "      <td>5.466383</td>\n",
       "    </tr>\n",
       "    <tr>\n",
       "      <th>18</th>\n",
       "      <td>GarageArea</td>\n",
       "      <td>5.396975</td>\n",
       "    </tr>\n",
       "    <tr>\n",
       "      <th>19</th>\n",
       "      <td>WoodDeckSF</td>\n",
       "      <td>1.202659</td>\n",
       "    </tr>\n",
       "    <tr>\n",
       "      <th>20</th>\n",
       "      <td>OpenPorchSF</td>\n",
       "      <td>1.205412</td>\n",
       "    </tr>\n",
       "    <tr>\n",
       "      <th>21</th>\n",
       "      <td>EnclosedPorch</td>\n",
       "      <td>1.251917</td>\n",
       "    </tr>\n",
       "    <tr>\n",
       "      <th>22</th>\n",
       "      <td>3SsnPorch</td>\n",
       "      <td>1.019527</td>\n",
       "    </tr>\n",
       "    <tr>\n",
       "      <th>23</th>\n",
       "      <td>ScreenPorch</td>\n",
       "      <td>1.104128</td>\n",
       "    </tr>\n",
       "    <tr>\n",
       "      <th>24</th>\n",
       "      <td>PoolArea</td>\n",
       "      <td>1.093854</td>\n",
       "    </tr>\n",
       "    <tr>\n",
       "      <th>25</th>\n",
       "      <td>MiscVal</td>\n",
       "      <td>1.013563</td>\n",
       "    </tr>\n",
       "    <tr>\n",
       "      <th>26</th>\n",
       "      <td>YearBuilt</td>\n",
       "      <td>4.207853</td>\n",
       "    </tr>\n",
       "    <tr>\n",
       "      <th>27</th>\n",
       "      <td>YearRemodAdd</td>\n",
       "      <td>1.852250</td>\n",
       "    </tr>\n",
       "    <tr>\n",
       "      <th>28</th>\n",
       "      <td>GarageYrBlt</td>\n",
       "      <td>3.270472</td>\n",
       "    </tr>\n",
       "  </tbody>\n",
       "</table>\n",
       "</div>"
      ],
      "text/plain": [
       "        variables       VIF\n",
       "0     LotFrontage  1.388786\n",
       "1         LotArea  1.242212\n",
       "2      MasVnrArea  1.376748\n",
       "3      BsmtFinSF1       inf\n",
       "4      BsmtFinSF2       inf\n",
       "5       BsmtUnfSF       inf\n",
       "6     TotalBsmtSF       inf\n",
       "7        1stFlrSF       inf\n",
       "8        2ndFlrSF       inf\n",
       "9    LowQualFinSF       inf\n",
       "10      GrLivArea       inf\n",
       "11   BsmtFullBath  2.174263\n",
       "12   BsmtHalfBath  1.129933\n",
       "13       FullBath  2.809515\n",
       "14       HalfBath  2.158864\n",
       "15   TotRmsAbvGrd  3.553258\n",
       "16     Fireplaces  1.485750\n",
       "17     GarageCars  5.466383\n",
       "18     GarageArea  5.396975\n",
       "19     WoodDeckSF  1.202659\n",
       "20    OpenPorchSF  1.205412\n",
       "21  EnclosedPorch  1.251917\n",
       "22      3SsnPorch  1.019527\n",
       "23    ScreenPorch  1.104128\n",
       "24       PoolArea  1.093854\n",
       "25        MiscVal  1.013563\n",
       "26      YearBuilt  4.207853\n",
       "27   YearRemodAdd  1.852250\n",
       "28    GarageYrBlt  3.270472"
      ]
     },
     "execution_count": 47,
     "metadata": {},
     "output_type": "execute_result"
    }
   ],
   "source": [
    "calc_vif(f_data[continuous_features])"
   ]
  },
  {
   "cell_type": "markdown",
   "metadata": {},
   "source": [
    "BsmtFinSF1,BsmtFinSF2,BsmtUnfSF加起来应等于TotalBsmtSF, 所以有infinite的VIF。同理，地上面积也是。"
   ]
  },
  {
   "cell_type": "code",
   "execution_count": 48,
   "metadata": {},
   "outputs": [
    {
     "name": "stdout",
     "output_type": "stream",
     "text": [
      "['LotFrontage', 'LotArea', 'MasVnrArea', 'TotalBsmtSF', 'GrLivArea', 'BsmtFullBath', 'BsmtHalfBath', 'FullBath', 'HalfBath', 'TotRmsAbvGrd', 'Fireplaces', 'GarageCars', 'WoodDeckSF', 'OpenPorchSF', 'EnclosedPorch', '3SsnPorch', 'ScreenPorch', 'PoolArea', 'MiscVal', 'YearBuilt', 'YearRemodAdd', 'GarageYrBlt']\n"
     ]
    }
   ],
   "source": [
    "features = [x for x in continuous_features if x not in ['BsmtFinSF1','BsmtFinSF2','BsmtUnfSF',\n",
    "                                                       '1stFlrSF','2ndFlrSF','LowQualFinSF','GarageArea']]\n",
    "print(features)"
   ]
  },
  {
   "cell_type": "code",
   "execution_count": 49,
   "metadata": {},
   "outputs": [
    {
     "data": {
      "text/html": [
       "<div>\n",
       "<style scoped>\n",
       "    .dataframe tbody tr th:only-of-type {\n",
       "        vertical-align: middle;\n",
       "    }\n",
       "\n",
       "    .dataframe tbody tr th {\n",
       "        vertical-align: top;\n",
       "    }\n",
       "\n",
       "    .dataframe thead th {\n",
       "        text-align: right;\n",
       "    }\n",
       "</style>\n",
       "<table border=\"1\" class=\"dataframe\">\n",
       "  <thead>\n",
       "    <tr style=\"text-align: right;\">\n",
       "      <th></th>\n",
       "      <th>variables</th>\n",
       "      <th>VIF</th>\n",
       "    </tr>\n",
       "  </thead>\n",
       "  <tbody>\n",
       "    <tr>\n",
       "      <th>0</th>\n",
       "      <td>LotFrontage</td>\n",
       "      <td>1.355985</td>\n",
       "    </tr>\n",
       "    <tr>\n",
       "      <th>1</th>\n",
       "      <td>LotArea</td>\n",
       "      <td>1.235620</td>\n",
       "    </tr>\n",
       "    <tr>\n",
       "      <th>2</th>\n",
       "      <td>MasVnrArea</td>\n",
       "      <td>1.343406</td>\n",
       "    </tr>\n",
       "    <tr>\n",
       "      <th>3</th>\n",
       "      <td>TotalBsmtSF</td>\n",
       "      <td>2.096106</td>\n",
       "    </tr>\n",
       "    <tr>\n",
       "      <th>4</th>\n",
       "      <td>GrLivArea</td>\n",
       "      <td>6.310454</td>\n",
       "    </tr>\n",
       "    <tr>\n",
       "      <th>5</th>\n",
       "      <td>BsmtFullBath</td>\n",
       "      <td>1.265234</td>\n",
       "    </tr>\n",
       "    <tr>\n",
       "      <th>6</th>\n",
       "      <td>BsmtHalfBath</td>\n",
       "      <td>1.056730</td>\n",
       "    </tr>\n",
       "    <tr>\n",
       "      <th>7</th>\n",
       "      <td>FullBath</td>\n",
       "      <td>2.727080</td>\n",
       "    </tr>\n",
       "    <tr>\n",
       "      <th>8</th>\n",
       "      <td>HalfBath</td>\n",
       "      <td>1.754888</td>\n",
       "    </tr>\n",
       "    <tr>\n",
       "      <th>9</th>\n",
       "      <td>TotRmsAbvGrd</td>\n",
       "      <td>3.468649</td>\n",
       "    </tr>\n",
       "    <tr>\n",
       "      <th>10</th>\n",
       "      <td>Fireplaces</td>\n",
       "      <td>1.444383</td>\n",
       "    </tr>\n",
       "    <tr>\n",
       "      <th>11</th>\n",
       "      <td>GarageCars</td>\n",
       "      <td>1.855043</td>\n",
       "    </tr>\n",
       "    <tr>\n",
       "      <th>12</th>\n",
       "      <td>WoodDeckSF</td>\n",
       "      <td>1.196605</td>\n",
       "    </tr>\n",
       "    <tr>\n",
       "      <th>13</th>\n",
       "      <td>OpenPorchSF</td>\n",
       "      <td>1.196227</td>\n",
       "    </tr>\n",
       "    <tr>\n",
       "      <th>14</th>\n",
       "      <td>EnclosedPorch</td>\n",
       "      <td>1.240720</td>\n",
       "    </tr>\n",
       "    <tr>\n",
       "      <th>15</th>\n",
       "      <td>3SsnPorch</td>\n",
       "      <td>1.016671</td>\n",
       "    </tr>\n",
       "    <tr>\n",
       "      <th>16</th>\n",
       "      <td>ScreenPorch</td>\n",
       "      <td>1.096479</td>\n",
       "    </tr>\n",
       "    <tr>\n",
       "      <th>17</th>\n",
       "      <td>PoolArea</td>\n",
       "      <td>1.085884</td>\n",
       "    </tr>\n",
       "    <tr>\n",
       "      <th>18</th>\n",
       "      <td>MiscVal</td>\n",
       "      <td>1.010297</td>\n",
       "    </tr>\n",
       "    <tr>\n",
       "      <th>19</th>\n",
       "      <td>YearBuilt</td>\n",
       "      <td>4.075002</td>\n",
       "    </tr>\n",
       "    <tr>\n",
       "      <th>20</th>\n",
       "      <td>YearRemodAdd</td>\n",
       "      <td>1.827595</td>\n",
       "    </tr>\n",
       "    <tr>\n",
       "      <th>21</th>\n",
       "      <td>GarageYrBlt</td>\n",
       "      <td>3.036609</td>\n",
       "    </tr>\n",
       "  </tbody>\n",
       "</table>\n",
       "</div>"
      ],
      "text/plain": [
       "        variables       VIF\n",
       "0     LotFrontage  1.355985\n",
       "1         LotArea  1.235620\n",
       "2      MasVnrArea  1.343406\n",
       "3     TotalBsmtSF  2.096106\n",
       "4       GrLivArea  6.310454\n",
       "5    BsmtFullBath  1.265234\n",
       "6    BsmtHalfBath  1.056730\n",
       "7        FullBath  2.727080\n",
       "8        HalfBath  1.754888\n",
       "9    TotRmsAbvGrd  3.468649\n",
       "10     Fireplaces  1.444383\n",
       "11     GarageCars  1.855043\n",
       "12     WoodDeckSF  1.196605\n",
       "13    OpenPorchSF  1.196227\n",
       "14  EnclosedPorch  1.240720\n",
       "15      3SsnPorch  1.016671\n",
       "16    ScreenPorch  1.096479\n",
       "17       PoolArea  1.085884\n",
       "18        MiscVal  1.010297\n",
       "19      YearBuilt  4.075002\n",
       "20   YearRemodAdd  1.827595\n",
       "21    GarageYrBlt  3.036609"
      ]
     },
     "execution_count": 49,
     "metadata": {},
     "output_type": "execute_result"
    }
   ],
   "source": [
    "calc_vif(f_data[features])"
   ]
  },
  {
   "cell_type": "code",
   "execution_count": 50,
   "metadata": {},
   "outputs": [
    {
     "name": "stdout",
     "output_type": "stream",
     "text": [
      "Correlation with SalePrice:\n",
      "\n",
      "LotFrontage      0.334901\n",
      "LotArea          0.263843\n",
      "MasVnrArea       0.475241\n",
      "TotalBsmtSF      0.613581\n",
      "GrLivArea        0.708624\n",
      "BsmtFullBath     0.227122\n",
      "BsmtHalfBath    -0.016844\n",
      "FullBath         0.560664\n",
      "HalfBath         0.284108\n",
      "TotRmsAbvGrd     0.533723\n",
      "Fireplaces       0.466929\n",
      "GarageCars       0.640409\n",
      "WoodDeckSF       0.324413\n",
      "OpenPorchSF      0.315856\n",
      "EnclosedPorch   -0.128578\n",
      "3SsnPorch        0.044584\n",
      "ScreenPorch      0.111447\n",
      "PoolArea         0.092404\n",
      "MiscVal         -0.021190\n",
      "YearBuilt        0.522897\n",
      "YearRemodAdd     0.507101\n",
      "GarageYrBlt      0.470177\n",
      "dtype: float64\n"
     ]
    }
   ],
   "source": [
    "print(\"Correlation with SalePrice:\\n\")\n",
    "print(f_data[features].corrwith(y))"
   ]
  },
  {
   "cell_type": "code",
   "execution_count": 51,
   "metadata": {},
   "outputs": [],
   "source": [
    "low_corr_cols = f_data[features].corrwith(y)[abs(f_data[features].corrwith(y))<0.3].index.tolist()"
   ]
  },
  {
   "cell_type": "code",
   "execution_count": 52,
   "metadata": {},
   "outputs": [],
   "source": [
    "features = [col for col in features if col not in low_corr_cols]"
   ]
  },
  {
   "cell_type": "code",
   "execution_count": 53,
   "metadata": {},
   "outputs": [
    {
     "name": "stdout",
     "output_type": "stream",
     "text": [
      "                   PC1       PC2       PC3       PC4       PC5       PC6  \\\n",
      "LotFrontage   0.185914  0.282191  0.259016  0.469103 -0.097846  0.613222   \n",
      "MasVnrArea    0.241506  0.068000  0.324856  0.034944 -0.349675 -0.640514   \n",
      "TotalBsmtSF   0.297174  0.069536  0.370741  0.273055  0.114475  0.014024   \n",
      "GrLivArea     0.353598  0.360844 -0.205445 -0.136239 -0.056682 -0.003278   \n",
      "FullBath      0.342267  0.003698 -0.373684 -0.173806 -0.173595  0.048550   \n",
      "TotRmsAbvGrd  0.289748  0.389828 -0.342897 -0.197954 -0.176398  0.087156   \n",
      "Fireplaces    0.215008  0.300278  0.281565 -0.084854  0.242379 -0.230271   \n",
      "GarageCars    0.339461 -0.081035  0.108990  0.055727 -0.147053  0.009396   \n",
      "WoodDeckSF    0.172483 -0.028969  0.373351 -0.659962  0.447610  0.228573   \n",
      "OpenPorchSF   0.189374  0.052467 -0.348463  0.403750  0.707272 -0.274433   \n",
      "YearBuilt     0.310117 -0.438207  0.099616  0.079740 -0.063216 -0.002309   \n",
      "YearRemodAdd  0.284359 -0.355533 -0.156203 -0.022302  0.062546  0.142825   \n",
      "GarageYrBlt   0.297586 -0.458221 -0.064870  0.021958 -0.041432  0.049635   \n",
      "\n",
      "                   PC7       PC8       PC9      PC10      PC11      PC12  \\\n",
      "LotFrontage   0.145810 -0.349625  0.214783 -0.116389  0.089585  0.039946   \n",
      "MasVnrArea    0.411067 -0.203281  0.260449  0.044395  0.104913  0.041535   \n",
      "TotalBsmtSF   0.057445  0.806988 -0.108804  0.025973  0.005416  0.037434   \n",
      "GrLivArea     0.039080  0.097050  0.032747  0.082353 -0.149580  0.067064   \n",
      "FullBath     -0.046539  0.113554 -0.021296 -0.455013  0.652978  0.107015   \n",
      "TotRmsAbvGrd  0.095044  0.038992  0.007236  0.102040 -0.458043 -0.249969   \n",
      "Fireplaces   -0.752184 -0.171628  0.188825 -0.124999 -0.035100  0.078166   \n",
      "GarageCars   -0.135463 -0.280112 -0.754834  0.390929  0.127959  0.066000   \n",
      "WoodDeckSF    0.350182 -0.108839 -0.029336 -0.037156  0.061960 -0.014565   \n",
      "OpenPorchSF   0.240995 -0.177963 -0.070515 -0.031527  0.035657 -0.039499   \n",
      "YearBuilt    -0.101822 -0.064570 -0.005710 -0.324008 -0.165583 -0.717727   \n",
      "YearRemodAdd -0.135766  0.044407  0.508963  0.646289  0.207488 -0.030353   \n",
      "GarageYrBlt   0.009983 -0.061637  0.047750 -0.257065 -0.478743  0.623340   \n",
      "\n",
      "                  PC13  \n",
      "LotFrontage  -0.015651  \n",
      "MasVnrArea   -0.070227  \n",
      "TotalBsmtSF  -0.114326  \n",
      "GrLivArea     0.796929  \n",
      "FullBath     -0.141828  \n",
      "TotRmsAbvGrd -0.524688  \n",
      "Fireplaces   -0.107212  \n",
      "GarageCars   -0.036886  \n",
      "WoodDeckSF   -0.033230  \n",
      "OpenPorchSF  -0.053389  \n",
      "YearBuilt     0.171518  \n",
      "YearRemodAdd -0.049184  \n",
      "GarageYrBlt  -0.050966  \n"
     ]
    }
   ],
   "source": [
    "X0 = f_data.loc[:, features] # X0 are the features for PCA\n",
    "\n",
    "# `apply_pca`, defined above, reproduces the code from the tutorial\n",
    "pca, X_pca, loadings = apply_pca(X0)\n",
    "print(loadings)"
   ]
  },
  {
   "cell_type": "code",
   "execution_count": 54,
   "metadata": {},
   "outputs": [
    {
     "data": {
      "image/png": "[encoded data removed]",
      "text/plain": [
       "<Figure size 432x288 with 1 Axes>"
      ]
     },
     "metadata": {
      "needs_background": "light"
     },
     "output_type": "display_data"
    }
   ],
   "source": [
    "#绘制碎石图确定维度\n",
    "from sklearn import decomposition\n",
    "def nd_confirm(data,n):\n",
    "    std = []\n",
    "    for i in range(1,n):\n",
    "        pca = decomposition.PCA(n_components=i)\n",
    "        pca.fit(data)\n",
    "        std.append(np.sum(pca.explained_variance_ratio_))\n",
    "    # return std\n",
    "    x = range(1,n)\n",
    "    plt.plot(x,std,'-o',color='#00e079')\n",
    "    plt.xlabel('dimensions')\n",
    "    plt.ylabel('culmulative variance contribution')\n",
    "    plt.show()\n",
    "nd_confirm(X0,13)"
   ]
  },
  {
   "cell_type": "code",
   "execution_count": 55,
   "metadata": {},
   "outputs": [],
   "source": [
    "# select first 3 dimensions (already cover 95%+)\n",
    "for i in range(1,4):\n",
    "    X0['PC'+str(i)]=0.0\n",
    "    for j in range(0, len(loadings['PC1'])):\n",
    "        if X0['PC'+str(i)].empty:\n",
    "            X0['PC'+str(i)].append(loadings['PC'+str(i)][features[j]]*X0[features[j]])\n",
    "        else:\n",
    "            X0['PC'+str(i)]=X0['PC'+str(i)]+loadings['PC'+str(i)][features[j]]*X0[features[j]]\n",
    "#             print(ld[features[j]]*X0[features[j]])"
   ]
  },
  {
   "cell_type": "code",
   "execution_count": 56,
   "metadata": {},
   "outputs": [],
   "source": [
    "categorical_features = [col for col in mi_scores.head(20).index.tolist() \n",
    "                        if col not in continuous_features]\n",
    "temp = [col for col in low_mi_features\n",
    "                        if col not in continuous_features and col not in ['Functional', 'Utilities']]\n",
    "categorical_features = categorical_features+temp\n",
    "# print(categorical_features)"
   ]
  },
  {
   "cell_type": "code",
   "execution_count": 57,
   "metadata": {},
   "outputs": [
    {
     "name": "stdout",
     "output_type": "stream",
     "text": [
      "['OverallQual', 'Neighborhood', 'ExterQual', 'KitchenQual', 'BsmtQual', 'MSSubClass', 'GarageFinish', 'Foundation', 'BldgType', 'CentralAir', 'Electrical', 'HeatingQC', 'LotShape', 'MSZoning', 'Street', 'PC1', 'PC2', 'PC3']\n"
     ]
    }
   ],
   "source": [
    "selected_features = categorical_features + ['PC1','PC2','PC3']\n",
    "print(selected_features)"
   ]
  },
  {
   "cell_type": "code",
   "execution_count": 58,
   "metadata": {},
   "outputs": [],
   "source": [
    "X_final = pd.concat([f_data.loc[:,categorical_features], X0[['PC1','PC2','PC3']]], axis=1, ignore_index=False)"
   ]
  },
  {
   "cell_type": "code",
   "execution_count": 59,
   "metadata": {},
   "outputs": [],
   "source": [
    "dummied_cat_cols = []\n",
    "for col in categorical_features:\n",
    "    if col in dummied_data.columns:\n",
    "        dummied_cat_cols.append(col)\n",
    "    else:\n",
    "        for col2 in dummied_data:\n",
    "            if col2.startswith(col):\n",
    "                dummied_cat_cols.append(col2)"
   ]
  },
  {
   "cell_type": "code",
   "execution_count": 60,
   "metadata": {},
   "outputs": [
    {
     "name": "stdout",
     "output_type": "stream",
     "text": [
      "OverallQual\n",
      "OverallCond\n"
     ]
    }
   ],
   "source": [
    "for col in dummied_data:\n",
    "    if dummied_data[col].dtypes == 'object':\n",
    "        print(col)\n",
    "        dummied_data[col]=dummied_data[col].astype(float)"
   ]
  },
  {
   "cell_type": "code",
   "execution_count": 61,
   "metadata": {},
   "outputs": [
    {
     "name": "stdout",
     "output_type": "stream",
     "text": [
      "float64\n"
     ]
    }
   ],
   "source": [
    "print(dummied_data['OverallQual'].dtypes)"
   ]
  },
  {
   "cell_type": "code",
   "execution_count": 62,
   "metadata": {},
   "outputs": [],
   "source": [
    "dummied_X_final = pd.concat([dummied_data.loc[:,dummied_cat_cols], X0[['PC1','PC2','PC3']]], axis=1, ignore_index=False)"
   ]
  },
  {
   "cell_type": "code",
   "execution_count": 63,
   "metadata": {},
   "outputs": [
    {
     "name": "stdout",
     "output_type": "stream",
     "text": [
      "MAE scores:\n",
      " [19146.42311807 19878.35815068 20501.68236301 22646.42849315\n",
      " 21205.75324201 16215.92260274 15455.5689726  17133.96679224\n",
      " 21513.05474723 18140.76324201]\n"
     ]
    }
   ],
   "source": [
    "from sklearn.model_selection import cross_val_score\n",
    "\n",
    "# Multiply by -1 since sklearn calculates *negative* MAE\n",
    "scores = -1 * cross_val_score(model, dummied_X_final, y,\n",
    "                              cv=10,\n",
    "                              scoring='neg_mean_absolute_error')\n",
    "\n",
    "print(\"MAE scores:\\n\", scores)"
   ]
  },
  {
   "cell_type": "code",
   "execution_count": 64,
   "metadata": {},
   "outputs": [
    {
     "name": "stdout",
     "output_type": "stream",
     "text": [
      "Average MAE score (across experiments):\n",
      "19183.79217237443\n"
     ]
    }
   ],
   "source": [
    "print(\"Average MAE score (across experiments):\")\n",
    "print(scores.mean())"
   ]
  },
  {
   "cell_type": "markdown",
   "metadata": {},
   "source": [
    "# Modeling"
   ]
  },
  {
   "cell_type": "markdown",
   "metadata": {},
   "source": [
    "## Research on models"
   ]
  },
  {
   "cell_type": "code",
   "execution_count": 65,
   "metadata": {},
   "outputs": [
    {
     "data": {
      "text/plain": [
       "<AxesSubplot:xlabel='SalePrice', ylabel='Density'>"
      ]
     },
     "execution_count": 65,
     "metadata": {},
     "output_type": "execute_result"
    },
    {
     "data": {
      "image/png": "[encoded data removed]",
      "text/plain": [
       "<Figure size 432x288 with 1 Axes>"
      ]
     },
     "metadata": {
      "needs_background": "light"
     },
     "output_type": "display_data"
    }
   ],
   "source": [
    "# log target to transform to normal distribution\n",
    "y1 = np.log1p(y)\n",
    "sns.distplot(y1)"
   ]
  },
  {
   "cell_type": "markdown",
   "metadata": {},
   "source": [
    "### XGBoost"
   ]
  },
  {
   "cell_type": "code",
   "execution_count": 66,
   "metadata": {},
   "outputs": [],
   "source": [
    "X_train0, X_valid0, y_train0, y_valid0 = train_test_split(dummied_X_final, y, train_size=0.8, test_size=0.2,\n",
    "                                                      random_state=0, shuffle=False)"
   ]
  },
  {
   "cell_type": "code",
   "execution_count": 67,
   "metadata": {},
   "outputs": [],
   "source": [
    "from sklearn.preprocessing import StandardScaler\n",
    "sc_X = StandardScaler()\n",
    "X_train1 = sc_X.fit_transform(X_train0)\n",
    "X_train1 = pd.DataFrame(X_train1, columns = X_train0.columns)\n",
    "X_valid1 = sc_X.fit_transform(X_valid0)\n",
    "X_valid1 = pd.DataFrame(X_valid1, columns = X_valid0.columns)\n",
    "y_train1 = np.log1p(y_train0)\n",
    "y_valid1 = np.log1p(y_valid0)\n",
    "# print(y_train1)"
   ]
  },
  {
   "cell_type": "code",
   "execution_count": 68,
   "metadata": {},
   "outputs": [],
   "source": [
    "# print(X_train1.columns)"
   ]
  },
  {
   "cell_type": "code",
   "execution_count": 69,
   "metadata": {},
   "outputs": [
    {
     "data": {
      "text/plain": [
       "XGBRegressor(base_score=0.5, booster='gbtree', colsample_bylevel=1,\n",
       "             colsample_bynode=1, colsample_bytree=1, gamma=0, gpu_id=-1,\n",
       "             importance_type='gain', interaction_constraints='',\n",
       "             learning_rate=0.300000012, max_delta_step=0, max_depth=6,\n",
       "             min_child_weight=1, missing=nan, monotone_constraints='()',\n",
       "             n_estimators=100, n_jobs=1, num_parallel_tree=1, random_state=0,\n",
       "             reg_alpha=0, reg_lambda=1, scale_pos_weight=1, subsample=1,\n",
       "             tree_method='exact', validate_parameters=1, verbosity=None)"
      ]
     },
     "execution_count": 69,
     "metadata": {},
     "output_type": "execute_result"
    }
   ],
   "source": [
    "from xgboost import XGBRegressor\n",
    "\n",
    "xgb_naive = XGBRegressor()\n",
    "xgb_naive.fit(X_train1, y_train1)"
   ]
  },
  {
   "cell_type": "code",
   "execution_count": 70,
   "metadata": {},
   "outputs": [
    {
     "name": "stdout",
     "output_type": "stream",
     "text": [
      "Mean Absolute Error: 0.11127041929488145\n"
     ]
    }
   ],
   "source": [
    "print(\"Mean Absolute Error: \" + str(get_mae(X_train1, X_valid1, y_train1, y_valid1,\n",
    "                                        xgb_naive)))"
   ]
  },
  {
   "cell_type": "code",
   "execution_count": 71,
   "metadata": {},
   "outputs": [],
   "source": [
    "from sklearn.model_selection import StratifiedKFold\n",
    "from sklearn.model_selection import GridSearchCV\n",
    "def tuning(model, params):\n",
    "    \n",
    "    n_folds = 10\n",
    "    skf = StratifiedKFold(n_splits=n_folds,random_state=0,shuffle=True)\n",
    "\n",
    "    clf = GridSearchCV(estimator=model,param_grid=params,\n",
    "                       cv=skf.split(X_train0, y_train0),\n",
    "                        verbose=1, n_jobs=-1,\n",
    "                        scoring='neg_mean_absolute_error')\n",
    "    clf.fit(X_train0,y_train0)\n",
    "    print(clf.best_score_)\n",
    "    print(clf.best_params_)"
   ]
  },
  {
   "cell_type": "code",
   "execution_count": 72,
   "metadata": {},
   "outputs": [],
   "source": [
    "# xgb = XGBRegressor(learning_rate=0.1, max_depth=2, n_estimators=800, early_stopping_rounds=30)\n",
    "\n",
    "# params_grid = {'max_depth': [2,4,6,8],\n",
    "#                     'n_estimators': [50,100,200,400,600,800,1000],\n",
    "#                     'early_stopping_rounds':[30],\n",
    "#                     'eval_set':[[(X_valid0, y_valid0)]],\n",
    "#               'learning_rate':[0.1,0.05,0.01,0.001]}\n",
    "\n",
    "# tuning(xgb, params_grid)"
   ]
  },
  {
   "cell_type": "code",
   "execution_count": 73,
   "metadata": {},
   "outputs": [],
   "source": [
    "xgb = XGBRegressor(learning_rate=0.1, max_depth=2, n_estimators=800, early_stopping_rounds=30)"
   ]
  },
  {
   "cell_type": "code",
   "execution_count": 74,
   "metadata": {},
   "outputs": [
    {
     "name": "stdout",
     "output_type": "stream",
     "text": [
      "[22:17:39] WARNING: ../src/learner.cc:541: \n",
      "Parameters: { early_stopping_rounds } might not be used.\n",
      "\n",
      "  This may not be accurate due to some parameters are only used in language bindings but\n",
      "  passed down to XGBoost core.  Or some parameters are not used but slip through this\n",
      "  verification. Please open an issue if you find above cases.\n",
      "\n",
      "\n",
      "Mean Absolute Error: 0.10409697501384645\n"
     ]
    }
   ],
   "source": [
    "print(\"Mean Absolute Error: \" + str(get_mae(X_train1, X_valid1, y_train1, y_valid1,\n",
    "                                        xgb)))"
   ]
  },
  {
   "cell_type": "markdown",
   "metadata": {},
   "source": [
    "### Random Forest Tree"
   ]
  },
  {
   "cell_type": "code",
   "execution_count": 75,
   "metadata": {},
   "outputs": [],
   "source": [
    "model = RandomForestRegressor(random_state=0)\n",
    "\n",
    "params_grid = {'max_features': ['sqrt', 'auto'],\n",
    "                    'n_estimators': [200, 400, 600, 800, 1000, 1200, 1400, 1600, 1800, 2000],\n",
    "                    'min_samples_leaf':[1,2,4],\n",
    "                    'max_depth':[0, 20, 40, 60, 80, 100, 150, 200, None],\n",
    "              'bootstrap':[True, False]}\n",
    "# tuning(model, params_grid)"
   ]
  },
  {
   "cell_type": "markdown",
   "metadata": {},
   "source": [
    "### Linear Regression"
   ]
  },
  {
   "cell_type": "markdown",
   "metadata": {},
   "source": [
    "## Predict trainset and submit"
   ]
  },
  {
   "cell_type": "markdown",
   "metadata": {},
   "source": [
    "### Preprocess test data"
   ]
  },
  {
   "cell_type": "code",
   "execution_count": 76,
   "metadata": {},
   "outputs": [],
   "source": [
    "# select features\n",
    "test_data = test_data.loc[:, categorical_features+continuous_features+['Id']]"
   ]
  },
  {
   "cell_type": "code",
   "execution_count": 77,
   "metadata": {},
   "outputs": [],
   "source": [
    "# print(test_data.head())"
   ]
  },
  {
   "cell_type": "code",
   "execution_count": 78,
   "metadata": {},
   "outputs": [],
   "source": [
    "imputed_X_test = impute_missing(test_data,'mean')"
   ]
  },
  {
   "cell_type": "code",
   "execution_count": 79,
   "metadata": {},
   "outputs": [],
   "source": [
    "labeled_test_data = imputed_X_test.copy()\n",
    "labeled_test_data_1 = imputed_X_test.copy()\n",
    "manual_encoding_ordinal(labeled_test_data, labeled_test_data_1)"
   ]
  },
  {
   "cell_type": "code",
   "execution_count": 80,
   "metadata": {},
   "outputs": [],
   "source": [
    "# dummy encoding nominal data\n",
    "nominal_features = [col for col in categorical_features if col not in ordinal_features]\n",
    "dummied_data = pd.get_dummies(labeled_test_data, columns=nominal_features)"
   ]
  },
  {
   "cell_type": "code",
   "execution_count": 81,
   "metadata": {},
   "outputs": [],
   "source": [
    "X1 = dummied_data.loc[:, features]\n",
    "pca, X_pca, loadings = apply_pca(X1)\n",
    "# print(loadings)\n",
    "\n",
    "# select first 3 dimensions (already cover 95%+)\n",
    "for i in range(1,4):\n",
    "    X1['PC'+str(i)]=0.0\n",
    "    for j in range(0, len(loadings['PC1'])):\n",
    "        if X1['PC'+str(i)].empty:\n",
    "            X1['PC'+str(i)].append(loadings['PC'+str(i)][features[j]]*X1[features[j]])\n",
    "        else:\n",
    "            X1['PC'+str(i)]=X1['PC'+str(i)]+loadings['PC'+str(i)][features[j]]*X1[features[j]]\n",
    "#             print(ld[features[j]]*X0[features[j]])"
   ]
  },
  {
   "cell_type": "code",
   "execution_count": 82,
   "metadata": {},
   "outputs": [],
   "source": [
    "dummied_cat_cols = []\n",
    "for col in categorical_features:\n",
    "    if col in dummied_data.columns:\n",
    "        dummied_cat_cols.append(col)\n",
    "    else:\n",
    "        for col2 in dummied_data:\n",
    "            if col2.startswith(col):\n",
    "                dummied_cat_cols.append(col2)"
   ]
  },
  {
   "cell_type": "code",
   "execution_count": 83,
   "metadata": {},
   "outputs": [
    {
     "name": "stdout",
     "output_type": "stream",
     "text": [
      "OverallQual\n"
     ]
    }
   ],
   "source": [
    "for col in dummied_data:\n",
    "    if dummied_data[col].dtypes == 'object':\n",
    "        print(col)\n",
    "        dummied_data[col]=dummied_data[col].astype(float)"
   ]
  },
  {
   "cell_type": "code",
   "execution_count": 84,
   "metadata": {},
   "outputs": [],
   "source": [
    "X_test_final = pd.concat([dummied_data.loc[:,dummied_cat_cols], X1[['PC1','PC2','PC3']]], axis=1, ignore_index=False)"
   ]
  },
  {
   "cell_type": "code",
   "execution_count": 85,
   "metadata": {},
   "outputs": [
    {
     "name": "stdout",
     "output_type": "stream",
     "text": [
      "(1168, 70)\n",
      "(1459, 71)\n"
     ]
    }
   ],
   "source": [
    "print(X_train0.shape)\n",
    "print(X_test_final.shape)"
   ]
  },
  {
   "cell_type": "code",
   "execution_count": 86,
   "metadata": {},
   "outputs": [
    {
     "name": "stdout",
     "output_type": "stream",
     "text": [
      "['MSSubClass_150']\n"
     ]
    }
   ],
   "source": [
    "print([col for col in X_test_final if col not in X_train0])"
   ]
  },
  {
   "cell_type": "code",
   "execution_count": 87,
   "metadata": {},
   "outputs": [],
   "source": [
    "X_test_final = X_test_final.loc[:, X_test_final.columns != 'MSSubClass_150']"
   ]
  },
  {
   "cell_type": "code",
   "execution_count": 88,
   "metadata": {},
   "outputs": [],
   "source": [
    "rft = RandomForestRegressor(random_state=0, bootstrap=True, max_depth=20, max_features='sqrt', min_samples_leaf=1, \n",
    "                            n_estimators=1000)\n",
    "# {'bootstrap': True, 'max_depth': 20, 'max_features': 'sqrt', 'min_samples_leaf': 1, 'n_estimators': 1000}"
   ]
  },
  {
   "cell_type": "code",
   "execution_count": 89,
   "metadata": {},
   "outputs": [],
   "source": [
    "# log transform\n",
    "X_test_final_1 = sc_X.fit_transform(X_test_final)\n",
    "X_test_final_1 = pd.DataFrame(X_test_final_1, columns = X_test_final.columns)"
   ]
  },
  {
   "cell_type": "code",
   "execution_count": 90,
   "metadata": {},
   "outputs": [
    {
     "name": "stdout",
     "output_type": "stream",
     "text": [
      "[22:17:40] WARNING: ../src/learner.cc:541: \n",
      "Parameters: { early_stopping_rounds } might not be used.\n",
      "\n",
      "  This may not be accurate due to some parameters are only used in language bindings but\n",
      "  passed down to XGBoost core.  Or some parameters are not used but slip through this\n",
      "  verification. Please open an issue if you find above cases.\n",
      "\n",
      "\n"
     ]
    }
   ],
   "source": [
    "# Use the model to make predictions\n",
    "# rft.fit(X_train1, y_train1)\n",
    "# preds1 = rft.predict(X_test_final_1)\n",
    "# or use xgb\n",
    "xgb.fit(X_train1, y_train1)\n",
    "preds1 = xgb.predict(X_test_final_1)"
   ]
  },
  {
   "cell_type": "code",
   "execution_count": 91,
   "metadata": {},
   "outputs": [],
   "source": [
    "preds1 = np.expm1(preds1)"
   ]
  },
  {
   "cell_type": "code",
   "execution_count": 92,
   "metadata": {},
   "outputs": [],
   "source": [
    "my_submission = pd.DataFrame({'Id': test_data.Id, 'SalePrice': preds1})\n",
    "# you could use any filename. We choose submission here\n",
    "my_submission.to_csv('submission.csv', index=False)"
   ]
  },
  {
   "cell_type": "markdown",
   "metadata": {},
   "source": [
    "## Test and evaluate models"
   ]
  },
  {
   "cell_type": "markdown",
   "metadata": {},
   "source": [
    "### Data leakage"
   ]
  },
  {
   "cell_type": "markdown",
   "metadata": {},
   "source": []
  },
  {
   "cell_type": "markdown",
   "metadata": {},
   "source": []
  },
  {
   "cell_type": "markdown",
   "metadata": {},
   "source": []
  }
 ],
 "metadata": {
  "kernelspec": {
   "display_name": "Python 3",
   "language": "python",
   "name": "python3"
  },
  "language_info": {
   "codemirror_mode": {
    "name": "ipython",
    "version": 3
   },
   "file_extension": ".py",
   "mimetype": "text/x-python",
   "name": "python",
   "nbconvert_exporter": "python",
   "pygments_lexer": "ipython3",
   "version": "3.8.6"
  },
  "toc": {
   "base_numbering": 1,
   "nav_menu": {},
   "number_sections": true,
   "sideBar": true,
   "skip_h1_title": false,
   "title_cell": "Table of Contents",
   "title_sidebar": "Contents",
   "toc_cell": false,
   "toc_position": {
    "height": "calc(100% - 180px)",
    "left": "10px",
    "top": "150px",
    "width": "219px"
   },
   "toc_section_display": true,
   "toc_window_display": true
  }
 },
 "nbformat": 4,
 "nbformat_minor": 2
}
